{
 "cells": [
  {
   "cell_type": "code",
   "execution_count": 1,
   "id": "09d993ae",
   "metadata": {},
   "outputs": [
    {
     "name": "stdout",
     "output_type": "stream",
     "text": [
      "Requirement already satisfied: tensorflow in c:\\users\\kakin\\appdata\\roaming\\python\\python38\\site-packages (2.6.0)\n",
      "Requirement already satisfied: six~=1.15.0 in c:\\users\\kakin\\anaconda3\\lib\\site-packages (from tensorflow) (1.15.0)\n",
      "Requirement already satisfied: wheel~=0.35 in c:\\users\\kakin\\anaconda3\\lib\\site-packages (from tensorflow) (0.36.2)\n",
      "Requirement already satisfied: grpcio<2.0,>=1.37.0 in c:\\users\\kakin\\appdata\\roaming\\python\\python38\\site-packages (from tensorflow) (1.41.0)\n",
      "Requirement already satisfied: tensorflow-estimator~=2.6 in c:\\users\\kakin\\appdata\\roaming\\python\\python38\\site-packages (from tensorflow) (2.6.0)\n",
      "Requirement already satisfied: flatbuffers~=1.12.0 in c:\\users\\kakin\\appdata\\roaming\\python\\python38\\site-packages (from tensorflow) (1.12)\n",
      "Requirement already satisfied: keras~=2.6 in c:\\users\\kakin\\appdata\\roaming\\python\\python38\\site-packages (from tensorflow) (2.6.0)\n",
      "Requirement already satisfied: opt-einsum~=3.3.0 in c:\\users\\kakin\\appdata\\roaming\\python\\python38\\site-packages (from tensorflow) (3.3.0)\n",
      "Requirement already satisfied: google-pasta~=0.2 in c:\\users\\kakin\\appdata\\roaming\\python\\python38\\site-packages (from tensorflow) (0.2.0)\n",
      "Requirement already satisfied: numpy~=1.19.2 in c:\\users\\kakin\\anaconda3\\lib\\site-packages (from tensorflow) (1.19.5)\n",
      "Requirement already satisfied: astunparse~=1.6.3 in c:\\users\\kakin\\appdata\\roaming\\python\\python38\\site-packages (from tensorflow) (1.6.3)\n",
      "Requirement already satisfied: protobuf>=3.9.2 in c:\\users\\kakin\\anaconda3\\lib\\site-packages (from tensorflow) (3.18.1)\n",
      "Requirement already satisfied: termcolor~=1.1.0 in c:\\users\\kakin\\appdata\\roaming\\python\\python38\\site-packages (from tensorflow) (1.1.0)\n",
      "Requirement already satisfied: clang~=5.0 in c:\\users\\kakin\\appdata\\roaming\\python\\python38\\site-packages (from tensorflow) (5.0)\n",
      "Requirement already satisfied: wrapt~=1.12.1 in c:\\users\\kakin\\anaconda3\\lib\\site-packages (from tensorflow) (1.12.1)\n",
      "Requirement already satisfied: h5py~=3.1.0 in c:\\users\\kakin\\appdata\\roaming\\python\\python38\\site-packages (from tensorflow) (3.1.0)\n",
      "Requirement already satisfied: absl-py~=0.10 in c:\\users\\kakin\\appdata\\roaming\\python\\python38\\site-packages (from tensorflow) (0.14.1)\n",
      "Requirement already satisfied: gast==0.4.0 in c:\\users\\kakin\\appdata\\roaming\\python\\python38\\site-packages (from tensorflow) (0.4.0)\n",
      "Requirement already satisfied: keras-preprocessing~=1.1.2 in c:\\users\\kakin\\appdata\\roaming\\python\\python38\\site-packages (from tensorflow) (1.1.2)\n",
      "Requirement already satisfied: tensorboard~=2.6 in c:\\users\\kakin\\appdata\\roaming\\python\\python38\\site-packages (from tensorflow) (2.7.0)\n",
      "Requirement already satisfied: typing-extensions~=3.7.4 in c:\\users\\kakin\\anaconda3\\lib\\site-packages (from tensorflow) (3.7.4.3)\n",
      "Requirement already satisfied: tensorboard-data-server<0.7.0,>=0.6.0 in c:\\users\\kakin\\anaconda3\\lib\\site-packages (from tensorboard~=2.6->tensorflow) (0.6.1)\n",
      "Requirement already satisfied: tensorboard-plugin-wit>=1.6.0 in c:\\users\\kakin\\anaconda3\\lib\\site-packages (from tensorboard~=2.6->tensorflow) (1.8.0)\n",
      "Requirement already satisfied: google-auth<3,>=1.6.3 in c:\\users\\kakin\\anaconda3\\lib\\site-packages (from tensorboard~=2.6->tensorflow) (2.3.0)\n",
      "Requirement already satisfied: setuptools>=41.0.0 in c:\\users\\kakin\\anaconda3\\lib\\site-packages (from tensorboard~=2.6->tensorflow) (52.0.0.post20210125)\n",
      "Requirement already satisfied: google-auth-oauthlib<0.5,>=0.4.1 in c:\\users\\kakin\\appdata\\roaming\\python\\python38\\site-packages (from tensorboard~=2.6->tensorflow) (0.4.6)\n",
      "Requirement already satisfied: requests<3,>=2.21.0 in c:\\users\\kakin\\anaconda3\\lib\\site-packages (from tensorboard~=2.6->tensorflow) (2.25.1)\n",
      "Requirement already satisfied: markdown>=2.6.8 in c:\\users\\kakin\\appdata\\roaming\\python\\python38\\site-packages (from tensorboard~=2.6->tensorflow) (3.3.4)\n",
      "Requirement already satisfied: werkzeug>=0.11.15 in c:\\users\\kakin\\anaconda3\\lib\\site-packages (from tensorboard~=2.6->tensorflow) (1.0.1)\n",
      "Requirement already satisfied: rsa<5,>=3.1.4 in c:\\users\\kakin\\anaconda3\\lib\\site-packages (from google-auth<3,>=1.6.3->tensorboard~=2.6->tensorflow) (4.7.2)\n",
      "Requirement already satisfied: cachetools<5.0,>=2.0.0 in c:\\users\\kakin\\anaconda3\\lib\\site-packages (from google-auth<3,>=1.6.3->tensorboard~=2.6->tensorflow) (4.2.4)\n",
      "Requirement already satisfied: pyasn1-modules>=0.2.1 in c:\\users\\kakin\\anaconda3\\lib\\site-packages (from google-auth<3,>=1.6.3->tensorboard~=2.6->tensorflow) (0.2.8)\n",
      "Requirement already satisfied: requests-oauthlib>=0.7.0 in c:\\users\\kakin\\anaconda3\\lib\\site-packages (from google-auth-oauthlib<0.5,>=0.4.1->tensorboard~=2.6->tensorflow) (1.3.0)\n",
      "Requirement already satisfied: pyasn1<0.5.0,>=0.4.6 in c:\\users\\kakin\\anaconda3\\lib\\site-packages (from pyasn1-modules>=0.2.1->google-auth<3,>=1.6.3->tensorboard~=2.6->tensorflow) (0.4.8)\n",
      "Requirement already satisfied: idna<3,>=2.5 in c:\\users\\kakin\\anaconda3\\lib\\site-packages (from requests<3,>=2.21.0->tensorboard~=2.6->tensorflow) (2.10)\n",
      "Requirement already satisfied: chardet<5,>=3.0.2 in c:\\users\\kakin\\anaconda3\\lib\\site-packages (from requests<3,>=2.21.0->tensorboard~=2.6->tensorflow) (4.0.0)\n",
      "Requirement already satisfied: certifi>=2017.4.17 in c:\\users\\kakin\\anaconda3\\lib\\site-packages (from requests<3,>=2.21.0->tensorboard~=2.6->tensorflow) (2020.12.5)\n",
      "Requirement already satisfied: urllib3<1.27,>=1.21.1 in c:\\users\\kakin\\anaconda3\\lib\\site-packages (from requests<3,>=2.21.0->tensorboard~=2.6->tensorflow) (1.26.4)\n",
      "Requirement already satisfied: oauthlib>=3.0.0 in c:\\users\\kakin\\anaconda3\\lib\\site-packages (from requests-oauthlib>=0.7.0->google-auth-oauthlib<0.5,>=0.4.1->tensorboard~=2.6->tensorflow) (3.1.1)\n"
     ]
    }
   ],
   "source": [
    "!pip install --user tensorflow"
   ]
  },
  {
   "cell_type": "code",
   "execution_count": 2,
   "id": "e97e2502",
   "metadata": {},
   "outputs": [],
   "source": [
    "import pandas as pd\n",
    "import matplotlib.pyplot as plt\n",
    "import numpy as np\n",
    "from statsmodels.tsa.stattools import adfuller\n",
    "from numpy import log\n",
    "from pandas.plotting import autocorrelation_plot\n",
    "from tensorflow.keras import Sequential\n",
    "from tensorflow.keras.layers import Dense, LSTM, Dropout\n",
    "from sklearn.preprocessing import MinMaxScaler\n",
    "from keras.layers import Dense, Embedding "
   ]
  },
  {
   "cell_type": "code",
   "execution_count": 3,
   "id": "ed790d7f",
   "metadata": {},
   "outputs": [],
   "source": [
    "df = pd.read_csv('BTCUSD_1min.csv')"
   ]
  },
  {
   "cell_type": "code",
   "execution_count": 4,
   "id": "7df85d8a",
   "metadata": {},
   "outputs": [
    {
     "data": {
      "text/html": [
       "<div>\n",
       "<style scoped>\n",
       "    .dataframe tbody tr th:only-of-type {\n",
       "        vertical-align: middle;\n",
       "    }\n",
       "\n",
       "    .dataframe tbody tr th {\n",
       "        vertical-align: top;\n",
       "    }\n",
       "\n",
       "    .dataframe thead th {\n",
       "        text-align: right;\n",
       "    }\n",
       "</style>\n",
       "<table border=\"1\" class=\"dataframe\">\n",
       "  <thead>\n",
       "    <tr style=\"text-align: right;\">\n",
       "      <th></th>\n",
       "      <th>Unix Timestamp</th>\n",
       "      <th>Date</th>\n",
       "      <th>Symbol</th>\n",
       "      <th>Open</th>\n",
       "      <th>High</th>\n",
       "      <th>Low</th>\n",
       "      <th>Close</th>\n",
       "      <th>Volume</th>\n",
       "    </tr>\n",
       "  </thead>\n",
       "  <tbody>\n",
       "    <tr>\n",
       "      <th>0</th>\n",
       "      <td>1586390400000</td>\n",
       "      <td>2020-04-09 00:00:00</td>\n",
       "      <td>BTCUSD</td>\n",
       "      <td>7369.60</td>\n",
       "      <td>7369.60</td>\n",
       "      <td>7348.47</td>\n",
       "      <td>7350.41</td>\n",
       "      <td>7.733528</td>\n",
       "    </tr>\n",
       "    <tr>\n",
       "      <th>1</th>\n",
       "      <td>1586390340000</td>\n",
       "      <td>2020-04-08 23:59:00</td>\n",
       "      <td>BTCUSD</td>\n",
       "      <td>7364.37</td>\n",
       "      <td>7369.60</td>\n",
       "      <td>7364.37</td>\n",
       "      <td>7369.60</td>\n",
       "      <td>1.310954</td>\n",
       "    </tr>\n",
       "    <tr>\n",
       "      <th>2</th>\n",
       "      <td>1586390280000</td>\n",
       "      <td>2020-04-08 23:58:00</td>\n",
       "      <td>BTCUSD</td>\n",
       "      <td>7360.89</td>\n",
       "      <td>7367.18</td>\n",
       "      <td>7360.89</td>\n",
       "      <td>7364.37</td>\n",
       "      <td>1.018774</td>\n",
       "    </tr>\n",
       "    <tr>\n",
       "      <th>3</th>\n",
       "      <td>1586390220000</td>\n",
       "      <td>2020-04-08 23:57:00</td>\n",
       "      <td>BTCUSD</td>\n",
       "      <td>7357.62</td>\n",
       "      <td>7366.12</td>\n",
       "      <td>7357.62</td>\n",
       "      <td>7360.89</td>\n",
       "      <td>0.026251</td>\n",
       "    </tr>\n",
       "    <tr>\n",
       "      <th>4</th>\n",
       "      <td>1586390160000</td>\n",
       "      <td>2020-04-08 23:56:00</td>\n",
       "      <td>BTCUSD</td>\n",
       "      <td>7370.71</td>\n",
       "      <td>7370.71</td>\n",
       "      <td>7357.62</td>\n",
       "      <td>7357.62</td>\n",
       "      <td>0.444867</td>\n",
       "    </tr>\n",
       "  </tbody>\n",
       "</table>\n",
       "</div>"
      ],
      "text/plain": [
       "   Unix Timestamp                 Date  Symbol     Open     High      Low  \\\n",
       "0   1586390400000  2020-04-09 00:00:00  BTCUSD  7369.60  7369.60  7348.47   \n",
       "1   1586390340000  2020-04-08 23:59:00  BTCUSD  7364.37  7369.60  7364.37   \n",
       "2   1586390280000  2020-04-08 23:58:00  BTCUSD  7360.89  7367.18  7360.89   \n",
       "3   1586390220000  2020-04-08 23:57:00  BTCUSD  7357.62  7366.12  7357.62   \n",
       "4   1586390160000  2020-04-08 23:56:00  BTCUSD  7370.71  7370.71  7357.62   \n",
       "\n",
       "     Close    Volume  \n",
       "0  7350.41  7.733528  \n",
       "1  7369.60  1.310954  \n",
       "2  7364.37  1.018774  \n",
       "3  7360.89  0.026251  \n",
       "4  7357.62  0.444867  "
      ]
     },
     "execution_count": 4,
     "metadata": {},
     "output_type": "execute_result"
    }
   ],
   "source": [
    "df.head()"
   ]
  },
  {
   "cell_type": "code",
   "execution_count": 5,
   "id": "9e71f218",
   "metadata": {},
   "outputs": [
    {
     "data": {
      "text/plain": [
       "(2283519, 8)"
      ]
     },
     "execution_count": 5,
     "metadata": {},
     "output_type": "execute_result"
    }
   ],
   "source": [
    "df.shape"
   ]
  },
  {
   "cell_type": "code",
   "execution_count": 6,
   "id": "9eaabcb8",
   "metadata": {},
   "outputs": [
    {
     "data": {
      "text/html": [
       "<div>\n",
       "<style scoped>\n",
       "    .dataframe tbody tr th:only-of-type {\n",
       "        vertical-align: middle;\n",
       "    }\n",
       "\n",
       "    .dataframe tbody tr th {\n",
       "        vertical-align: top;\n",
       "    }\n",
       "\n",
       "    .dataframe thead th {\n",
       "        text-align: right;\n",
       "    }\n",
       "</style>\n",
       "<table border=\"1\" class=\"dataframe\">\n",
       "  <thead>\n",
       "    <tr style=\"text-align: right;\">\n",
       "      <th></th>\n",
       "      <th>Unix Timestamp</th>\n",
       "      <th>Date</th>\n",
       "      <th>Symbol</th>\n",
       "      <th>Open</th>\n",
       "      <th>High</th>\n",
       "      <th>Low</th>\n",
       "      <th>Close</th>\n",
       "      <th>Volume</th>\n",
       "    </tr>\n",
       "  </thead>\n",
       "  <tbody>\n",
       "    <tr>\n",
       "      <th>2283514</th>\n",
       "      <td>1444311840</td>\n",
       "      <td>2015-10-08 13:44:00</td>\n",
       "      <td>BTCUSD</td>\n",
       "      <td>242.96</td>\n",
       "      <td>242.96</td>\n",
       "      <td>242.96</td>\n",
       "      <td>242.96</td>\n",
       "      <td>0.033491</td>\n",
       "    </tr>\n",
       "    <tr>\n",
       "      <th>2283515</th>\n",
       "      <td>1444311780</td>\n",
       "      <td>2015-10-08 13:43:00</td>\n",
       "      <td>BTCUSD</td>\n",
       "      <td>242.95</td>\n",
       "      <td>242.96</td>\n",
       "      <td>242.95</td>\n",
       "      <td>242.96</td>\n",
       "      <td>0.010000</td>\n",
       "    </tr>\n",
       "    <tr>\n",
       "      <th>2283516</th>\n",
       "      <td>1444311720</td>\n",
       "      <td>2015-10-08 13:42:00</td>\n",
       "      <td>BTCUSD</td>\n",
       "      <td>242.95</td>\n",
       "      <td>242.95</td>\n",
       "      <td>242.95</td>\n",
       "      <td>242.95</td>\n",
       "      <td>0.000000</td>\n",
       "    </tr>\n",
       "    <tr>\n",
       "      <th>2283517</th>\n",
       "      <td>1444311660</td>\n",
       "      <td>2015-10-08 13:41:00</td>\n",
       "      <td>BTCUSD</td>\n",
       "      <td>242.50</td>\n",
       "      <td>242.95</td>\n",
       "      <td>242.50</td>\n",
       "      <td>242.95</td>\n",
       "      <td>0.001000</td>\n",
       "    </tr>\n",
       "    <tr>\n",
       "      <th>2283518</th>\n",
       "      <td>1444311600</td>\n",
       "      <td>2015-10-08 13:40:00</td>\n",
       "      <td>BTCUSD</td>\n",
       "      <td>0.00</td>\n",
       "      <td>242.50</td>\n",
       "      <td>0.00</td>\n",
       "      <td>242.50</td>\n",
       "      <td>0.050000</td>\n",
       "    </tr>\n",
       "  </tbody>\n",
       "</table>\n",
       "</div>"
      ],
      "text/plain": [
       "         Unix Timestamp                 Date  Symbol    Open    High     Low  \\\n",
       "2283514      1444311840  2015-10-08 13:44:00  BTCUSD  242.96  242.96  242.96   \n",
       "2283515      1444311780  2015-10-08 13:43:00  BTCUSD  242.95  242.96  242.95   \n",
       "2283516      1444311720  2015-10-08 13:42:00  BTCUSD  242.95  242.95  242.95   \n",
       "2283517      1444311660  2015-10-08 13:41:00  BTCUSD  242.50  242.95  242.50   \n",
       "2283518      1444311600  2015-10-08 13:40:00  BTCUSD    0.00  242.50    0.00   \n",
       "\n",
       "          Close    Volume  \n",
       "2283514  242.96  0.033491  \n",
       "2283515  242.96  0.010000  \n",
       "2283516  242.95  0.000000  \n",
       "2283517  242.95  0.001000  \n",
       "2283518  242.50  0.050000  "
      ]
     },
     "execution_count": 6,
     "metadata": {},
     "output_type": "execute_result"
    }
   ],
   "source": [
    "df.tail()"
   ]
  },
  {
   "cell_type": "markdown",
   "id": "6ba551ef",
   "metadata": {},
   "source": [
    "### Visualizing the price"
   ]
  },
  {
   "cell_type": "code",
   "execution_count": 7,
   "id": "c5295570",
   "metadata": {},
   "outputs": [
    {
     "data": {
      "text/plain": [
       "<AxesSubplot:>"
      ]
     },
     "execution_count": 7,
     "metadata": {},
     "output_type": "execute_result"
    },
    {
     "data": {
      "image/png": "[encoded data removed]",
      "text/plain": [
       "<Figure size 432x288 with 1 Axes>"
      ]
     },
     "metadata": {
      "needs_background": "light"
     },
     "output_type": "display_data"
    }
   ],
   "source": [
    "df[\"Close\"].plot()"
   ]
  },
  {
   "cell_type": "code",
   "execution_count": 8,
   "id": "72e3a2ad",
   "metadata": {},
   "outputs": [
    {
     "data": {
      "text/plain": [
       "0"
      ]
     },
     "execution_count": 8,
     "metadata": {},
     "output_type": "execute_result"
    }
   ],
   "source": [
    "#Check null values\n",
    "df.isnull().sum().sum()"
   ]
  },
  {
   "cell_type": "code",
   "execution_count": 9,
   "id": "8212c756",
   "metadata": {},
   "outputs": [
    {
     "data": {
      "text/plain": [
       "Unix Timestamp      int64\n",
       "Date               object\n",
       "Symbol             object\n",
       "Open              float64\n",
       "High              float64\n",
       "Low               float64\n",
       "Close             float64\n",
       "Volume            float64\n",
       "dtype: object"
      ]
     },
     "execution_count": 9,
     "metadata": {},
     "output_type": "execute_result"
    }
   ],
   "source": [
    "#Check data types\n",
    "df.dtypes"
   ]
  },
  {
   "cell_type": "code",
   "execution_count": 10,
   "id": "926a1262",
   "metadata": {},
   "outputs": [],
   "source": [
    "# Convert date to datetime\n",
    "df['Date'] = pd.to_datetime(df['Date'])\n",
    "df['Close'] = pd.to_numeric(df['Close'])"
   ]
  },
  {
   "cell_type": "code",
   "execution_count": null,
   "id": "e5158ff6",
   "metadata": {},
   "outputs": [],
   "source": []
  },
  {
   "cell_type": "code",
   "execution_count": 11,
   "id": "b4e276f3",
   "metadata": {},
   "outputs": [
    {
     "data": {
      "text/plain": [
       "Unix Timestamp             int64\n",
       "Date              datetime64[ns]\n",
       "Symbol                    object\n",
       "Open                     float64\n",
       "High                     float64\n",
       "Low                      float64\n",
       "Close                    float64\n",
       "Volume                   float64\n",
       "dtype: object"
      ]
     },
     "execution_count": 11,
     "metadata": {},
     "output_type": "execute_result"
    }
   ],
   "source": [
    "df.dtypes"
   ]
  },
  {
   "cell_type": "markdown",
   "id": "2049b1a6",
   "metadata": {},
   "source": [
    "# Feature Engineering"
   ]
  },
  {
   "cell_type": "code",
   "execution_count": 12,
   "id": "d94010cc",
   "metadata": {
    "scrolled": true
   },
   "outputs": [
    {
     "data": {
      "text/html": [
       "<div>\n",
       "<style scoped>\n",
       "    .dataframe tbody tr th:only-of-type {\n",
       "        vertical-align: middle;\n",
       "    }\n",
       "\n",
       "    .dataframe tbody tr th {\n",
       "        vertical-align: top;\n",
       "    }\n",
       "\n",
       "    .dataframe thead th {\n",
       "        text-align: right;\n",
       "    }\n",
       "</style>\n",
       "<table border=\"1\" class=\"dataframe\">\n",
       "  <thead>\n",
       "    <tr style=\"text-align: right;\">\n",
       "      <th></th>\n",
       "      <th>Unix Timestamp</th>\n",
       "      <th>Symbol</th>\n",
       "      <th>Open</th>\n",
       "      <th>High</th>\n",
       "      <th>Low</th>\n",
       "      <th>Close</th>\n",
       "      <th>Volume</th>\n",
       "    </tr>\n",
       "    <tr>\n",
       "      <th>Date</th>\n",
       "      <th></th>\n",
       "      <th></th>\n",
       "      <th></th>\n",
       "      <th></th>\n",
       "      <th></th>\n",
       "      <th></th>\n",
       "      <th></th>\n",
       "    </tr>\n",
       "  </thead>\n",
       "  <tbody>\n",
       "    <tr>\n",
       "      <th>2020-04-09 00:00:00</th>\n",
       "      <td>1586390400000</td>\n",
       "      <td>BTCUSD</td>\n",
       "      <td>7369.60</td>\n",
       "      <td>7369.60</td>\n",
       "      <td>7348.47</td>\n",
       "      <td>7350.41</td>\n",
       "      <td>7.733528</td>\n",
       "    </tr>\n",
       "    <tr>\n",
       "      <th>2020-04-08 23:59:00</th>\n",
       "      <td>1586390340000</td>\n",
       "      <td>BTCUSD</td>\n",
       "      <td>7364.37</td>\n",
       "      <td>7369.60</td>\n",
       "      <td>7364.37</td>\n",
       "      <td>7369.60</td>\n",
       "      <td>1.310954</td>\n",
       "    </tr>\n",
       "    <tr>\n",
       "      <th>2020-04-08 23:58:00</th>\n",
       "      <td>1586390280000</td>\n",
       "      <td>BTCUSD</td>\n",
       "      <td>7360.89</td>\n",
       "      <td>7367.18</td>\n",
       "      <td>7360.89</td>\n",
       "      <td>7364.37</td>\n",
       "      <td>1.018774</td>\n",
       "    </tr>\n",
       "    <tr>\n",
       "      <th>2020-04-08 23:57:00</th>\n",
       "      <td>1586390220000</td>\n",
       "      <td>BTCUSD</td>\n",
       "      <td>7357.62</td>\n",
       "      <td>7366.12</td>\n",
       "      <td>7357.62</td>\n",
       "      <td>7360.89</td>\n",
       "      <td>0.026251</td>\n",
       "    </tr>\n",
       "    <tr>\n",
       "      <th>2020-04-08 23:56:00</th>\n",
       "      <td>1586390160000</td>\n",
       "      <td>BTCUSD</td>\n",
       "      <td>7370.71</td>\n",
       "      <td>7370.71</td>\n",
       "      <td>7357.62</td>\n",
       "      <td>7357.62</td>\n",
       "      <td>0.444867</td>\n",
       "    </tr>\n",
       "  </tbody>\n",
       "</table>\n",
       "</div>"
      ],
      "text/plain": [
       "                     Unix Timestamp  Symbol     Open     High      Low  \\\n",
       "Date                                                                     \n",
       "2020-04-09 00:00:00   1586390400000  BTCUSD  7369.60  7369.60  7348.47   \n",
       "2020-04-08 23:59:00   1586390340000  BTCUSD  7364.37  7369.60  7364.37   \n",
       "2020-04-08 23:58:00   1586390280000  BTCUSD  7360.89  7367.18  7360.89   \n",
       "2020-04-08 23:57:00   1586390220000  BTCUSD  7357.62  7366.12  7357.62   \n",
       "2020-04-08 23:56:00   1586390160000  BTCUSD  7370.71  7370.71  7357.62   \n",
       "\n",
       "                       Close    Volume  \n",
       "Date                                    \n",
       "2020-04-09 00:00:00  7350.41  7.733528  \n",
       "2020-04-08 23:59:00  7369.60  1.310954  \n",
       "2020-04-08 23:58:00  7364.37  1.018774  \n",
       "2020-04-08 23:57:00  7360.89  0.026251  \n",
       "2020-04-08 23:56:00  7357.62  0.444867  "
      ]
     },
     "execution_count": 12,
     "metadata": {},
     "output_type": "execute_result"
    }
   ],
   "source": [
    "#set date as index\n",
    "df = df.set_index('Date')\n",
    "df.head()"
   ]
  },
  {
   "cell_type": "markdown",
   "id": "6e16b888",
   "metadata": {},
   "source": [
    "### Percent Change"
   ]
  },
  {
   "cell_type": "code",
   "execution_count": 13,
   "id": "02ea75d1",
   "metadata": {},
   "outputs": [
    {
     "data": {
      "text/html": [
       "<div>\n",
       "<style scoped>\n",
       "    .dataframe tbody tr th:only-of-type {\n",
       "        vertical-align: middle;\n",
       "    }\n",
       "\n",
       "    .dataframe tbody tr th {\n",
       "        vertical-align: top;\n",
       "    }\n",
       "\n",
       "    .dataframe thead th {\n",
       "        text-align: right;\n",
       "    }\n",
       "</style>\n",
       "<table border=\"1\" class=\"dataframe\">\n",
       "  <thead>\n",
       "    <tr style=\"text-align: right;\">\n",
       "      <th></th>\n",
       "      <th>Unix Timestamp</th>\n",
       "      <th>Symbol</th>\n",
       "      <th>Open</th>\n",
       "      <th>High</th>\n",
       "      <th>Low</th>\n",
       "      <th>Close</th>\n",
       "      <th>Volume</th>\n",
       "      <th>open_%_change</th>\n",
       "      <th>high_%_change</th>\n",
       "      <th>low_%_change</th>\n",
       "      <th>close_%_change</th>\n",
       "      <th>volume_%_change</th>\n",
       "    </tr>\n",
       "    <tr>\n",
       "      <th>Date</th>\n",
       "      <th></th>\n",
       "      <th></th>\n",
       "      <th></th>\n",
       "      <th></th>\n",
       "      <th></th>\n",
       "      <th></th>\n",
       "      <th></th>\n",
       "      <th></th>\n",
       "      <th></th>\n",
       "      <th></th>\n",
       "      <th></th>\n",
       "      <th></th>\n",
       "    </tr>\n",
       "  </thead>\n",
       "  <tbody>\n",
       "    <tr>\n",
       "      <th>2020-04-09 00:00:00</th>\n",
       "      <td>1586390400000</td>\n",
       "      <td>BTCUSD</td>\n",
       "      <td>7369.60</td>\n",
       "      <td>7369.60</td>\n",
       "      <td>7348.47</td>\n",
       "      <td>7350.41</td>\n",
       "      <td>7.733528</td>\n",
       "      <td>NaN</td>\n",
       "      <td>NaN</td>\n",
       "      <td>NaN</td>\n",
       "      <td>NaN</td>\n",
       "      <td>NaN</td>\n",
       "    </tr>\n",
       "    <tr>\n",
       "      <th>2020-04-08 23:59:00</th>\n",
       "      <td>1586390340000</td>\n",
       "      <td>BTCUSD</td>\n",
       "      <td>7364.37</td>\n",
       "      <td>7369.60</td>\n",
       "      <td>7364.37</td>\n",
       "      <td>7369.60</td>\n",
       "      <td>1.310954</td>\n",
       "      <td>-0.000710</td>\n",
       "      <td>0.000000</td>\n",
       "      <td>0.002164</td>\n",
       "      <td>0.002611</td>\n",
       "      <td>-0.830484</td>\n",
       "    </tr>\n",
       "    <tr>\n",
       "      <th>2020-04-08 23:58:00</th>\n",
       "      <td>1586390280000</td>\n",
       "      <td>BTCUSD</td>\n",
       "      <td>7360.89</td>\n",
       "      <td>7367.18</td>\n",
       "      <td>7360.89</td>\n",
       "      <td>7364.37</td>\n",
       "      <td>1.018774</td>\n",
       "      <td>-0.000473</td>\n",
       "      <td>-0.000328</td>\n",
       "      <td>-0.000473</td>\n",
       "      <td>-0.000710</td>\n",
       "      <td>-0.222876</td>\n",
       "    </tr>\n",
       "    <tr>\n",
       "      <th>2020-04-08 23:57:00</th>\n",
       "      <td>1586390220000</td>\n",
       "      <td>BTCUSD</td>\n",
       "      <td>7357.62</td>\n",
       "      <td>7366.12</td>\n",
       "      <td>7357.62</td>\n",
       "      <td>7360.89</td>\n",
       "      <td>0.026251</td>\n",
       "      <td>-0.000444</td>\n",
       "      <td>-0.000144</td>\n",
       "      <td>-0.000444</td>\n",
       "      <td>-0.000473</td>\n",
       "      <td>-0.974233</td>\n",
       "    </tr>\n",
       "    <tr>\n",
       "      <th>2020-04-08 23:56:00</th>\n",
       "      <td>1586390160000</td>\n",
       "      <td>BTCUSD</td>\n",
       "      <td>7370.71</td>\n",
       "      <td>7370.71</td>\n",
       "      <td>7357.62</td>\n",
       "      <td>7357.62</td>\n",
       "      <td>0.444867</td>\n",
       "      <td>0.001779</td>\n",
       "      <td>0.000623</td>\n",
       "      <td>0.000000</td>\n",
       "      <td>-0.000444</td>\n",
       "      <td>15.946822</td>\n",
       "    </tr>\n",
       "  </tbody>\n",
       "</table>\n",
       "</div>"
      ],
      "text/plain": [
       "                     Unix Timestamp  Symbol     Open     High      Low  \\\n",
       "Date                                                                     \n",
       "2020-04-09 00:00:00   1586390400000  BTCUSD  7369.60  7369.60  7348.47   \n",
       "2020-04-08 23:59:00   1586390340000  BTCUSD  7364.37  7369.60  7364.37   \n",
       "2020-04-08 23:58:00   1586390280000  BTCUSD  7360.89  7367.18  7360.89   \n",
       "2020-04-08 23:57:00   1586390220000  BTCUSD  7357.62  7366.12  7357.62   \n",
       "2020-04-08 23:56:00   1586390160000  BTCUSD  7370.71  7370.71  7357.62   \n",
       "\n",
       "                       Close    Volume  open_%_change  high_%_change  \\\n",
       "Date                                                                   \n",
       "2020-04-09 00:00:00  7350.41  7.733528            NaN            NaN   \n",
       "2020-04-08 23:59:00  7369.60  1.310954      -0.000710       0.000000   \n",
       "2020-04-08 23:58:00  7364.37  1.018774      -0.000473      -0.000328   \n",
       "2020-04-08 23:57:00  7360.89  0.026251      -0.000444      -0.000144   \n",
       "2020-04-08 23:56:00  7357.62  0.444867       0.001779       0.000623   \n",
       "\n",
       "                     low_%_change  close_%_change  volume_%_change  \n",
       "Date                                                                \n",
       "2020-04-09 00:00:00           NaN             NaN              NaN  \n",
       "2020-04-08 23:59:00      0.002164        0.002611        -0.830484  \n",
       "2020-04-08 23:58:00     -0.000473       -0.000710        -0.222876  \n",
       "2020-04-08 23:57:00     -0.000444       -0.000473        -0.974233  \n",
       "2020-04-08 23:56:00      0.000000       -0.000444        15.946822  "
      ]
     },
     "execution_count": 13,
     "metadata": {},
     "output_type": "execute_result"
    }
   ],
   "source": [
    "#Percent change for each variable\n",
    "df['open_%_change'] = df['Open'].pct_change()\n",
    "df['high_%_change'] = df['High'].pct_change()\n",
    "df['low_%_change'] = df['Low'].pct_change()\n",
    "df['close_%_change'] = df['Close'].pct_change()\n",
    "df['volume_%_change'] = df['Volume'].pct_change()\n",
    "df.head()"
   ]
  },
  {
   "cell_type": "markdown",
   "id": "3005a326",
   "metadata": {},
   "source": [
    "### Getting the 20mins simple moving average"
   ]
  },
  {
   "cell_type": "code",
   "execution_count": 14,
   "id": "d15cbae2",
   "metadata": {
    "scrolled": true
   },
   "outputs": [
    {
     "data": {
      "text/html": [
       "<div>\n",
       "<style scoped>\n",
       "    .dataframe tbody tr th:only-of-type {\n",
       "        vertical-align: middle;\n",
       "    }\n",
       "\n",
       "    .dataframe tbody tr th {\n",
       "        vertical-align: top;\n",
       "    }\n",
       "\n",
       "    .dataframe thead th {\n",
       "        text-align: right;\n",
       "    }\n",
       "</style>\n",
       "<table border=\"1\" class=\"dataframe\">\n",
       "  <thead>\n",
       "    <tr style=\"text-align: right;\">\n",
       "      <th></th>\n",
       "      <th>Unix Timestamp</th>\n",
       "      <th>Symbol</th>\n",
       "      <th>Open</th>\n",
       "      <th>High</th>\n",
       "      <th>Low</th>\n",
       "      <th>Close</th>\n",
       "      <th>Volume</th>\n",
       "      <th>open_%_change</th>\n",
       "      <th>high_%_change</th>\n",
       "      <th>low_%_change</th>\n",
       "      <th>close_%_change</th>\n",
       "      <th>volume_%_change</th>\n",
       "      <th>60_min_sma_close</th>\n",
       "    </tr>\n",
       "    <tr>\n",
       "      <th>Date</th>\n",
       "      <th></th>\n",
       "      <th></th>\n",
       "      <th></th>\n",
       "      <th></th>\n",
       "      <th></th>\n",
       "      <th></th>\n",
       "      <th></th>\n",
       "      <th></th>\n",
       "      <th></th>\n",
       "      <th></th>\n",
       "      <th></th>\n",
       "      <th></th>\n",
       "      <th></th>\n",
       "    </tr>\n",
       "  </thead>\n",
       "  <tbody>\n",
       "    <tr>\n",
       "      <th>2020-04-09 00:00:00</th>\n",
       "      <td>1586390400000</td>\n",
       "      <td>BTCUSD</td>\n",
       "      <td>7369.60</td>\n",
       "      <td>7369.60</td>\n",
       "      <td>7348.47</td>\n",
       "      <td>7350.41</td>\n",
       "      <td>7.733528</td>\n",
       "      <td>NaN</td>\n",
       "      <td>NaN</td>\n",
       "      <td>NaN</td>\n",
       "      <td>NaN</td>\n",
       "      <td>NaN</td>\n",
       "      <td>NaN</td>\n",
       "    </tr>\n",
       "    <tr>\n",
       "      <th>2020-04-08 23:59:00</th>\n",
       "      <td>1586390340000</td>\n",
       "      <td>BTCUSD</td>\n",
       "      <td>7364.37</td>\n",
       "      <td>7369.60</td>\n",
       "      <td>7364.37</td>\n",
       "      <td>7369.60</td>\n",
       "      <td>1.310954</td>\n",
       "      <td>-0.000710</td>\n",
       "      <td>0.000000</td>\n",
       "      <td>0.002164</td>\n",
       "      <td>0.002611</td>\n",
       "      <td>-0.830484</td>\n",
       "      <td>NaN</td>\n",
       "    </tr>\n",
       "    <tr>\n",
       "      <th>2020-04-08 23:58:00</th>\n",
       "      <td>1586390280000</td>\n",
       "      <td>BTCUSD</td>\n",
       "      <td>7360.89</td>\n",
       "      <td>7367.18</td>\n",
       "      <td>7360.89</td>\n",
       "      <td>7364.37</td>\n",
       "      <td>1.018774</td>\n",
       "      <td>-0.000473</td>\n",
       "      <td>-0.000328</td>\n",
       "      <td>-0.000473</td>\n",
       "      <td>-0.000710</td>\n",
       "      <td>-0.222876</td>\n",
       "      <td>NaN</td>\n",
       "    </tr>\n",
       "    <tr>\n",
       "      <th>2020-04-08 23:57:00</th>\n",
       "      <td>1586390220000</td>\n",
       "      <td>BTCUSD</td>\n",
       "      <td>7357.62</td>\n",
       "      <td>7366.12</td>\n",
       "      <td>7357.62</td>\n",
       "      <td>7360.89</td>\n",
       "      <td>0.026251</td>\n",
       "      <td>-0.000444</td>\n",
       "      <td>-0.000144</td>\n",
       "      <td>-0.000444</td>\n",
       "      <td>-0.000473</td>\n",
       "      <td>-0.974233</td>\n",
       "      <td>NaN</td>\n",
       "    </tr>\n",
       "    <tr>\n",
       "      <th>2020-04-08 23:56:00</th>\n",
       "      <td>1586390160000</td>\n",
       "      <td>BTCUSD</td>\n",
       "      <td>7370.71</td>\n",
       "      <td>7370.71</td>\n",
       "      <td>7357.62</td>\n",
       "      <td>7357.62</td>\n",
       "      <td>0.444867</td>\n",
       "      <td>0.001779</td>\n",
       "      <td>0.000623</td>\n",
       "      <td>0.000000</td>\n",
       "      <td>-0.000444</td>\n",
       "      <td>15.946822</td>\n",
       "      <td>NaN</td>\n",
       "    </tr>\n",
       "  </tbody>\n",
       "</table>\n",
       "</div>"
      ],
      "text/plain": [
       "                     Unix Timestamp  Symbol     Open     High      Low  \\\n",
       "Date                                                                     \n",
       "2020-04-09 00:00:00   1586390400000  BTCUSD  7369.60  7369.60  7348.47   \n",
       "2020-04-08 23:59:00   1586390340000  BTCUSD  7364.37  7369.60  7364.37   \n",
       "2020-04-08 23:58:00   1586390280000  BTCUSD  7360.89  7367.18  7360.89   \n",
       "2020-04-08 23:57:00   1586390220000  BTCUSD  7357.62  7366.12  7357.62   \n",
       "2020-04-08 23:56:00   1586390160000  BTCUSD  7370.71  7370.71  7357.62   \n",
       "\n",
       "                       Close    Volume  open_%_change  high_%_change  \\\n",
       "Date                                                                   \n",
       "2020-04-09 00:00:00  7350.41  7.733528            NaN            NaN   \n",
       "2020-04-08 23:59:00  7369.60  1.310954      -0.000710       0.000000   \n",
       "2020-04-08 23:58:00  7364.37  1.018774      -0.000473      -0.000328   \n",
       "2020-04-08 23:57:00  7360.89  0.026251      -0.000444      -0.000144   \n",
       "2020-04-08 23:56:00  7357.62  0.444867       0.001779       0.000623   \n",
       "\n",
       "                     low_%_change  close_%_change  volume_%_change  \\\n",
       "Date                                                                 \n",
       "2020-04-09 00:00:00           NaN             NaN              NaN   \n",
       "2020-04-08 23:59:00      0.002164        0.002611        -0.830484   \n",
       "2020-04-08 23:58:00     -0.000473       -0.000710        -0.222876   \n",
       "2020-04-08 23:57:00     -0.000444       -0.000473        -0.974233   \n",
       "2020-04-08 23:56:00      0.000000       -0.000444        15.946822   \n",
       "\n",
       "                     60_min_sma_close  \n",
       "Date                                   \n",
       "2020-04-09 00:00:00               NaN  \n",
       "2020-04-08 23:59:00               NaN  \n",
       "2020-04-08 23:58:00               NaN  \n",
       "2020-04-08 23:57:00               NaN  \n",
       "2020-04-08 23:56:00               NaN  "
      ]
     },
     "execution_count": 14,
     "metadata": {},
     "output_type": "execute_result"
    }
   ],
   "source": [
    "df['60_min_sma_close'] = df['Close'].rolling(window=60).mean()\n",
    "df.head()"
   ]
  },
  {
   "cell_type": "markdown",
   "id": "6c94e507",
   "metadata": {},
   "source": [
    "### Visualizing the price and the 60-minute SMA"
   ]
  },
  {
   "cell_type": "code",
   "execution_count": 15,
   "id": "29c750eb",
   "metadata": {},
   "outputs": [
    {
     "data": {
      "image/png": "[encoded data removed]",
      "text/plain": [
       "<Figure size 1440x1080 with 1 Axes>"
      ]
     },
     "metadata": {
      "needs_background": "light"
     },
     "output_type": "display_data"
    }
   ],
   "source": [
    "# Plot the simple moving average for 20 min\n",
    "plt.figure(figsize =(20,15))\n",
    "plt.title('BTC Simple Moving Average')\n",
    "plt.xlabel('Dates')\n",
    "plt.ylabel('Closing Prices')\n",
    "plt.plot(df['Close'], label='Closing Prices')\n",
    "plt.plot(df['60_min_sma_close'], label='60 min SMA')\n",
    "plt.legend()\n",
    "plt.show()"
   ]
  },
  {
   "cell_type": "markdown",
   "id": "7a360be4",
   "metadata": {},
   "source": [
    "### Creating the upper and lower bands from the 60min moving average "
   ]
  },
  {
   "cell_type": "code",
   "execution_count": 16,
   "id": "862b39d4",
   "metadata": {},
   "outputs": [
    {
     "data": {
      "text/html": [
       "<div>\n",
       "<style scoped>\n",
       "    .dataframe tbody tr th:only-of-type {\n",
       "        vertical-align: middle;\n",
       "    }\n",
       "\n",
       "    .dataframe tbody tr th {\n",
       "        vertical-align: top;\n",
       "    }\n",
       "\n",
       "    .dataframe thead th {\n",
       "        text-align: right;\n",
       "    }\n",
       "</style>\n",
       "<table border=\"1\" class=\"dataframe\">\n",
       "  <thead>\n",
       "    <tr style=\"text-align: right;\">\n",
       "      <th></th>\n",
       "      <th>Unix Timestamp</th>\n",
       "      <th>Symbol</th>\n",
       "      <th>Open</th>\n",
       "      <th>High</th>\n",
       "      <th>Low</th>\n",
       "      <th>Close</th>\n",
       "      <th>Volume</th>\n",
       "      <th>open_%_change</th>\n",
       "      <th>high_%_change</th>\n",
       "      <th>low_%_change</th>\n",
       "      <th>close_%_change</th>\n",
       "      <th>volume_%_change</th>\n",
       "      <th>60_min_sma_close</th>\n",
       "      <th>Upper Band_2</th>\n",
       "      <th>Lower Band_2</th>\n",
       "    </tr>\n",
       "    <tr>\n",
       "      <th>Date</th>\n",
       "      <th></th>\n",
       "      <th></th>\n",
       "      <th></th>\n",
       "      <th></th>\n",
       "      <th></th>\n",
       "      <th></th>\n",
       "      <th></th>\n",
       "      <th></th>\n",
       "      <th></th>\n",
       "      <th></th>\n",
       "      <th></th>\n",
       "      <th></th>\n",
       "      <th></th>\n",
       "      <th></th>\n",
       "      <th></th>\n",
       "    </tr>\n",
       "  </thead>\n",
       "  <tbody>\n",
       "    <tr>\n",
       "      <th>2020-04-09 00:00:00</th>\n",
       "      <td>1586390400000</td>\n",
       "      <td>BTCUSD</td>\n",
       "      <td>7369.60</td>\n",
       "      <td>7369.60</td>\n",
       "      <td>7348.47</td>\n",
       "      <td>7350.41</td>\n",
       "      <td>7.733528</td>\n",
       "      <td>NaN</td>\n",
       "      <td>NaN</td>\n",
       "      <td>NaN</td>\n",
       "      <td>NaN</td>\n",
       "      <td>NaN</td>\n",
       "      <td>NaN</td>\n",
       "      <td>NaN</td>\n",
       "      <td>NaN</td>\n",
       "    </tr>\n",
       "    <tr>\n",
       "      <th>2020-04-08 23:59:00</th>\n",
       "      <td>1586390340000</td>\n",
       "      <td>BTCUSD</td>\n",
       "      <td>7364.37</td>\n",
       "      <td>7369.60</td>\n",
       "      <td>7364.37</td>\n",
       "      <td>7369.60</td>\n",
       "      <td>1.310954</td>\n",
       "      <td>-0.000710</td>\n",
       "      <td>0.000000</td>\n",
       "      <td>0.002164</td>\n",
       "      <td>0.002611</td>\n",
       "      <td>-0.830484</td>\n",
       "      <td>NaN</td>\n",
       "      <td>NaN</td>\n",
       "      <td>NaN</td>\n",
       "    </tr>\n",
       "    <tr>\n",
       "      <th>2020-04-08 23:58:00</th>\n",
       "      <td>1586390280000</td>\n",
       "      <td>BTCUSD</td>\n",
       "      <td>7360.89</td>\n",
       "      <td>7367.18</td>\n",
       "      <td>7360.89</td>\n",
       "      <td>7364.37</td>\n",
       "      <td>1.018774</td>\n",
       "      <td>-0.000473</td>\n",
       "      <td>-0.000328</td>\n",
       "      <td>-0.000473</td>\n",
       "      <td>-0.000710</td>\n",
       "      <td>-0.222876</td>\n",
       "      <td>NaN</td>\n",
       "      <td>NaN</td>\n",
       "      <td>NaN</td>\n",
       "    </tr>\n",
       "    <tr>\n",
       "      <th>2020-04-08 23:57:00</th>\n",
       "      <td>1586390220000</td>\n",
       "      <td>BTCUSD</td>\n",
       "      <td>7357.62</td>\n",
       "      <td>7366.12</td>\n",
       "      <td>7357.62</td>\n",
       "      <td>7360.89</td>\n",
       "      <td>0.026251</td>\n",
       "      <td>-0.000444</td>\n",
       "      <td>-0.000144</td>\n",
       "      <td>-0.000444</td>\n",
       "      <td>-0.000473</td>\n",
       "      <td>-0.974233</td>\n",
       "      <td>NaN</td>\n",
       "      <td>NaN</td>\n",
       "      <td>NaN</td>\n",
       "    </tr>\n",
       "    <tr>\n",
       "      <th>2020-04-08 23:56:00</th>\n",
       "      <td>1586390160000</td>\n",
       "      <td>BTCUSD</td>\n",
       "      <td>7370.71</td>\n",
       "      <td>7370.71</td>\n",
       "      <td>7357.62</td>\n",
       "      <td>7357.62</td>\n",
       "      <td>0.444867</td>\n",
       "      <td>0.001779</td>\n",
       "      <td>0.000623</td>\n",
       "      <td>0.000000</td>\n",
       "      <td>-0.000444</td>\n",
       "      <td>15.946822</td>\n",
       "      <td>NaN</td>\n",
       "      <td>NaN</td>\n",
       "      <td>NaN</td>\n",
       "    </tr>\n",
       "  </tbody>\n",
       "</table>\n",
       "</div>"
      ],
      "text/plain": [
       "                     Unix Timestamp  Symbol     Open     High      Low  \\\n",
       "Date                                                                     \n",
       "2020-04-09 00:00:00   1586390400000  BTCUSD  7369.60  7369.60  7348.47   \n",
       "2020-04-08 23:59:00   1586390340000  BTCUSD  7364.37  7369.60  7364.37   \n",
       "2020-04-08 23:58:00   1586390280000  BTCUSD  7360.89  7367.18  7360.89   \n",
       "2020-04-08 23:57:00   1586390220000  BTCUSD  7357.62  7366.12  7357.62   \n",
       "2020-04-08 23:56:00   1586390160000  BTCUSD  7370.71  7370.71  7357.62   \n",
       "\n",
       "                       Close    Volume  open_%_change  high_%_change  \\\n",
       "Date                                                                   \n",
       "2020-04-09 00:00:00  7350.41  7.733528            NaN            NaN   \n",
       "2020-04-08 23:59:00  7369.60  1.310954      -0.000710       0.000000   \n",
       "2020-04-08 23:58:00  7364.37  1.018774      -0.000473      -0.000328   \n",
       "2020-04-08 23:57:00  7360.89  0.026251      -0.000444      -0.000144   \n",
       "2020-04-08 23:56:00  7357.62  0.444867       0.001779       0.000623   \n",
       "\n",
       "                     low_%_change  close_%_change  volume_%_change  \\\n",
       "Date                                                                 \n",
       "2020-04-09 00:00:00           NaN             NaN              NaN   \n",
       "2020-04-08 23:59:00      0.002164        0.002611        -0.830484   \n",
       "2020-04-08 23:58:00     -0.000473       -0.000710        -0.222876   \n",
       "2020-04-08 23:57:00     -0.000444       -0.000473        -0.974233   \n",
       "2020-04-08 23:56:00      0.000000       -0.000444        15.946822   \n",
       "\n",
       "                     60_min_sma_close  Upper Band_2  Lower Band_2  \n",
       "Date                                                               \n",
       "2020-04-09 00:00:00               NaN           NaN           NaN  \n",
       "2020-04-08 23:59:00               NaN           NaN           NaN  \n",
       "2020-04-08 23:58:00               NaN           NaN           NaN  \n",
       "2020-04-08 23:57:00               NaN           NaN           NaN  \n",
       "2020-04-08 23:56:00               NaN           NaN           NaN  "
      ]
     },
     "execution_count": 16,
     "metadata": {},
     "output_type": "execute_result"
    }
   ],
   "source": [
    "# two standard deviation away from the 20 min moving average\n",
    "df['Upper Band_2'] = df['60_min_sma_close'] + (2 * df['Close'].rolling(window=60).std())\n",
    "df['Lower Band_2'] = df['60_min_sma_close'] - (2 * df['Close'].rolling(window=60).std())\n",
    "df.head()"
   ]
  },
  {
   "cell_type": "code",
   "execution_count": null,
   "id": "267fb969",
   "metadata": {},
   "outputs": [],
   "source": []
  },
  {
   "cell_type": "code",
   "execution_count": 17,
   "id": "0bc139bd",
   "metadata": {},
   "outputs": [],
   "source": [
    "def bb_strategy(data, lower_bb, upper_bb):\n",
    "    buy = []\n",
    "    sell = []\n",
    "    b_signal = []\n",
    "    signal = 0\n",
    "    \n",
    "    for i in range(len(data)):\n",
    "        if data[i-1] > lower_bb[i-1] and data[i] < lower_bb[i]:\n",
    "            if signal != 1:\n",
    "                buy.append(data[i])\n",
    "                sell.append(np.nan)\n",
    "                signal = 1\n",
    "                b_signal.append(signal)\n",
    "            else:\n",
    "                buy.append(np.nan)\n",
    "                sell.append(np.nan)\n",
    "                b_signal.append(0)\n",
    "        elif data[i-1] < upper_bb[i-1] and data[i] > upper_bb[i]:\n",
    "            if signal != -1:\n",
    "                buy.append(np.nan)\n",
    "                sell.append(data[i])\n",
    "                signal = -1\n",
    "                b_signal.append(signal)\n",
    "            else:\n",
    "                buy.append(np.nan)\n",
    "                sell.append(np.nan)\n",
    "                b_signal.append(0)\n",
    "        else:\n",
    "            buy.append(np.nan)\n",
    "            sell.append(np.nan)\n",
    "            b_signal.append(0)\n",
    "            \n",
    "    return buy, sell, b_signal\n",
    "\n",
    "buy, sell, b_signal = bb_strategy(df['Close'], df['Lower Band_2'], df['Upper Band_2'])"
   ]
  },
  {
   "cell_type": "markdown",
   "id": "886aa3b6",
   "metadata": {},
   "source": [
    "# SMAC"
   ]
  },
  {
   "cell_type": "code",
   "execution_count": 18,
   "id": "f0de2ddc",
   "metadata": {},
   "outputs": [],
   "source": [
    "smac = df['Close'].values"
   ]
  },
  {
   "cell_type": "code",
   "execution_count": 19,
   "id": "ee6ccc5a",
   "metadata": {},
   "outputs": [],
   "source": [
    "short_lb = 9 \n",
    "long_lb = 21\n",
    "signal_df = pd.DataFrame(index=df.index)\n",
    "#Setting signal to zero\n",
    "signal_df['signal'] = 0.0\n",
    "# Using the short_1b as the window value in price to create short moving average \n",
    "signal_df['short_mav'] = df[['Close']].rolling(window=short_lb,min_periods=1, center=False).mean()"
   ]
  },
  {
   "cell_type": "code",
   "execution_count": 20,
   "id": "22f24ace",
   "metadata": {},
   "outputs": [],
   "source": [
    "# Using the long_1b as the window value in price to create long moving average \n",
    "signal_df['long_mav'] = df[['Close']].rolling(window=long_lb, min_periods=1, center=False).mean()"
   ]
  },
  {
   "cell_type": "code",
   "execution_count": 21,
   "id": "22578137",
   "metadata": {},
   "outputs": [],
   "source": [
    "signal_df['signal'][short_lb:] = np.where(signal_df['short_mav'][short_lb:] > signal_df['long_mav'][short_lb:], 1.0, 0.0)   "
   ]
  },
  {
   "cell_type": "code",
   "execution_count": 22,
   "id": "ace51bfd",
   "metadata": {},
   "outputs": [
    {
     "data": {
      "text/html": [
       "<div>\n",
       "<style scoped>\n",
       "    .dataframe tbody tr th:only-of-type {\n",
       "        vertical-align: middle;\n",
       "    }\n",
       "\n",
       "    .dataframe tbody tr th {\n",
       "        vertical-align: top;\n",
       "    }\n",
       "\n",
       "    .dataframe thead th {\n",
       "        text-align: right;\n",
       "    }\n",
       "</style>\n",
       "<table border=\"1\" class=\"dataframe\">\n",
       "  <thead>\n",
       "    <tr style=\"text-align: right;\">\n",
       "      <th></th>\n",
       "      <th>signal</th>\n",
       "      <th>short_mav</th>\n",
       "      <th>long_mav</th>\n",
       "      <th>positions</th>\n",
       "    </tr>\n",
       "    <tr>\n",
       "      <th>Date</th>\n",
       "      <th></th>\n",
       "      <th></th>\n",
       "      <th></th>\n",
       "      <th></th>\n",
       "    </tr>\n",
       "  </thead>\n",
       "  <tbody>\n",
       "    <tr>\n",
       "      <th>2020-04-08 23:23:00</th>\n",
       "      <td>0.0</td>\n",
       "      <td>7387.911111</td>\n",
       "      <td>7387.913333</td>\n",
       "      <td>-1.0</td>\n",
       "    </tr>\n",
       "    <tr>\n",
       "      <th>2020-04-08 22:46:00</th>\n",
       "      <td>0.0</td>\n",
       "      <td>7366.197778</td>\n",
       "      <td>7366.685714</td>\n",
       "      <td>-1.0</td>\n",
       "    </tr>\n",
       "    <tr>\n",
       "      <th>2020-04-08 22:06:00</th>\n",
       "      <td>0.0</td>\n",
       "      <td>7353.776667</td>\n",
       "      <td>7353.934762</td>\n",
       "      <td>-1.0</td>\n",
       "    </tr>\n",
       "    <tr>\n",
       "      <th>2020-04-08 21:23:00</th>\n",
       "      <td>0.0</td>\n",
       "      <td>7357.260000</td>\n",
       "      <td>7358.383810</td>\n",
       "      <td>-1.0</td>\n",
       "    </tr>\n",
       "    <tr>\n",
       "      <th>2020-04-08 21:02:00</th>\n",
       "      <td>0.0</td>\n",
       "      <td>7353.583333</td>\n",
       "      <td>7353.935238</td>\n",
       "      <td>-1.0</td>\n",
       "    </tr>\n",
       "    <tr>\n",
       "      <th>...</th>\n",
       "      <td>...</td>\n",
       "      <td>...</td>\n",
       "      <td>...</td>\n",
       "      <td>...</td>\n",
       "    </tr>\n",
       "    <tr>\n",
       "      <th>2015-10-08 17:13:00</th>\n",
       "      <td>0.0</td>\n",
       "      <td>244.020000</td>\n",
       "      <td>244.020000</td>\n",
       "      <td>-1.0</td>\n",
       "    </tr>\n",
       "    <tr>\n",
       "      <th>2015-10-08 17:09:00</th>\n",
       "      <td>0.0</td>\n",
       "      <td>244.020000</td>\n",
       "      <td>244.020000</td>\n",
       "      <td>-1.0</td>\n",
       "    </tr>\n",
       "    <tr>\n",
       "      <th>2015-10-08 16:08:00</th>\n",
       "      <td>0.0</td>\n",
       "      <td>244.854444</td>\n",
       "      <td>244.855714</td>\n",
       "      <td>-1.0</td>\n",
       "    </tr>\n",
       "    <tr>\n",
       "      <th>2015-10-08 15:15:00</th>\n",
       "      <td>0.0</td>\n",
       "      <td>245.000000</td>\n",
       "      <td>245.000000</td>\n",
       "      <td>-1.0</td>\n",
       "    </tr>\n",
       "    <tr>\n",
       "      <th>2015-10-08 13:48:00</th>\n",
       "      <td>0.0</td>\n",
       "      <td>244.551111</td>\n",
       "      <td>244.640952</td>\n",
       "      <td>-1.0</td>\n",
       "    </tr>\n",
       "  </tbody>\n",
       "</table>\n",
       "<p>85048 rows × 4 columns</p>\n",
       "</div>"
      ],
      "text/plain": [
       "                     signal    short_mav     long_mav  positions\n",
       "Date                                                            \n",
       "2020-04-08 23:23:00     0.0  7387.911111  7387.913333       -1.0\n",
       "2020-04-08 22:46:00     0.0  7366.197778  7366.685714       -1.0\n",
       "2020-04-08 22:06:00     0.0  7353.776667  7353.934762       -1.0\n",
       "2020-04-08 21:23:00     0.0  7357.260000  7358.383810       -1.0\n",
       "2020-04-08 21:02:00     0.0  7353.583333  7353.935238       -1.0\n",
       "...                     ...          ...          ...        ...\n",
       "2015-10-08 17:13:00     0.0   244.020000   244.020000       -1.0\n",
       "2015-10-08 17:09:00     0.0   244.020000   244.020000       -1.0\n",
       "2015-10-08 16:08:00     0.0   244.854444   244.855714       -1.0\n",
       "2015-10-08 15:15:00     0.0   245.000000   245.000000       -1.0\n",
       "2015-10-08 13:48:00     0.0   244.551111   244.640952       -1.0\n",
       "\n",
       "[85048 rows x 4 columns]"
      ]
     },
     "execution_count": 22,
     "metadata": {},
     "output_type": "execute_result"
    }
   ],
   "source": [
    "signal_df['positions'] = signal_df['signal'].diff()\n",
    "signal_df[signal_df['positions'] == -1.0]"
   ]
  },
  {
   "cell_type": "code",
   "execution_count": 23,
   "id": "5ed8cec5",
   "metadata": {},
   "outputs": [
    {
     "data": {
      "text/plain": [
       "[<matplotlib.lines.Line2D at 0x1dd452b7f40>]"
      ]
     },
     "execution_count": 23,
     "metadata": {},
     "output_type": "execute_result"
    },
    {
     "data": {
      "image/png": "[encoded data removed]",
      "text/plain": [
       "<Figure size 864x576 with 1 Axes>"
      ]
     },
     "metadata": {
      "needs_background": "light"
     },
     "output_type": "display_data"
    }
   ],
   "source": [
    "fig = plt.figure()\n",
    "plt1 = fig.add_subplot(111,  ylabel='Bitcoin Price in US $')\n",
    "df[['Close']].plot(ax=plt1, color='r', lw=2.)\n",
    "\n",
    "signal_df[['short_mav', 'long_mav']].plot(ax=plt1, lw=2., figsize=(12,8))\n",
    "plt1.plot(signal_df.loc[signal_df.positions == -1.0].index,signal_df.short_mav[signal_df.positions == -1.0],'v',                     markersize=10, color='k')\n",
    "plt1.plot(signal_df.loc[signal_df.positions == 1.0].index,signal_df.short_mav[signal_df.positions == 1.0],'^', markersize=10, color='m')         # Show the plotplt.show()\n"
   ]
  },
  {
   "cell_type": "code",
   "execution_count": 24,
   "id": "0588f980",
   "metadata": {},
   "outputs": [
    {
     "data": {
      "image/png": "[encoded data removed]",
      "text/plain": [
       "<Figure size 1584x432 with 1 Axes>"
      ]
     },
     "metadata": {},
     "output_type": "display_data"
    }
   ],
   "source": [
    "# set style, empty figure and axes\n",
    "plt.style.use('fivethirtyeight')\n",
    "fig = plt.figure(figsize=(22,6))\n",
    "ax = fig.add_subplot(111)\n",
    "\n",
    "# Get index values for the X axis \n",
    "x_axis = df.index.get_level_values(0)\n",
    "\n",
    "# Plot shaded 21 Day Bollinger Band \n",
    "ax.fill_between(x_axis, df['Upper Band_2'], df['Lower Band_2'], color='grey')\n",
    "\n",
    "# Plot Adjust Closing Price and Moving Averages\n",
    "ax.plot(x_axis, df['Close'], color='blue', label = 'Price', lw=2)\n",
    "ax.plot(x_axis, df['60_min_sma_close'], color='black', label = '60_min_sma_close', lw=2)\n",
    "\n",
    "plt.scatter(df.index, buy, marker = '^', color = 'green', label = 'BUY', s = 200)\n",
    "\n",
    "plt.scatter(df.index, sell, marker = 'v', color = 'red', label = 'SELL', s = 200)\n",
    "# Set Title & Show the Image\n",
    "ax.set_title('60 min Bollinger Band For Bitcoin')\n",
    "ax.set_xlabel('Date/Time')\n",
    "ax.set_ylabel('Price(USD)')\n",
    "ax.legend()\n",
    "plt.show();"
   ]
  },
  {
   "cell_type": "code",
   "execution_count": 25,
   "id": "47979a72",
   "metadata": {},
   "outputs": [
    {
     "data": {
      "text/plain": [
       "651258"
      ]
     },
     "execution_count": 25,
     "metadata": {},
     "output_type": "execute_result"
    }
   ],
   "source": [
    "df.isnull().sum().sum()"
   ]
  },
  {
   "cell_type": "code",
   "execution_count": 26,
   "id": "ea7a7881",
   "metadata": {},
   "outputs": [
    {
     "data": {
      "text/plain": [
       "(2283519, 15)"
      ]
     },
     "execution_count": 26,
     "metadata": {},
     "output_type": "execute_result"
    }
   ],
   "source": [
    "df.shape"
   ]
  },
  {
   "cell_type": "markdown",
   "id": "befebfce",
   "metadata": {},
   "source": [
    "# RESULTS: QUANTIFIED AUTOMATED TRADING PERFORMANCE"
   ]
  },
  {
   "cell_type": "code",
   "execution_count": 27,
   "id": "00296ec2",
   "metadata": {},
   "outputs": [],
   "source": [
    "# initial trading capital\n",
    "trad_capital= float(1000)\n",
    "\n",
    "positions = pd.DataFrame(index=signal_df.index).fillna(0.0)\n",
    "\n",
    "#Buy a 1000 USD in Bitcoins\n",
    "positions['Position ($)'] = signal_df['signal']\n",
    "\n",
    "portfolio = positions.multiply(df['Close'], axis = 0)\n",
    "\n",
    "pos_diff = positions.diff()\n",
    "\n",
    "portfolio['holdings'] = (positions.multiply(df['Close'], axis = 0)).sum(axis = 1)\n",
    "\n",
    "portfolio['cash'] = trad_capital - (pos_diff.multiply(df['Close'],axis = 0)).sum(axis = 1).cumsum()\n",
    "\n",
    "portfolio['total'] = portfolio['cash'] + portfolio['holdings']"
   ]
  },
  {
   "cell_type": "code",
   "execution_count": 28,
   "id": "eb13bd16",
   "metadata": {},
   "outputs": [
    {
     "data": {
      "text/html": [
       "<div>\n",
       "<style scoped>\n",
       "    .dataframe tbody tr th:only-of-type {\n",
       "        vertical-align: middle;\n",
       "    }\n",
       "\n",
       "    .dataframe tbody tr th {\n",
       "        vertical-align: top;\n",
       "    }\n",
       "\n",
       "    .dataframe thead th {\n",
       "        text-align: right;\n",
       "    }\n",
       "</style>\n",
       "<table border=\"1\" class=\"dataframe\">\n",
       "  <thead>\n",
       "    <tr style=\"text-align: right;\">\n",
       "      <th></th>\n",
       "      <th>signal</th>\n",
       "      <th>short_mav</th>\n",
       "      <th>long_mav</th>\n",
       "      <th>positions</th>\n",
       "    </tr>\n",
       "    <tr>\n",
       "      <th>Date</th>\n",
       "      <th></th>\n",
       "      <th></th>\n",
       "      <th></th>\n",
       "      <th></th>\n",
       "    </tr>\n",
       "  </thead>\n",
       "  <tbody>\n",
       "    <tr>\n",
       "      <th>2020-04-09 00:00:00</th>\n",
       "      <td>0.0</td>\n",
       "      <td>7350.4100</td>\n",
       "      <td>7350.4100</td>\n",
       "      <td>NaN</td>\n",
       "    </tr>\n",
       "    <tr>\n",
       "      <th>2020-04-08 23:59:00</th>\n",
       "      <td>0.0</td>\n",
       "      <td>7360.0050</td>\n",
       "      <td>7360.0050</td>\n",
       "      <td>0.0</td>\n",
       "    </tr>\n",
       "    <tr>\n",
       "      <th>2020-04-08 23:58:00</th>\n",
       "      <td>0.0</td>\n",
       "      <td>7361.4600</td>\n",
       "      <td>7361.4600</td>\n",
       "      <td>0.0</td>\n",
       "    </tr>\n",
       "    <tr>\n",
       "      <th>2020-04-08 23:57:00</th>\n",
       "      <td>0.0</td>\n",
       "      <td>7361.3175</td>\n",
       "      <td>7361.3175</td>\n",
       "      <td>0.0</td>\n",
       "    </tr>\n",
       "    <tr>\n",
       "      <th>2020-04-08 23:56:00</th>\n",
       "      <td>0.0</td>\n",
       "      <td>7360.5780</td>\n",
       "      <td>7360.5780</td>\n",
       "      <td>0.0</td>\n",
       "    </tr>\n",
       "  </tbody>\n",
       "</table>\n",
       "</div>"
      ],
      "text/plain": [
       "                     signal  short_mav   long_mav  positions\n",
       "Date                                                        \n",
       "2020-04-09 00:00:00     0.0  7350.4100  7350.4100        NaN\n",
       "2020-04-08 23:59:00     0.0  7360.0050  7360.0050        0.0\n",
       "2020-04-08 23:58:00     0.0  7361.4600  7361.4600        0.0\n",
       "2020-04-08 23:57:00     0.0  7361.3175  7361.3175        0.0\n",
       "2020-04-08 23:56:00     0.0  7360.5780  7360.5780        0.0"
      ]
     },
     "execution_count": 28,
     "metadata": {},
     "output_type": "execute_result"
    }
   ],
   "source": [
    "signal_df.head()"
   ]
  },
  {
   "cell_type": "code",
   "execution_count": 29,
   "id": "63f9fcf5",
   "metadata": {},
   "outputs": [],
   "source": [
    "portfolio ['returns'] = portfolio['total'].pct_change()"
   ]
  },
  {
   "cell_type": "code",
   "execution_count": 30,
   "id": "5142006a",
   "metadata": {},
   "outputs": [
    {
     "name": "stdout",
     "output_type": "stream",
     "text": [
      "                     holdings    cash   total  returns\n",
      "Date                                                  \n",
      "2020-04-09 00:00:00       0.0  1000.0  1000.0      NaN\n",
      "2020-04-08 23:59:00       0.0  1000.0  1000.0      0.0\n",
      "2020-04-08 23:58:00       0.0  1000.0  1000.0      0.0\n",
      "2020-04-08 23:57:00       0.0  1000.0  1000.0      0.0\n",
      "2020-04-08 23:56:00       0.0  1000.0  1000.0      0.0\n",
      "                     holdings           cash          total  returns\n",
      "Date                                                                \n",
      "2015-10-08 13:44:00       0.0 -129681.296036 -129681.296036      0.0\n",
      "2015-10-08 13:43:00       0.0 -129681.296036 -129681.296036      0.0\n",
      "2015-10-08 13:42:00       0.0 -129681.296036 -129681.296036      0.0\n",
      "2015-10-08 13:41:00       0.0 -129681.296036 -129681.296036      0.0\n",
      "2015-10-08 13:40:00       0.0 -129681.296036 -129681.296036      0.0\n"
     ]
    }
   ],
   "source": [
    "del portfolio['Position ($)']\n",
    "\n",
    "print(portfolio.head())\n",
    "print(portfolio.tail())"
   ]
  },
  {
   "cell_type": "code",
   "execution_count": 31,
   "id": "45b9552a",
   "metadata": {},
   "outputs": [
    {
     "data": {
      "image/png": "[encoded data removed]",
      "text/plain": [
       "<Figure size 1440x1080 with 1 Axes>"
      ]
     },
     "metadata": {},
     "output_type": "display_data"
    }
   ],
   "source": [
    "fig = plt.figure(figsize =(20,15))\n",
    "\n",
    "ax1 = fig.add_subplot(111, ylabel='Portfolio value in $')\n",
    "\n",
    "portfolio['total'].plot(ax=ax1, lw=2.)\n",
    "\n",
    "ax1.plot(portfolio.loc[signal_df.positions == 1.0].index,portfolio.total[signal_df.positions == 1.0], '^', markersize = 20, color = 'g')\n",
    "\n",
    "ax1.plot(portfolio.loc[signal_df.positions == -1.0].index,portfolio.total[signal_df.positions == -1.0], 'v', markersize = 20, color = 'r')\n",
    "\n",
    "plt.show()"
   ]
  },
  {
   "cell_type": "code",
   "execution_count": 32,
   "id": "d93b2f94",
   "metadata": {},
   "outputs": [
    {
     "name": "stdout",
     "output_type": "stream",
     "text": [
      "Portfolio Total Value as of 2015-10-08 \n",
      "Date\n",
      "2015-10-08 13:40:00   -129681.296036\n",
      "Name: total, dtype: float64\n",
      "Absolute return as of 2020-04-09 \n",
      "Date\n",
      "2020-04-09    0.0\n",
      "Name: total, dtype: float64\n"
     ]
    }
   ],
   "source": [
    "print('Portfolio Total Value as of 2015-10-08 ')\n",
    "print(portfolio['total'].tail(1))\n",
    "\n",
    "print('Absolute return as of 2020-04-09 ')\n",
    "\n",
    "print((((portfolio['total'].head(1)/float(1000)) - float(1))*100))"
   ]
  },
  {
   "cell_type": "code",
   "execution_count": 33,
   "id": "a06ac56f",
   "metadata": {},
   "outputs": [],
   "source": [
    "# replacing all the missing values with 0\n",
    "df.fillna(0,inplace = True)"
   ]
  },
  {
   "cell_type": "markdown",
   "id": "58d3285e",
   "metadata": {},
   "source": [
    "# Arima Model"
   ]
  },
  {
   "cell_type": "markdown",
   "id": "0c1302ab",
   "metadata": {},
   "source": [
    "### First, Check for stationarity"
   ]
  },
  {
   "cell_type": "code",
   "execution_count": 34,
   "id": "ccdf18e0",
   "metadata": {},
   "outputs": [],
   "source": [
    "# result = adfuller(df['Close'])\n",
    "# print('ADF Statistic: %f' % result[0])\n",
    "# print('p-value: %f' % result[1])"
   ]
  },
  {
   "cell_type": "markdown",
   "id": "eb8bcbbf",
   "metadata": {},
   "source": [
    "# Model building"
   ]
  },
  {
   "cell_type": "markdown",
   "id": "ed2bb62a",
   "metadata": {},
   "source": [
    "### Auto-correlation plot"
   ]
  },
  {
   "cell_type": "code",
   "execution_count": 35,
   "id": "a65e1525",
   "metadata": {},
   "outputs": [
    {
     "data": {
      "text/html": [
       "<div>\n",
       "<style scoped>\n",
       "    .dataframe tbody tr th:only-of-type {\n",
       "        vertical-align: middle;\n",
       "    }\n",
       "\n",
       "    .dataframe tbody tr th {\n",
       "        vertical-align: top;\n",
       "    }\n",
       "\n",
       "    .dataframe thead th {\n",
       "        text-align: right;\n",
       "    }\n",
       "</style>\n",
       "<table border=\"1\" class=\"dataframe\">\n",
       "  <thead>\n",
       "    <tr style=\"text-align: right;\">\n",
       "      <th></th>\n",
       "      <th>Unix Timestamp</th>\n",
       "      <th>Open</th>\n",
       "      <th>High</th>\n",
       "      <th>Low</th>\n",
       "      <th>Close</th>\n",
       "      <th>Volume</th>\n",
       "      <th>open_%_change</th>\n",
       "      <th>high_%_change</th>\n",
       "      <th>low_%_change</th>\n",
       "      <th>close_%_change</th>\n",
       "      <th>volume_%_change</th>\n",
       "      <th>60_min_sma_close</th>\n",
       "      <th>Upper Band_2</th>\n",
       "      <th>Lower Band_2</th>\n",
       "    </tr>\n",
       "    <tr>\n",
       "      <th>Date</th>\n",
       "      <th></th>\n",
       "      <th></th>\n",
       "      <th></th>\n",
       "      <th></th>\n",
       "      <th></th>\n",
       "      <th></th>\n",
       "      <th></th>\n",
       "      <th></th>\n",
       "      <th></th>\n",
       "      <th></th>\n",
       "      <th></th>\n",
       "      <th></th>\n",
       "      <th></th>\n",
       "      <th></th>\n",
       "    </tr>\n",
       "  </thead>\n",
       "  <tbody>\n",
       "    <tr>\n",
       "      <th>2015-10-30</th>\n",
       "      <td>1.445281e+09</td>\n",
       "      <td>272.517825</td>\n",
       "      <td>272.552324</td>\n",
       "      <td>272.493771</td>\n",
       "      <td>272.528053</td>\n",
       "      <td>0.315693</td>\n",
       "      <td>-0.000037</td>\n",
       "      <td>-0.000007</td>\n",
       "      <td>-0.000038</td>\n",
       "      <td>-0.000006</td>\n",
       "      <td>inf</td>\n",
       "      <td>272.606959</td>\n",
       "      <td>273.639586</td>\n",
       "      <td>271.574332</td>\n",
       "    </tr>\n",
       "    <tr>\n",
       "      <th>2015-11-30</th>\n",
       "      <td>1.447589e+09</td>\n",
       "      <td>349.248233</td>\n",
       "      <td>349.381850</td>\n",
       "      <td>349.116129</td>\n",
       "      <td>349.249282</td>\n",
       "      <td>0.656070</td>\n",
       "      <td>0.000111</td>\n",
       "      <td>0.000106</td>\n",
       "      <td>0.000110</td>\n",
       "      <td>0.000111</td>\n",
       "      <td>inf</td>\n",
       "      <td>349.280790</td>\n",
       "      <td>354.411467</td>\n",
       "      <td>344.150113</td>\n",
       "    </tr>\n",
       "    <tr>\n",
       "      <th>2015-12-31</th>\n",
       "      <td>1.450267e+09</td>\n",
       "      <td>423.096865</td>\n",
       "      <td>423.141559</td>\n",
       "      <td>423.053798</td>\n",
       "      <td>423.098046</td>\n",
       "      <td>0.333863</td>\n",
       "      <td>-0.000001</td>\n",
       "      <td>-0.000001</td>\n",
       "      <td>-0.000001</td>\n",
       "      <td>-0.000001</td>\n",
       "      <td>inf</td>\n",
       "      <td>423.132196</td>\n",
       "      <td>425.150783</td>\n",
       "      <td>421.113609</td>\n",
       "    </tr>\n",
       "    <tr>\n",
       "      <th>2016-01-29</th>\n",
       "      <td>1.452859e+09</td>\n",
       "      <td>413.696836</td>\n",
       "      <td>413.732481</td>\n",
       "      <td>413.660653</td>\n",
       "      <td>413.695619</td>\n",
       "      <td>0.699188</td>\n",
       "      <td>0.000004</td>\n",
       "      <td>0.000004</td>\n",
       "      <td>0.000004</td>\n",
       "      <td>0.000004</td>\n",
       "      <td>inf</td>\n",
       "      <td>413.659613</td>\n",
       "      <td>415.341686</td>\n",
       "      <td>411.977540</td>\n",
       "    </tr>\n",
       "    <tr>\n",
       "      <th>2016-02-29</th>\n",
       "      <td>1.455451e+09</td>\n",
       "      <td>400.367362</td>\n",
       "      <td>400.383248</td>\n",
       "      <td>400.353280</td>\n",
       "      <td>400.368681</td>\n",
       "      <td>0.658288</td>\n",
       "      <td>-0.000003</td>\n",
       "      <td>-0.000003</td>\n",
       "      <td>-0.000003</td>\n",
       "      <td>-0.000003</td>\n",
       "      <td>inf</td>\n",
       "      <td>400.407746</td>\n",
       "      <td>401.255108</td>\n",
       "      <td>399.560384</td>\n",
       "    </tr>\n",
       "  </tbody>\n",
       "</table>\n",
       "</div>"
      ],
      "text/plain": [
       "            Unix Timestamp        Open        High         Low       Close  \\\n",
       "Date                                                                         \n",
       "2015-10-30    1.445281e+09  272.517825  272.552324  272.493771  272.528053   \n",
       "2015-11-30    1.447589e+09  349.248233  349.381850  349.116129  349.249282   \n",
       "2015-12-31    1.450267e+09  423.096865  423.141559  423.053798  423.098046   \n",
       "2016-01-29    1.452859e+09  413.696836  413.732481  413.660653  413.695619   \n",
       "2016-02-29    1.455451e+09  400.367362  400.383248  400.353280  400.368681   \n",
       "\n",
       "              Volume  open_%_change  high_%_change  low_%_change  \\\n",
       "Date                                                               \n",
       "2015-10-30  0.315693      -0.000037      -0.000007     -0.000038   \n",
       "2015-11-30  0.656070       0.000111       0.000106      0.000110   \n",
       "2015-12-31  0.333863      -0.000001      -0.000001     -0.000001   \n",
       "2016-01-29  0.699188       0.000004       0.000004      0.000004   \n",
       "2016-02-29  0.658288      -0.000003      -0.000003     -0.000003   \n",
       "\n",
       "            close_%_change  volume_%_change  60_min_sma_close  Upper Band_2  \\\n",
       "Date                                                                          \n",
       "2015-10-30       -0.000006              inf        272.606959    273.639586   \n",
       "2015-11-30        0.000111              inf        349.280790    354.411467   \n",
       "2015-12-31       -0.000001              inf        423.132196    425.150783   \n",
       "2016-01-29        0.000004              inf        413.659613    415.341686   \n",
       "2016-02-29       -0.000003              inf        400.407746    401.255108   \n",
       "\n",
       "            Lower Band_2  \n",
       "Date                      \n",
       "2015-10-30    271.574332  \n",
       "2015-11-30    344.150113  \n",
       "2015-12-31    421.113609  \n",
       "2016-01-29    411.977540  \n",
       "2016-02-29    399.560384  "
      ]
     },
     "execution_count": 35,
     "metadata": {},
     "output_type": "execute_result"
    }
   ],
   "source": [
    "#Resampling the data using mean\n",
    "df_sampled = df.resample(\"BM\").mean()\n",
    "df_sampled.head()"
   ]
  },
  {
   "cell_type": "code",
   "execution_count": 36,
   "id": "1a0cf470",
   "metadata": {},
   "outputs": [
    {
     "data": {
      "text/plain": [
       "<AxesSubplot:xlabel='Lag', ylabel='Autocorrelation'>"
      ]
     },
     "execution_count": 36,
     "metadata": {},
     "output_type": "execute_result"
    },
    {
     "data": {
      "image/png": "[encoded data removed]",
      "text/plain": [
       "<Figure size 432x288 with 1 Axes>"
      ]
     },
     "metadata": {},
     "output_type": "display_data"
    }
   ],
   "source": [
    "# Autocorrelation plot\n",
    "autocorrelation_plot(df_sampled[\"Close\"])"
   ]
  },
  {
   "cell_type": "markdown",
   "id": "ebd32103",
   "metadata": {},
   "source": [
    "***We can see from the plot that about more than 50% of the data line shows a significant correlation with time. So in this case, a Recurrent Neural Network output will be efficient in Forecasting the Prices.***"
   ]
  },
  {
   "cell_type": "markdown",
   "id": "1ed9683e",
   "metadata": {},
   "source": [
    "# Seasonal plot"
   ]
  },
  {
   "cell_type": "code",
   "execution_count": 37,
   "id": "5ed71e6c",
   "metadata": {},
   "outputs": [
    {
     "name": "stderr",
     "output_type": "stream",
     "text": [
      "C:\\Users\\kakin\\anaconda3\\lib\\site-packages\\seaborn\\_decorators.py:36: FutureWarning: Pass the following variables as keyword args: x, y. From version 0.12, the only valid positional argument will be `data`, and passing other arguments without an explicit keyword will result in an error or misinterpretation.\n",
      "  warnings.warn(\n"
     ]
    },
    {
     "data": {
      "text/plain": [
       "<matplotlib.legend.Legend at 0x1dd47e35d90>"
      ]
     },
     "execution_count": 37,
     "metadata": {},
     "output_type": "execute_result"
    },
    {
     "data": {
      "image/png": "[encoded data removed]",
      "text/plain": [
       "<Figure size 1080x432 with 1 Axes>"
      ]
     },
     "metadata": {},
     "output_type": "display_data"
    }
   ],
   "source": [
    "import seaborn as sns\n",
    "#Creating Month and Year features from Date\n",
    "df['Date'] = pd.to_datetime(df.index)\n",
    "df['Year'] = df['Date'].dt.year\n",
    "df['Month'] = df['Date'].dt.month\n",
    "\n",
    "plt.style.use(\"fivethirtyeight\")\n",
    "variable = 'Close'\n",
    "fig, ax = plt.subplots(figsize=(15, 6))\n",
    "sns.lineplot(df['Month'], df[variable], hue = df['Year'])\n",
    "ax.set_title('Seasonal plot of Price', loc='center')\n",
    "ax.set_xlabel('Month')\n",
    "ax.set_ylabel('Price')\n",
    "ax.legend(labels = [str(2015+i) for i in range(7)], bbox_to_anchor=(1.1, 1.05))"
   ]
  },
  {
   "cell_type": "markdown",
   "id": "52cba2c5",
   "metadata": {},
   "source": [
    " ***From the plot, we can see a high bitcoin price after the month of june then a slight drop. Similar to other years except for 2020 and 2015. In 2017, there was an upward trend in price.***   "
   ]
  },
  {
   "cell_type": "code",
   "execution_count": 38,
   "id": "0fa0ba23",
   "metadata": {},
   "outputs": [
    {
     "name": "stderr",
     "output_type": "stream",
     "text": [
      "<ipython-input-38-dca8c2ab2f7b>:15: FutureWarning: the 'freq'' keyword is deprecated, use 'period' instead\n",
      "  decomposition = sm.tsa.seasonal_decompose(y, model='multiplicative', freq = 12)\n"
     ]
    },
    {
     "name": "stdout",
     "output_type": "stream",
     "text": [
      "<bound method Figure.get_size_inches of <Figure size 1080x864 with 4 Axes>>\n"
     ]
    },
    {
     "data": {
      "image/png": "[encoded data removed]",
      "text/plain": [
       "<Figure size 1080x864 with 4 Axes>"
      ]
     },
     "metadata": {},
     "output_type": "display_data"
    }
   ],
   "source": [
    "from pylab import rcParams\n",
    "import statsmodels.api as sm\n",
    "\n",
    "plt.style.use(\"fivethirtyeight\")\n",
    "y = df[['Date','Open']].copy()\n",
    "y.set_index('Date', inplace=True)\n",
    "y.index = pd.to_datetime(y.index)\n",
    "y = y.resample(\"1M\").mean()\n",
    "\n",
    "rcParams['figure.figsize'] = 15, 12\n",
    "rcParams['axes.labelsize'] = 20\n",
    "rcParams['ytick.labelsize'] = 16\n",
    "rcParams['xtick.labelsize'] = 16\n",
    "\n",
    "decomposition = sm.tsa.seasonal_decompose(y, model='multiplicative', freq = 12)\n",
    "decomp = decomposition.plot()\n",
    "decomp.suptitle('Open decomposition', fontsize=22)\n",
    "print(decomp.get_size_inches)"
   ]
  },
  {
   "cell_type": "markdown",
   "id": "fb6c45fc",
   "metadata": {},
   "source": [
    "***Trend, Seasonal, and Residual plots to show the recurring variations i.e. the ups and downs of time-series data, pattern across the season and the resudual.***"
   ]
  },
  {
   "cell_type": "code",
   "execution_count": 39,
   "id": "57586bc9",
   "metadata": {},
   "outputs": [
    {
     "data": {
      "text/plain": [
       "Index(['Unix Timestamp', 'Symbol', 'Open', 'High', 'Low', 'Close', 'Volume',\n",
       "       'open_%_change', 'high_%_change', 'low_%_change', 'close_%_change',\n",
       "       'volume_%_change', '60_min_sma_close', 'Upper Band_2', 'Lower Band_2',\n",
       "       'Date', 'Year', 'Month'],\n",
       "      dtype='object')"
      ]
     },
     "execution_count": 39,
     "metadata": {},
     "output_type": "execute_result"
    }
   ],
   "source": [
    "df.columns"
   ]
  },
  {
   "cell_type": "markdown",
   "id": "9990b529",
   "metadata": {},
   "source": [
    "# LONG SHORT-TERM MEMORY(LSTM)"
   ]
  },
  {
   "cell_type": "markdown",
   "id": "08197bed",
   "metadata": {},
   "source": [
    "### Normalization"
   ]
  },
  {
   "cell_type": "code",
   "execution_count": 40,
   "id": "ecd77dc1",
   "metadata": {},
   "outputs": [],
   "source": [
    "df1=df['Close']"
   ]
  },
  {
   "cell_type": "code",
   "execution_count": 45,
   "id": "4ffef6f5",
   "metadata": {},
   "outputs": [],
   "source": []
  },
  {
   "cell_type": "code",
   "execution_count": 52,
   "id": "8ab4a731",
   "metadata": {},
   "outputs": [],
   "source": [
    "from keras.layers import Dense, Embedding "
   ]
  },
  {
   "cell_type": "markdown",
   "id": "ae2c320d",
   "metadata": {},
   "source": [
    "# Start here"
   ]
  },
  {
   "cell_type": "markdown",
   "id": "68180305",
   "metadata": {},
   "source": [
    "# Using the LSTM on the relative price change"
   ]
  },
  {
   "cell_type": "markdown",
   "id": "9392f7da",
   "metadata": {},
   "source": [
    "# Preprocessing on relative price data"
   ]
  },
  {
   "cell_type": "markdown",
   "id": "8a38c27d",
   "metadata": {},
   "source": [
    "# LSTM on absolute price "
   ]
  },
  {
   "cell_type": "code",
   "execution_count": 99,
   "id": "25cc58c9",
   "metadata": {},
   "outputs": [],
   "source": [
    "df_features = df[['Close', 'Open', 'High', 'Low', 'Volume']]\n"
   ]
  },
  {
   "cell_type": "code",
   "execution_count": 100,
   "id": "9ab5398d",
   "metadata": {},
   "outputs": [
    {
     "name": "stderr",
     "output_type": "stream",
     "text": [
      "<ipython-input-100-55dda024d441>:1: SettingWithCopyWarning: \n",
      "A value is trying to be set on a copy of a slice from a DataFrame.\n",
      "Try using .loc[row_indexer,col_indexer] = value instead\n",
      "\n",
      "See the caveats in the documentation: https://pandas.pydata.org/pandas-docs/stable/user_guide/indexing.html#returning-a-view-versus-a-copy\n",
      "  df_features['abs_close_price'] = df_features['Close'] - df_features['Close'].shift(1)\n"
     ]
    }
   ],
   "source": [
    "\n",
    "df_features['abs_close_price'] = df_features['Close'] - df_features['Close'].shift(1)"
   ]
  },
  {
   "cell_type": "code",
   "execution_count": 101,
   "id": "24c0c546",
   "metadata": {},
   "outputs": [
    {
     "name": "stderr",
     "output_type": "stream",
     "text": [
      "<ipython-input-101-1b46b051a101>:1: SettingWithCopyWarning: \n",
      "A value is trying to be set on a copy of a slice from a DataFrame.\n",
      "Try using .loc[row_indexer,col_indexer] = value instead\n",
      "\n",
      "See the caveats in the documentation: https://pandas.pydata.org/pandas-docs/stable/user_guide/indexing.html#returning-a-view-versus-a-copy\n",
      "  df_features['abs_open_price'] = df_features['Open'] - df_features['Open'].shift(1)\n",
      "<ipython-input-101-1b46b051a101>:2: SettingWithCopyWarning: \n",
      "A value is trying to be set on a copy of a slice from a DataFrame.\n",
      "Try using .loc[row_indexer,col_indexer] = value instead\n",
      "\n",
      "See the caveats in the documentation: https://pandas.pydata.org/pandas-docs/stable/user_guide/indexing.html#returning-a-view-versus-a-copy\n",
      "  df_features['abs_high_price'] = df_features['High'] - df_features['High'].shift(1)\n",
      "<ipython-input-101-1b46b051a101>:3: SettingWithCopyWarning: \n",
      "A value is trying to be set on a copy of a slice from a DataFrame.\n",
      "Try using .loc[row_indexer,col_indexer] = value instead\n",
      "\n",
      "See the caveats in the documentation: https://pandas.pydata.org/pandas-docs/stable/user_guide/indexing.html#returning-a-view-versus-a-copy\n",
      "  df_features['abs_low_price'] = df_features['Low'] - df_features['Low'].shift(1)\n",
      "<ipython-input-101-1b46b051a101>:4: SettingWithCopyWarning: \n",
      "A value is trying to be set on a copy of a slice from a DataFrame.\n",
      "Try using .loc[row_indexer,col_indexer] = value instead\n",
      "\n",
      "See the caveats in the documentation: https://pandas.pydata.org/pandas-docs/stable/user_guide/indexing.html#returning-a-view-versus-a-copy\n",
      "  df_features['abs_volume'] = df_features['Volume'] - df_features['Volume'].shift(1)\n"
     ]
    }
   ],
   "source": [
    "\n",
    "df_features['abs_open_price'] = df_features['Open'] - df_features['Open'].shift(1)\n",
    "df_features['abs_high_price'] = df_features['High'] - df_features['High'].shift(1)\n",
    "df_features['abs_low_price'] = df_features['Low'] - df_features['Low'].shift(1)\n",
    "df_features['abs_volume'] = df_features['Volume'] - df_features['Volume'].shift(1)"
   ]
  },
  {
   "cell_type": "code",
   "execution_count": 102,
   "id": "2ed145ce",
   "metadata": {},
   "outputs": [
    {
     "name": "stderr",
     "output_type": "stream",
     "text": [
      "<ipython-input-102-8337d135c310>:1: SettingWithCopyWarning: \n",
      "A value is trying to be set on a copy of a slice from a DataFrame.\n",
      "Try using .loc[row_indexer,col_indexer] = value instead\n",
      "\n",
      "See the caveats in the documentation: https://pandas.pydata.org/pandas-docs/stable/user_guide/indexing.html#returning-a-view-versus-a-copy\n",
      "  df_features['60_min_sma_volume_change'] = df_features['abs_volume'].rolling(window=60).mean()\n",
      "<ipython-input-102-8337d135c310>:2: SettingWithCopyWarning: \n",
      "A value is trying to be set on a copy of a slice from a DataFrame.\n",
      "Try using .loc[row_indexer,col_indexer] = value instead\n",
      "\n",
      "See the caveats in the documentation: https://pandas.pydata.org/pandas-docs/stable/user_guide/indexing.html#returning-a-view-versus-a-copy\n",
      "  df_features['60_min_sma_open_change'] = df_features['abs_open_price'].rolling(window=60).mean()\n",
      "<ipython-input-102-8337d135c310>:3: SettingWithCopyWarning: \n",
      "A value is trying to be set on a copy of a slice from a DataFrame.\n",
      "Try using .loc[row_indexer,col_indexer] = value instead\n",
      "\n",
      "See the caveats in the documentation: https://pandas.pydata.org/pandas-docs/stable/user_guide/indexing.html#returning-a-view-versus-a-copy\n",
      "  df_features['60_min_sma_high_change'] = df_features['abs_high_price'].rolling(window=60).mean()\n",
      "<ipython-input-102-8337d135c310>:4: SettingWithCopyWarning: \n",
      "A value is trying to be set on a copy of a slice from a DataFrame.\n",
      "Try using .loc[row_indexer,col_indexer] = value instead\n",
      "\n",
      "See the caveats in the documentation: https://pandas.pydata.org/pandas-docs/stable/user_guide/indexing.html#returning-a-view-versus-a-copy\n",
      "  df_features['60_min_sma_low_change'] = df_features['abs_low_price'].rolling(window=60).mean()\n"
     ]
    }
   ],
   "source": [
    "df_features['60_min_sma_volume_change'] = df_features['abs_volume'].rolling(window=60).mean()\n",
    "df_features['60_min_sma_open_change'] = df_features['abs_open_price'].rolling(window=60).mean()\n",
    "df_features['60_min_sma_high_change'] = df_features['abs_high_price'].rolling(window=60).mean()\n",
    "df_features['60_min_sma_low_change'] = df_features['abs_low_price'].rolling(window=60).mean()\n",
    "df_features['60_min_sma_close_change'] = df_features['abs_close_price'].rolling(window=60).mean()"
   ]
  },
  {
   "cell_type": "markdown",
   "id": "b9e9b628",
   "metadata": {},
   "source": [
    "# Features selection"
   ]
  },
  {
   "cell_type": "code",
   "execution_count": 105,
   "id": "dd734ca6",
   "metadata": {},
   "outputs": [],
   "source": [
    "df_features = df_features[['60_min_sma_volume_change', '60_min_sma_open_change',\n",
    "       '60_min_sma_high_change', '60_min_sma_low_change',\n",
    "       '60_min_sma_close_change']]"
   ]
  },
  {
   "cell_type": "code",
   "execution_count": 106,
   "id": "418015ec",
   "metadata": {},
   "outputs": [
    {
     "name": "stderr",
     "output_type": "stream",
     "text": [
      "C:\\Users\\kakin\\anaconda3\\lib\\site-packages\\pandas\\core\\frame.py:4462: SettingWithCopyWarning: \n",
      "A value is trying to be set on a copy of a slice from a DataFrame\n",
      "\n",
      "See the caveats in the documentation: https://pandas.pydata.org/pandas-docs/stable/user_guide/indexing.html#returning-a-view-versus-a-copy\n",
      "  return super().fillna(\n"
     ]
    }
   ],
   "source": [
    "df_features.fillna(0, inplace = True)"
   ]
  },
  {
   "cell_type": "code",
   "execution_count": 320,
   "id": "944a9fb3",
   "metadata": {},
   "outputs": [
    {
     "data": {
      "text/html": [
       "<div>\n",
       "<style scoped>\n",
       "    .dataframe tbody tr th:only-of-type {\n",
       "        vertical-align: middle;\n",
       "    }\n",
       "\n",
       "    .dataframe tbody tr th {\n",
       "        vertical-align: top;\n",
       "    }\n",
       "\n",
       "    .dataframe thead th {\n",
       "        text-align: right;\n",
       "    }\n",
       "</style>\n",
       "<table border=\"1\" class=\"dataframe\">\n",
       "  <thead>\n",
       "    <tr style=\"text-align: right;\">\n",
       "      <th></th>\n",
       "      <th>Close</th>\n",
       "      <th>Open</th>\n",
       "      <th>High</th>\n",
       "      <th>Low</th>\n",
       "      <th>Volume</th>\n",
       "      <th>abs_close_price</th>\n",
       "      <th>abs_open_price</th>\n",
       "      <th>abs_high_price</th>\n",
       "      <th>abs_low_price</th>\n",
       "      <th>abs_volume</th>\n",
       "      <th>30_min_sma_close_change</th>\n",
       "      <th>30_min_sma_volume_change</th>\n",
       "      <th>30_min_sma_open_change</th>\n",
       "      <th>30_min_sma_high_change</th>\n",
       "      <th>30_min_sma_low_change</th>\n",
       "    </tr>\n",
       "    <tr>\n",
       "      <th>Date</th>\n",
       "      <th></th>\n",
       "      <th></th>\n",
       "      <th></th>\n",
       "      <th></th>\n",
       "      <th></th>\n",
       "      <th></th>\n",
       "      <th></th>\n",
       "      <th></th>\n",
       "      <th></th>\n",
       "      <th></th>\n",
       "      <th></th>\n",
       "      <th></th>\n",
       "      <th></th>\n",
       "      <th></th>\n",
       "      <th></th>\n",
       "    </tr>\n",
       "  </thead>\n",
       "  <tbody>\n",
       "    <tr>\n",
       "      <th>2020-04-09 00:00:00</th>\n",
       "      <td>7350.41</td>\n",
       "      <td>7369.60</td>\n",
       "      <td>7369.60</td>\n",
       "      <td>7348.47</td>\n",
       "      <td>7.733528</td>\n",
       "      <td>0.00</td>\n",
       "      <td>0.00</td>\n",
       "      <td>0.00</td>\n",
       "      <td>0.00</td>\n",
       "      <td>0.000000</td>\n",
       "      <td>0.0</td>\n",
       "      <td>0.0</td>\n",
       "      <td>0.0</td>\n",
       "      <td>0.0</td>\n",
       "      <td>0.0</td>\n",
       "    </tr>\n",
       "    <tr>\n",
       "      <th>2020-04-08 23:59:00</th>\n",
       "      <td>7369.60</td>\n",
       "      <td>7364.37</td>\n",
       "      <td>7369.60</td>\n",
       "      <td>7364.37</td>\n",
       "      <td>1.310954</td>\n",
       "      <td>19.19</td>\n",
       "      <td>-5.23</td>\n",
       "      <td>0.00</td>\n",
       "      <td>15.90</td>\n",
       "      <td>-6.422573</td>\n",
       "      <td>0.0</td>\n",
       "      <td>0.0</td>\n",
       "      <td>0.0</td>\n",
       "      <td>0.0</td>\n",
       "      <td>0.0</td>\n",
       "    </tr>\n",
       "    <tr>\n",
       "      <th>2020-04-08 23:58:00</th>\n",
       "      <td>7364.37</td>\n",
       "      <td>7360.89</td>\n",
       "      <td>7367.18</td>\n",
       "      <td>7360.89</td>\n",
       "      <td>1.018774</td>\n",
       "      <td>-5.23</td>\n",
       "      <td>-3.48</td>\n",
       "      <td>-2.42</td>\n",
       "      <td>-3.48</td>\n",
       "      <td>-0.292180</td>\n",
       "      <td>0.0</td>\n",
       "      <td>0.0</td>\n",
       "      <td>0.0</td>\n",
       "      <td>0.0</td>\n",
       "      <td>0.0</td>\n",
       "    </tr>\n",
       "    <tr>\n",
       "      <th>2020-04-08 23:57:00</th>\n",
       "      <td>7360.89</td>\n",
       "      <td>7357.62</td>\n",
       "      <td>7366.12</td>\n",
       "      <td>7357.62</td>\n",
       "      <td>0.026251</td>\n",
       "      <td>-3.48</td>\n",
       "      <td>-3.27</td>\n",
       "      <td>-1.06</td>\n",
       "      <td>-3.27</td>\n",
       "      <td>-0.992524</td>\n",
       "      <td>0.0</td>\n",
       "      <td>0.0</td>\n",
       "      <td>0.0</td>\n",
       "      <td>0.0</td>\n",
       "      <td>0.0</td>\n",
       "    </tr>\n",
       "    <tr>\n",
       "      <th>2020-04-08 23:56:00</th>\n",
       "      <td>7357.62</td>\n",
       "      <td>7370.71</td>\n",
       "      <td>7370.71</td>\n",
       "      <td>7357.62</td>\n",
       "      <td>0.444867</td>\n",
       "      <td>-3.27</td>\n",
       "      <td>13.09</td>\n",
       "      <td>4.59</td>\n",
       "      <td>0.00</td>\n",
       "      <td>0.418616</td>\n",
       "      <td>0.0</td>\n",
       "      <td>0.0</td>\n",
       "      <td>0.0</td>\n",
       "      <td>0.0</td>\n",
       "      <td>0.0</td>\n",
       "    </tr>\n",
       "  </tbody>\n",
       "</table>\n",
       "</div>"
      ],
      "text/plain": [
       "                       Close     Open     High      Low    Volume  \\\n",
       "Date                                                                \n",
       "2020-04-09 00:00:00  7350.41  7369.60  7369.60  7348.47  7.733528   \n",
       "2020-04-08 23:59:00  7369.60  7364.37  7369.60  7364.37  1.310954   \n",
       "2020-04-08 23:58:00  7364.37  7360.89  7367.18  7360.89  1.018774   \n",
       "2020-04-08 23:57:00  7360.89  7357.62  7366.12  7357.62  0.026251   \n",
       "2020-04-08 23:56:00  7357.62  7370.71  7370.71  7357.62  0.444867   \n",
       "\n",
       "                     abs_close_price  abs_open_price  abs_high_price  \\\n",
       "Date                                                                   \n",
       "2020-04-09 00:00:00             0.00            0.00            0.00   \n",
       "2020-04-08 23:59:00            19.19           -5.23            0.00   \n",
       "2020-04-08 23:58:00            -5.23           -3.48           -2.42   \n",
       "2020-04-08 23:57:00            -3.48           -3.27           -1.06   \n",
       "2020-04-08 23:56:00            -3.27           13.09            4.59   \n",
       "\n",
       "                     abs_low_price  abs_volume  30_min_sma_close_change  \\\n",
       "Date                                                                      \n",
       "2020-04-09 00:00:00           0.00    0.000000                      0.0   \n",
       "2020-04-08 23:59:00          15.90   -6.422573                      0.0   \n",
       "2020-04-08 23:58:00          -3.48   -0.292180                      0.0   \n",
       "2020-04-08 23:57:00          -3.27   -0.992524                      0.0   \n",
       "2020-04-08 23:56:00           0.00    0.418616                      0.0   \n",
       "\n",
       "                     30_min_sma_volume_change  30_min_sma_open_change  \\\n",
       "Date                                                                    \n",
       "2020-04-09 00:00:00                       0.0                     0.0   \n",
       "2020-04-08 23:59:00                       0.0                     0.0   \n",
       "2020-04-08 23:58:00                       0.0                     0.0   \n",
       "2020-04-08 23:57:00                       0.0                     0.0   \n",
       "2020-04-08 23:56:00                       0.0                     0.0   \n",
       "\n",
       "                     30_min_sma_high_change  30_min_sma_low_change  \n",
       "Date                                                                \n",
       "2020-04-09 00:00:00                     0.0                    0.0  \n",
       "2020-04-08 23:59:00                     0.0                    0.0  \n",
       "2020-04-08 23:58:00                     0.0                    0.0  \n",
       "2020-04-08 23:57:00                     0.0                    0.0  \n",
       "2020-04-08 23:56:00                     0.0                    0.0  "
      ]
     },
     "execution_count": 320,
     "metadata": {},
     "output_type": "execute_result"
    }
   ],
   "source": [
    "df_features.head()"
   ]
  },
  {
   "cell_type": "code",
   "execution_count": 307,
   "id": "c85e3a5c",
   "metadata": {},
   "outputs": [],
   "source": [
    "# Training set\n",
    "training_size_0 =int(len(df_features)*0.65)\n",
    "\n",
    "# Test set\n",
    "test_size_0=len(df_features)-training_size_0\n",
    "\n",
    "train_data_0,test_data_0=df_features[0:training_size_0],df_features[training_size_0:len(df_features)]"
   ]
  },
  {
   "cell_type": "code",
   "execution_count": 110,
   "id": "f5ed5436",
   "metadata": {},
   "outputs": [
    {
     "name": "stdout",
     "output_type": "stream",
     "text": [
      "(1484287, 5)\n",
      "(799232, 5)\n"
     ]
    }
   ],
   "source": [
    "print(train_data_0.shape)\n",
    "print(test_data_0.shape)"
   ]
  },
  {
   "cell_type": "markdown",
   "id": "4cef019d",
   "metadata": {},
   "source": [
    "# Scalling"
   ]
  },
  {
   "cell_type": "code",
   "execution_count": 112,
   "id": "7142d0c8",
   "metadata": {},
   "outputs": [
    {
     "data": {
      "text/plain": [
       "array([[0.50298713, 0.51472298, 0.49104844, 0.50689905, 0.51472298],\n",
       "       [0.50298713, 0.51472298, 0.49104844, 0.50689905, 0.51472298],\n",
       "       [0.50298713, 0.51472298, 0.49104844, 0.50689905, 0.51472298],\n",
       "       [0.50298713, 0.51472298, 0.49104844, 0.50689905, 0.51472298],\n",
       "       [0.50298713, 0.51472298, 0.49104844, 0.50689905, 0.51472298]])"
      ]
     },
     "execution_count": 112,
     "metadata": {},
     "output_type": "execute_result"
    }
   ],
   "source": [
    "# Scaling the training data\n",
    "scaler_0 = MinMaxScaler()\n",
    "\n",
    "data_training_0 = scaler_0.fit_transform(train_data_0)\n",
    "data_training_0[0:5]"
   ]
  },
  {
   "cell_type": "code",
   "execution_count": 113,
   "id": "f65804b3",
   "metadata": {},
   "outputs": [],
   "source": [
    "X_train_0 = []\n",
    "y_train_0 = []"
   ]
  },
  {
   "cell_type": "markdown",
   "id": "215949db",
   "metadata": {},
   "source": [
    "# SPLITTING THE TRAINING SET INTO X AND Y"
   ]
  },
  {
   "cell_type": "code",
   "execution_count": 115,
   "id": "687aadd2",
   "metadata": {},
   "outputs": [],
   "source": [
    "for i in range(60, data_training_0.shape[0]):\n",
    "    X_train_0.append(data_training_0[i-60:i])\n",
    "    y_train_0.append(data_training_0[i, 0])"
   ]
  },
  {
   "cell_type": "code",
   "execution_count": 116,
   "id": "ced087e4",
   "metadata": {},
   "outputs": [],
   "source": [
    "X_train_0, y_train_0 = np.array(X_train_0), np.array(y_train_0)\n"
   ]
  },
  {
   "cell_type": "code",
   "execution_count": 118,
   "id": "c76be140",
   "metadata": {},
   "outputs": [
    {
     "name": "stdout",
     "output_type": "stream",
     "text": [
      "(1484227, 60, 5)\n",
      "(1484227,)\n"
     ]
    }
   ],
   "source": [
    "\n",
    "print(X_train_0.shape)\n",
    "print(y_train_0.shape)"
   ]
  },
  {
   "cell_type": "markdown",
   "id": "101637d0",
   "metadata": {},
   "source": [
    "# Model building"
   ]
  },
  {
   "cell_type": "code",
   "execution_count": 119,
   "id": "5536372a",
   "metadata": {},
   "outputs": [],
   "source": [
    "model_0 = Sequential()\n",
    "\n",
    "model_0.add(LSTM(units = 60, activation = 'relu', return_sequences = True, input_shape = (X_train_0.shape[1], 5)))\n",
    "model_0.add(Dropout(0.2))\n",
    "\n",
    "model_0.add(LSTM(units = 60, activation = 'relu', return_sequences = True))\n",
    "model_0.add(Dropout(0.2))\n",
    "\n",
    "model_0.add(LSTM(units = 80, activation = 'relu', return_sequences = True))\n",
    "model_0.add(Dropout(0.2))\n",
    "\n",
    "model_0.add(LSTM(units = 120, activation = 'relu'))\n",
    "model_0.add(Dropout(0.2))\n",
    "\n",
    "model_0.add(Dense(units = 1))"
   ]
  },
  {
   "cell_type": "code",
   "execution_count": 120,
   "id": "dd506f4f",
   "metadata": {},
   "outputs": [],
   "source": [
    "model_0.compile(optimizer='adam', loss = 'mean_squared_error')\n"
   ]
  },
  {
   "cell_type": "markdown",
   "id": "f7e72eee",
   "metadata": {},
   "source": [
    "# MODEL FIT"
   ]
  },
  {
   "cell_type": "code",
   "execution_count": 121,
   "id": "4ee0b3e1",
   "metadata": {},
   "outputs": [
    {
     "name": "stdout",
     "output_type": "stream",
     "text": [
      "Epoch 1/5\n",
      "46383/46383 [==============================] - 6468s 139ms/step - loss: 1.0320e-04\n",
      "Epoch 2/5\n",
      "46383/46383 [==============================] - 6204s 134ms/step - loss: 3.2335e-06\n",
      "Epoch 3/5\n",
      "46383/46383 [==============================] - 4766s 103ms/step - loss: 3.2340e-06\n",
      "Epoch 4/5\n",
      "46383/46383 [==============================] - 4823s 104ms/step - loss: 3.2307e-06\n",
      "Epoch 5/5\n",
      "46383/46383 [==============================] - 4801s 104ms/step - loss: 3.2347e-06\n"
     ]
    },
    {
     "data": {
      "text/plain": [
       "<keras.callbacks.History at 0x1dd0b840c10>"
      ]
     },
     "execution_count": 121,
     "metadata": {},
     "output_type": "execute_result"
    }
   ],
   "source": [
    "model_0.fit(X_train_0, y_train_0, epochs=5, batch_size=32)\n"
   ]
  },
  {
   "cell_type": "code",
   "execution_count": 122,
   "id": "e564357f",
   "metadata": {
    "scrolled": true
   },
   "outputs": [
    {
     "data": {
      "text/html": [
       "<div>\n",
       "<style scoped>\n",
       "    .dataframe tbody tr th:only-of-type {\n",
       "        vertical-align: middle;\n",
       "    }\n",
       "\n",
       "    .dataframe tbody tr th {\n",
       "        vertical-align: top;\n",
       "    }\n",
       "\n",
       "    .dataframe thead th {\n",
       "        text-align: right;\n",
       "    }\n",
       "</style>\n",
       "<table border=\"1\" class=\"dataframe\">\n",
       "  <thead>\n",
       "    <tr style=\"text-align: right;\">\n",
       "      <th></th>\n",
       "      <th>60_min_sma_volume_change</th>\n",
       "      <th>60_min_sma_open_change</th>\n",
       "      <th>60_min_sma_high_change</th>\n",
       "      <th>60_min_sma_low_change</th>\n",
       "      <th>60_min_sma_close_change</th>\n",
       "    </tr>\n",
       "    <tr>\n",
       "      <th>Date</th>\n",
       "      <th></th>\n",
       "      <th></th>\n",
       "      <th></th>\n",
       "      <th></th>\n",
       "      <th></th>\n",
       "    </tr>\n",
       "  </thead>\n",
       "  <tbody>\n",
       "    <tr>\n",
       "      <th>2017-04-15 14:11:00</th>\n",
       "      <td>-4.221312e-02</td>\n",
       "      <td>-0.094833</td>\n",
       "      <td>-0.094833</td>\n",
       "      <td>-0.094833</td>\n",
       "      <td>-0.094833</td>\n",
       "    </tr>\n",
       "    <tr>\n",
       "      <th>2017-04-15 14:10:00</th>\n",
       "      <td>-4.151008e-03</td>\n",
       "      <td>-0.094833</td>\n",
       "      <td>-0.094833</td>\n",
       "      <td>-0.094833</td>\n",
       "      <td>-0.094833</td>\n",
       "    </tr>\n",
       "    <tr>\n",
       "      <th>2017-04-15 14:09:00</th>\n",
       "      <td>-1.980518e-04</td>\n",
       "      <td>-0.094833</td>\n",
       "      <td>-0.094833</td>\n",
       "      <td>-0.094833</td>\n",
       "      <td>-0.094833</td>\n",
       "    </tr>\n",
       "    <tr>\n",
       "      <th>2017-04-15 14:08:00</th>\n",
       "      <td>-1.365713e-14</td>\n",
       "      <td>-0.094833</td>\n",
       "      <td>-0.094833</td>\n",
       "      <td>-0.094833</td>\n",
       "      <td>-0.094833</td>\n",
       "    </tr>\n",
       "    <tr>\n",
       "      <th>2017-04-15 14:07:00</th>\n",
       "      <td>3.877231e-02</td>\n",
       "      <td>-0.112333</td>\n",
       "      <td>-0.094833</td>\n",
       "      <td>-0.112333</td>\n",
       "      <td>-0.094833</td>\n",
       "    </tr>\n",
       "  </tbody>\n",
       "</table>\n",
       "</div>"
      ],
      "text/plain": [
       "                     60_min_sma_volume_change  60_min_sma_open_change  \\\n",
       "Date                                                                    \n",
       "2017-04-15 14:11:00             -4.221312e-02               -0.094833   \n",
       "2017-04-15 14:10:00             -4.151008e-03               -0.094833   \n",
       "2017-04-15 14:09:00             -1.980518e-04               -0.094833   \n",
       "2017-04-15 14:08:00             -1.365713e-14               -0.094833   \n",
       "2017-04-15 14:07:00              3.877231e-02               -0.112333   \n",
       "\n",
       "                     60_min_sma_high_change  60_min_sma_low_change  \\\n",
       "Date                                                                 \n",
       "2017-04-15 14:11:00               -0.094833              -0.094833   \n",
       "2017-04-15 14:10:00               -0.094833              -0.094833   \n",
       "2017-04-15 14:09:00               -0.094833              -0.094833   \n",
       "2017-04-15 14:08:00               -0.094833              -0.094833   \n",
       "2017-04-15 14:07:00               -0.094833              -0.112333   \n",
       "\n",
       "                     60_min_sma_close_change  \n",
       "Date                                          \n",
       "2017-04-15 14:11:00                -0.094833  \n",
       "2017-04-15 14:10:00                -0.094833  \n",
       "2017-04-15 14:09:00                -0.094833  \n",
       "2017-04-15 14:08:00                -0.094833  \n",
       "2017-04-15 14:07:00                -0.094833  "
      ]
     },
     "execution_count": 122,
     "metadata": {},
     "output_type": "execute_result"
    }
   ],
   "source": [
    "test_data_0.head()"
   ]
  },
  {
   "cell_type": "code",
   "execution_count": 123,
   "id": "254c6237",
   "metadata": {
    "scrolled": true
   },
   "outputs": [
    {
     "data": {
      "text/html": [
       "<div>\n",
       "<style scoped>\n",
       "    .dataframe tbody tr th:only-of-type {\n",
       "        vertical-align: middle;\n",
       "    }\n",
       "\n",
       "    .dataframe tbody tr th {\n",
       "        vertical-align: top;\n",
       "    }\n",
       "\n",
       "    .dataframe thead th {\n",
       "        text-align: right;\n",
       "    }\n",
       "</style>\n",
       "<table border=\"1\" class=\"dataframe\">\n",
       "  <thead>\n",
       "    <tr style=\"text-align: right;\">\n",
       "      <th></th>\n",
       "      <th>60_min_sma_volume_change</th>\n",
       "      <th>60_min_sma_open_change</th>\n",
       "      <th>60_min_sma_high_change</th>\n",
       "      <th>60_min_sma_low_change</th>\n",
       "      <th>60_min_sma_close_change</th>\n",
       "    </tr>\n",
       "    <tr>\n",
       "      <th>Date</th>\n",
       "      <th></th>\n",
       "      <th></th>\n",
       "      <th></th>\n",
       "      <th></th>\n",
       "      <th></th>\n",
       "    </tr>\n",
       "  </thead>\n",
       "  <tbody>\n",
       "    <tr>\n",
       "      <th>2017-04-15 15:11:00</th>\n",
       "      <td>0.031826</td>\n",
       "      <td>-0.005</td>\n",
       "      <td>-0.005</td>\n",
       "      <td>-0.005</td>\n",
       "      <td>-0.005</td>\n",
       "    </tr>\n",
       "    <tr>\n",
       "      <th>2017-04-15 15:10:00</th>\n",
       "      <td>0.005579</td>\n",
       "      <td>-0.005</td>\n",
       "      <td>-0.005</td>\n",
       "      <td>-0.005</td>\n",
       "      <td>-0.005</td>\n",
       "    </tr>\n",
       "    <tr>\n",
       "      <th>2017-04-15 15:09:00</th>\n",
       "      <td>0.000494</td>\n",
       "      <td>-0.005</td>\n",
       "      <td>-0.005</td>\n",
       "      <td>-0.005</td>\n",
       "      <td>-0.005</td>\n",
       "    </tr>\n",
       "    <tr>\n",
       "      <th>2017-04-15 15:08:00</th>\n",
       "      <td>-0.001952</td>\n",
       "      <td>-0.005</td>\n",
       "      <td>-0.005</td>\n",
       "      <td>-0.005</td>\n",
       "      <td>-0.005</td>\n",
       "    </tr>\n",
       "    <tr>\n",
       "      <th>2017-04-15 15:07:00</th>\n",
       "      <td>0.000802</td>\n",
       "      <td>-0.005</td>\n",
       "      <td>-0.005</td>\n",
       "      <td>-0.005</td>\n",
       "      <td>-0.005</td>\n",
       "    </tr>\n",
       "  </tbody>\n",
       "</table>\n",
       "</div>"
      ],
      "text/plain": [
       "                     60_min_sma_volume_change  60_min_sma_open_change  \\\n",
       "Date                                                                    \n",
       "2017-04-15 15:11:00                  0.031826                  -0.005   \n",
       "2017-04-15 15:10:00                  0.005579                  -0.005   \n",
       "2017-04-15 15:09:00                  0.000494                  -0.005   \n",
       "2017-04-15 15:08:00                 -0.001952                  -0.005   \n",
       "2017-04-15 15:07:00                  0.000802                  -0.005   \n",
       "\n",
       "                     60_min_sma_high_change  60_min_sma_low_change  \\\n",
       "Date                                                                 \n",
       "2017-04-15 15:11:00                  -0.005                 -0.005   \n",
       "2017-04-15 15:10:00                  -0.005                 -0.005   \n",
       "2017-04-15 15:09:00                  -0.005                 -0.005   \n",
       "2017-04-15 15:08:00                  -0.005                 -0.005   \n",
       "2017-04-15 15:07:00                  -0.005                 -0.005   \n",
       "\n",
       "                     60_min_sma_close_change  \n",
       "Date                                          \n",
       "2017-04-15 15:11:00                   -0.005  \n",
       "2017-04-15 15:10:00                   -0.005  \n",
       "2017-04-15 15:09:00                   -0.005  \n",
       "2017-04-15 15:08:00                   -0.005  \n",
       "2017-04-15 15:07:00                   -0.005  "
      ]
     },
     "execution_count": 123,
     "metadata": {},
     "output_type": "execute_result"
    }
   ],
   "source": [
    "\n",
    "past_60_days_0 = train_data_0.tail(60)\n",
    "\n",
    "df_0 = past_60_days_0.append(test_data_0)\n",
    "# df = df.drop(['Date', 'Adj Close'], axis = 1)\n",
    "df_0.head()"
   ]
  },
  {
   "cell_type": "markdown",
   "id": "8c589f03",
   "metadata": {},
   "source": [
    "# SCALLING THE DATA"
   ]
  },
  {
   "cell_type": "code",
   "execution_count": 124,
   "id": "ad6cfd35",
   "metadata": {},
   "outputs": [
    {
     "data": {
      "text/plain": [
       "array([[0.50310335, 0.51465717, 0.49097941, 0.50683539, 0.51465717],\n",
       "       [0.50300751, 0.51465717, 0.49097941, 0.50683539, 0.51465717],\n",
       "       [0.50298894, 0.51465717, 0.49097941, 0.50683539, 0.51465717],\n",
       "       ...,\n",
       "       [0.50298713, 0.51428427, 0.49058827, 0.50647469, 0.51428427],\n",
       "       [0.50297215, 0.51418556, 0.49058827, 0.5063792 , 0.51428427],\n",
       "       [0.50299018, 0.46099244, 0.49048473, 0.45492545, 0.51418556]])"
      ]
     },
     "execution_count": 124,
     "metadata": {},
     "output_type": "execute_result"
    }
   ],
   "source": [
    "inputs_0 = scaler_0.transform(df_0)\n",
    "inputs_0"
   ]
  },
  {
   "cell_type": "markdown",
   "id": "9461b598",
   "metadata": {},
   "source": [
    "# SPLITTING THE TEST SET INTO X AND Y"
   ]
  },
  {
   "cell_type": "code",
   "execution_count": 125,
   "id": "2c2b06b2",
   "metadata": {},
   "outputs": [],
   "source": [
    "X_test_0 = []\n",
    "y_test_0 = []\n",
    "\n",
    "for i in range(60, inputs_0.shape[0]):\n",
    "    X_test_0.append(inputs_0[i-60:i])\n",
    "    y_test_0.append(inputs_0[i, 0])"
   ]
  },
  {
   "cell_type": "code",
   "execution_count": 126,
   "id": "2b068b8b",
   "metadata": {},
   "outputs": [
    {
     "data": {
      "text/plain": [
       "((799232, 60, 5), (799232,))"
      ]
     },
     "execution_count": 126,
     "metadata": {},
     "output_type": "execute_result"
    }
   ],
   "source": [
    "X_test_0, y_test_0 = np.array(X_test_0), np.array(y_test_0)\n",
    "X_test_0.shape, y_test_0.shape"
   ]
  },
  {
   "cell_type": "code",
   "execution_count": 260,
   "id": "45405d57",
   "metadata": {},
   "outputs": [
    {
     "data": {
      "text/plain": [
       "array([137.69870492, 137.73676708, 137.74072004, ..., 137.7409181 ,\n",
       "       137.73681604, 137.74175143])"
      ]
     },
     "execution_count": 260,
     "metadata": {},
     "output_type": "execute_result"
    }
   ],
   "source": [
    "y_test_0"
   ]
  },
  {
   "cell_type": "code",
   "execution_count": 293,
   "id": "7b6899fa",
   "metadata": {},
   "outputs": [],
   "source": [
    "y_pred_0 = model_0.predict(X_test_0)\n"
   ]
  },
  {
   "cell_type": "code",
   "execution_count": 294,
   "id": "4e582f54",
   "metadata": {},
   "outputs": [
    {
     "data": {
      "text/plain": [
       "array([[0.5031272],\n",
       "       [0.5031272],\n",
       "       [0.5031272],\n",
       "       ...,\n",
       "       [0.5031272],\n",
       "       [0.5031272],\n",
       "       [0.5031272]], dtype=float32)"
      ]
     },
     "execution_count": 294,
     "metadata": {},
     "output_type": "execute_result"
    }
   ],
   "source": [
    "y_pred_0"
   ]
  },
  {
   "cell_type": "code",
   "execution_count": 295,
   "id": "a01c0e85",
   "metadata": {},
   "outputs": [
    {
     "data": {
      "text/plain": [
       "array([0.00365169, 0.01316119, 0.01380526, 0.01273083, 0.01316119])"
      ]
     },
     "execution_count": 295,
     "metadata": {},
     "output_type": "execute_result"
    }
   ],
   "source": [
    "scaler_0.scale_\n"
   ]
  },
  {
   "cell_type": "code",
   "execution_count": 129,
   "id": "d17a44da",
   "metadata": {},
   "outputs": [
    {
     "data": {
      "text/plain": [
       "273.84580837913404"
      ]
     },
     "execution_count": 129,
     "metadata": {},
     "output_type": "execute_result"
    }
   ],
   "source": [
    "scale_0 = 1/0.00365169\n",
    "scale_0"
   ]
  },
  {
   "cell_type": "markdown",
   "id": "a40fcfc5",
   "metadata": {},
   "source": [
    "# TRANSFORMING THE SCALED DATA"
   ]
  },
  {
   "cell_type": "code",
   "execution_count": 130,
   "id": "d47c76f2",
   "metadata": {},
   "outputs": [],
   "source": [
    "y_pred_0 = y_pred_0*scale_0\n",
    "y_test_0 = y_test_0*scale_0"
   ]
  },
  {
   "cell_type": "code",
   "execution_count": 272,
   "id": "319070a7",
   "metadata": {},
   "outputs": [],
   "source": [
    "y_test_01 = pd.DataFrame(y_test_0)\n",
    "y_pred_01 = pd.DataFrame(y_pred_0)"
   ]
  },
  {
   "cell_type": "code",
   "execution_count": 310,
   "id": "47660dff",
   "metadata": {},
   "outputs": [
    {
     "data": {
      "text/html": [
       "<div>\n",
       "<style scoped>\n",
       "    .dataframe tbody tr th:only-of-type {\n",
       "        vertical-align: middle;\n",
       "    }\n",
       "\n",
       "    .dataframe tbody tr th {\n",
       "        vertical-align: top;\n",
       "    }\n",
       "\n",
       "    .dataframe thead th {\n",
       "        text-align: right;\n",
       "    }\n",
       "</style>\n",
       "<table border=\"1\" class=\"dataframe\">\n",
       "  <thead>\n",
       "    <tr style=\"text-align: right;\">\n",
       "      <th></th>\n",
       "      <th>0</th>\n",
       "    </tr>\n",
       "  </thead>\n",
       "  <tbody>\n",
       "    <tr>\n",
       "      <th>0</th>\n",
       "      <td>137.779266</td>\n",
       "    </tr>\n",
       "    <tr>\n",
       "      <th>1</th>\n",
       "      <td>137.779266</td>\n",
       "    </tr>\n",
       "    <tr>\n",
       "      <th>2</th>\n",
       "      <td>137.779266</td>\n",
       "    </tr>\n",
       "    <tr>\n",
       "      <th>3</th>\n",
       "      <td>137.779266</td>\n",
       "    </tr>\n",
       "    <tr>\n",
       "      <th>4</th>\n",
       "      <td>137.779266</td>\n",
       "    </tr>\n",
       "  </tbody>\n",
       "</table>\n",
       "</div>"
      ],
      "text/plain": [
       "            0\n",
       "0  137.779266\n",
       "1  137.779266\n",
       "2  137.779266\n",
       "3  137.779266\n",
       "4  137.779266"
      ]
     },
     "execution_count": 310,
     "metadata": {},
     "output_type": "execute_result"
    }
   ],
   "source": [
    "y_pred_01.head()"
   ]
  },
  {
   "cell_type": "code",
   "execution_count": 290,
   "id": "70c2f171",
   "metadata": {},
   "outputs": [
    {
     "data": {
      "image/png": "[encoded data removed]",
      "text/plain": [
       "<Figure size 1008x360 with 1 Axes>"
      ]
     },
     "metadata": {},
     "output_type": "display_data"
    }
   ],
   "source": [
    "# Visualising the results\n",
    "plt.figure(figsize=(14,5))\n",
    "plt.plot(y_test_0, color = 'red', label = 'Real Price')\n",
    "plt.plot(y_pred_0, color = 'blue', label = 'Predicted Price')\n",
    "plt.title('Price Prediction from 2015-10-08 to 2017-04-15')\n",
    "plt.xlabel('Time')\n",
    "plt.ylabel('Price')\n",
    "plt.legend()\n",
    "plt.show()"
   ]
  },
  {
   "cell_type": "code",
   "execution_count": 311,
   "id": "72753a56",
   "metadata": {},
   "outputs": [],
   "source": [
    "# model_0.evaluate(X_test_0, y_pred_0, batch_size = 32)"
   ]
  },
  {
   "cell_type": "markdown",
   "id": "dc6c3dc7",
   "metadata": {},
   "source": [
    "# MODEL PERFORMANCE"
   ]
  },
  {
   "cell_type": "markdown",
   "id": "8de37cab",
   "metadata": {},
   "source": [
    "### RELATIVE MEAN SQUARE ERROR"
   ]
  },
  {
   "cell_type": "code",
   "execution_count": 316,
   "id": "300c41c5",
   "metadata": {},
   "outputs": [
    {
     "name": "stdout",
     "output_type": "stream",
     "text": [
      "RMSE 137.23873256409038\n"
     ]
    }
   ],
   "source": [
    "print('RMSE',np.sqrt(metrics.mean_squared_error(y_test_0, y_pred_0)))\n"
   ]
  },
  {
   "cell_type": "markdown",
   "id": "754cca32",
   "metadata": {},
   "source": [
    "### MODEL ACCURACY"
   ]
  },
  {
   "cell_type": "code",
   "execution_count": 287,
   "id": "52bc2e29",
   "metadata": {},
   "outputs": [
    {
     "name": "stdout",
     "output_type": "stream",
     "text": [
      "99.948461531033\n"
     ]
    }
   ],
   "source": [
    "print((1-(metrics.mean_absolute_error(y_test_0, y_pred_0)/y_test_0.mean()))*100)"
   ]
  },
  {
   "cell_type": "markdown",
   "id": "f51ff4bf",
   "metadata": {},
   "source": [
    "### MEAN SQUARED ERROR"
   ]
  },
  {
   "cell_type": "code",
   "execution_count": 284,
   "id": "587c50ef",
   "metadata": {},
   "outputs": [
    {
     "name": "stdout",
     "output_type": "stream",
     "text": [
      "MSE 0.26026684414236334\n"
     ]
    }
   ],
   "source": [
    "print('MSE', metrics.mean_squared_error(y_test_0, y_pred_0))"
   ]
  },
  {
   "cell_type": "markdown",
   "id": "5cbd51b1",
   "metadata": {},
   "source": [
    "### MEAN ABSOLUTE ERROR"
   ]
  },
  {
   "cell_type": "code",
   "execution_count": 283,
   "id": "76b6d695",
   "metadata": {},
   "outputs": [
    {
     "name": "stdout",
     "output_type": "stream",
     "text": [
      "MAE in % 0.051538468966995106\n"
     ]
    }
   ],
   "source": [
    "from sklearn import metrics\n",
    "print('MAE in %', (metrics.mean_absolute_error(y_test_0, y_pred_0)/y_test_0.mean())*100)\n"
   ]
  },
  {
   "cell_type": "code",
   "execution_count": 308,
   "id": "d283acd5",
   "metadata": {},
   "outputs": [
    {
     "name": "stdout",
     "output_type": "stream",
     "text": [
      "MAE in % 0.032710496910332204\n"
     ]
    }
   ],
   "source": []
  },
  {
   "cell_type": "code",
   "execution_count": 280,
   "id": "566c3030",
   "metadata": {},
   "outputs": [
    {
     "data": {
      "text/plain": [
       "(799232, 60, 5)"
      ]
     },
     "execution_count": 280,
     "metadata": {},
     "output_type": "execute_result"
    }
   ],
   "source": [
    "X_test_0.shape"
   ]
  },
  {
   "cell_type": "markdown",
   "id": "942a70da",
   "metadata": {},
   "source": [
    "# Building an LSTM model for 30min SMA of absolute change"
   ]
  },
  {
   "cell_type": "code",
   "execution_count": 135,
   "id": "e6c60d7e",
   "metadata": {},
   "outputs": [],
   "source": [
    "df_features = df[['Close', 'Open', 'High', 'Low', 'Volume']]\n"
   ]
  },
  {
   "cell_type": "code",
   "execution_count": 136,
   "id": "1b1bd38e",
   "metadata": {},
   "outputs": [
    {
     "name": "stderr",
     "output_type": "stream",
     "text": [
      "<ipython-input-136-906de283dad1>:1: SettingWithCopyWarning: \n",
      "A value is trying to be set on a copy of a slice from a DataFrame.\n",
      "Try using .loc[row_indexer,col_indexer] = value instead\n",
      "\n",
      "See the caveats in the documentation: https://pandas.pydata.org/pandas-docs/stable/user_guide/indexing.html#returning-a-view-versus-a-copy\n",
      "  df_features['abs_close_price'] = df_features['Close'] - df_features['Close'].shift(1)\n",
      "<ipython-input-136-906de283dad1>:2: SettingWithCopyWarning: \n",
      "A value is trying to be set on a copy of a slice from a DataFrame.\n",
      "Try using .loc[row_indexer,col_indexer] = value instead\n",
      "\n",
      "See the caveats in the documentation: https://pandas.pydata.org/pandas-docs/stable/user_guide/indexing.html#returning-a-view-versus-a-copy\n",
      "  df_features['abs_open_price'] = df_features['Open'] - df_features['Open'].shift(1)\n",
      "<ipython-input-136-906de283dad1>:3: SettingWithCopyWarning: \n",
      "A value is trying to be set on a copy of a slice from a DataFrame.\n",
      "Try using .loc[row_indexer,col_indexer] = value instead\n",
      "\n",
      "See the caveats in the documentation: https://pandas.pydata.org/pandas-docs/stable/user_guide/indexing.html#returning-a-view-versus-a-copy\n",
      "  df_features['abs_high_price'] = df_features['High'] - df_features['High'].shift(1)\n",
      "<ipython-input-136-906de283dad1>:4: SettingWithCopyWarning: \n",
      "A value is trying to be set on a copy of a slice from a DataFrame.\n",
      "Try using .loc[row_indexer,col_indexer] = value instead\n",
      "\n",
      "See the caveats in the documentation: https://pandas.pydata.org/pandas-docs/stable/user_guide/indexing.html#returning-a-view-versus-a-copy\n",
      "  df_features['abs_low_price'] = df_features['Low'] - df_features['Low'].shift(1)\n",
      "<ipython-input-136-906de283dad1>:5: SettingWithCopyWarning: \n",
      "A value is trying to be set on a copy of a slice from a DataFrame.\n",
      "Try using .loc[row_indexer,col_indexer] = value instead\n",
      "\n",
      "See the caveats in the documentation: https://pandas.pydata.org/pandas-docs/stable/user_guide/indexing.html#returning-a-view-versus-a-copy\n",
      "  df_features['abs_volume'] = df_features['Volume'] - df_features['Volume'].shift(1)\n"
     ]
    }
   ],
   "source": [
    "df_features['abs_close_price'] = df_features['Close'] - df_features['Close'].shift(1)\n",
    "df_features['abs_open_price'] = df_features['Open'] - df_features['Open'].shift(1)\n",
    "df_features['abs_high_price'] = df_features['High'] - df_features['High'].shift(1)\n",
    "df_features['abs_low_price'] = df_features['Low'] - df_features['Low'].shift(1)\n",
    "df_features['abs_volume'] = df_features['Volume'] - df_features['Volume'].shift(1)"
   ]
  },
  {
   "cell_type": "markdown",
   "id": "8f164cea",
   "metadata": {},
   "source": [
    "# 30 min moving average"
   ]
  },
  {
   "cell_type": "code",
   "execution_count": 137,
   "id": "4f0cff3b",
   "metadata": {},
   "outputs": [
    {
     "name": "stderr",
     "output_type": "stream",
     "text": [
      "<ipython-input-137-852ebddb8b6f>:1: SettingWithCopyWarning: \n",
      "A value is trying to be set on a copy of a slice from a DataFrame.\n",
      "Try using .loc[row_indexer,col_indexer] = value instead\n",
      "\n",
      "See the caveats in the documentation: https://pandas.pydata.org/pandas-docs/stable/user_guide/indexing.html#returning-a-view-versus-a-copy\n",
      "  df_features['30_min_sma_close_change'] = df_features['abs_close_price'].rolling(window=30).mean()\n",
      "<ipython-input-137-852ebddb8b6f>:2: SettingWithCopyWarning: \n",
      "A value is trying to be set on a copy of a slice from a DataFrame.\n",
      "Try using .loc[row_indexer,col_indexer] = value instead\n",
      "\n",
      "See the caveats in the documentation: https://pandas.pydata.org/pandas-docs/stable/user_guide/indexing.html#returning-a-view-versus-a-copy\n",
      "  df_features['30_min_sma_volume_change'] = df_features['abs_volume'].rolling(window=30).mean()\n",
      "<ipython-input-137-852ebddb8b6f>:3: SettingWithCopyWarning: \n",
      "A value is trying to be set on a copy of a slice from a DataFrame.\n",
      "Try using .loc[row_indexer,col_indexer] = value instead\n",
      "\n",
      "See the caveats in the documentation: https://pandas.pydata.org/pandas-docs/stable/user_guide/indexing.html#returning-a-view-versus-a-copy\n",
      "  df_features['30_min_sma_open_change'] = df_features['abs_open_price'].rolling(window=30).mean()\n",
      "<ipython-input-137-852ebddb8b6f>:4: SettingWithCopyWarning: \n",
      "A value is trying to be set on a copy of a slice from a DataFrame.\n",
      "Try using .loc[row_indexer,col_indexer] = value instead\n",
      "\n",
      "See the caveats in the documentation: https://pandas.pydata.org/pandas-docs/stable/user_guide/indexing.html#returning-a-view-versus-a-copy\n",
      "  df_features['30_min_sma_high_change'] = df_features['abs_high_price'].rolling(window=30).mean()\n",
      "<ipython-input-137-852ebddb8b6f>:5: SettingWithCopyWarning: \n",
      "A value is trying to be set on a copy of a slice from a DataFrame.\n",
      "Try using .loc[row_indexer,col_indexer] = value instead\n",
      "\n",
      "See the caveats in the documentation: https://pandas.pydata.org/pandas-docs/stable/user_guide/indexing.html#returning-a-view-versus-a-copy\n",
      "  df_features['30_min_sma_low_change'] = df_features['abs_low_price'].rolling(window=30).mean()\n"
     ]
    }
   ],
   "source": [
    "df_features['30_min_sma_close_change'] = df_features['abs_close_price'].rolling(window=30).mean()\n",
    "df_features['30_min_sma_volume_change'] = df_features['abs_volume'].rolling(window=30).mean()\n",
    "df_features['30_min_sma_open_change'] = df_features['abs_open_price'].rolling(window=30).mean()\n",
    "df_features['30_min_sma_high_change'] = df_features['abs_high_price'].rolling(window=30).mean()\n",
    "df_features['30_min_sma_low_change'] = df_features['abs_low_price'].rolling(window=30).mean()"
   ]
  },
  {
   "cell_type": "code",
   "execution_count": 138,
   "id": "fb562bf7",
   "metadata": {},
   "outputs": [
    {
     "data": {
      "text/html": [
       "<div>\n",
       "<style scoped>\n",
       "    .dataframe tbody tr th:only-of-type {\n",
       "        vertical-align: middle;\n",
       "    }\n",
       "\n",
       "    .dataframe tbody tr th {\n",
       "        vertical-align: top;\n",
       "    }\n",
       "\n",
       "    .dataframe thead th {\n",
       "        text-align: right;\n",
       "    }\n",
       "</style>\n",
       "<table border=\"1\" class=\"dataframe\">\n",
       "  <thead>\n",
       "    <tr style=\"text-align: right;\">\n",
       "      <th></th>\n",
       "      <th>Close</th>\n",
       "      <th>Open</th>\n",
       "      <th>High</th>\n",
       "      <th>Low</th>\n",
       "      <th>Volume</th>\n",
       "      <th>abs_close_price</th>\n",
       "      <th>abs_open_price</th>\n",
       "      <th>abs_high_price</th>\n",
       "      <th>abs_low_price</th>\n",
       "      <th>abs_volume</th>\n",
       "      <th>30_min_sma_close_change</th>\n",
       "      <th>30_min_sma_volume_change</th>\n",
       "      <th>30_min_sma_open_change</th>\n",
       "      <th>30_min_sma_high_change</th>\n",
       "      <th>30_min_sma_low_change</th>\n",
       "    </tr>\n",
       "    <tr>\n",
       "      <th>Date</th>\n",
       "      <th></th>\n",
       "      <th></th>\n",
       "      <th></th>\n",
       "      <th></th>\n",
       "      <th></th>\n",
       "      <th></th>\n",
       "      <th></th>\n",
       "      <th></th>\n",
       "      <th></th>\n",
       "      <th></th>\n",
       "      <th></th>\n",
       "      <th></th>\n",
       "      <th></th>\n",
       "      <th></th>\n",
       "      <th></th>\n",
       "    </tr>\n",
       "  </thead>\n",
       "  <tbody>\n",
       "    <tr>\n",
       "      <th>2020-04-09 00:00:00</th>\n",
       "      <td>7350.41</td>\n",
       "      <td>7369.60</td>\n",
       "      <td>7369.60</td>\n",
       "      <td>7348.47</td>\n",
       "      <td>7.733528</td>\n",
       "      <td>NaN</td>\n",
       "      <td>NaN</td>\n",
       "      <td>NaN</td>\n",
       "      <td>NaN</td>\n",
       "      <td>NaN</td>\n",
       "      <td>NaN</td>\n",
       "      <td>NaN</td>\n",
       "      <td>NaN</td>\n",
       "      <td>NaN</td>\n",
       "      <td>NaN</td>\n",
       "    </tr>\n",
       "    <tr>\n",
       "      <th>2020-04-08 23:59:00</th>\n",
       "      <td>7369.60</td>\n",
       "      <td>7364.37</td>\n",
       "      <td>7369.60</td>\n",
       "      <td>7364.37</td>\n",
       "      <td>1.310954</td>\n",
       "      <td>19.19</td>\n",
       "      <td>-5.23</td>\n",
       "      <td>0.00</td>\n",
       "      <td>15.90</td>\n",
       "      <td>-6.422573</td>\n",
       "      <td>NaN</td>\n",
       "      <td>NaN</td>\n",
       "      <td>NaN</td>\n",
       "      <td>NaN</td>\n",
       "      <td>NaN</td>\n",
       "    </tr>\n",
       "    <tr>\n",
       "      <th>2020-04-08 23:58:00</th>\n",
       "      <td>7364.37</td>\n",
       "      <td>7360.89</td>\n",
       "      <td>7367.18</td>\n",
       "      <td>7360.89</td>\n",
       "      <td>1.018774</td>\n",
       "      <td>-5.23</td>\n",
       "      <td>-3.48</td>\n",
       "      <td>-2.42</td>\n",
       "      <td>-3.48</td>\n",
       "      <td>-0.292180</td>\n",
       "      <td>NaN</td>\n",
       "      <td>NaN</td>\n",
       "      <td>NaN</td>\n",
       "      <td>NaN</td>\n",
       "      <td>NaN</td>\n",
       "    </tr>\n",
       "    <tr>\n",
       "      <th>2020-04-08 23:57:00</th>\n",
       "      <td>7360.89</td>\n",
       "      <td>7357.62</td>\n",
       "      <td>7366.12</td>\n",
       "      <td>7357.62</td>\n",
       "      <td>0.026251</td>\n",
       "      <td>-3.48</td>\n",
       "      <td>-3.27</td>\n",
       "      <td>-1.06</td>\n",
       "      <td>-3.27</td>\n",
       "      <td>-0.992524</td>\n",
       "      <td>NaN</td>\n",
       "      <td>NaN</td>\n",
       "      <td>NaN</td>\n",
       "      <td>NaN</td>\n",
       "      <td>NaN</td>\n",
       "    </tr>\n",
       "    <tr>\n",
       "      <th>2020-04-08 23:56:00</th>\n",
       "      <td>7357.62</td>\n",
       "      <td>7370.71</td>\n",
       "      <td>7370.71</td>\n",
       "      <td>7357.62</td>\n",
       "      <td>0.444867</td>\n",
       "      <td>-3.27</td>\n",
       "      <td>13.09</td>\n",
       "      <td>4.59</td>\n",
       "      <td>0.00</td>\n",
       "      <td>0.418616</td>\n",
       "      <td>NaN</td>\n",
       "      <td>NaN</td>\n",
       "      <td>NaN</td>\n",
       "      <td>NaN</td>\n",
       "      <td>NaN</td>\n",
       "    </tr>\n",
       "    <tr>\n",
       "      <th>...</th>\n",
       "      <td>...</td>\n",
       "      <td>...</td>\n",
       "      <td>...</td>\n",
       "      <td>...</td>\n",
       "      <td>...</td>\n",
       "      <td>...</td>\n",
       "      <td>...</td>\n",
       "      <td>...</td>\n",
       "      <td>...</td>\n",
       "      <td>...</td>\n",
       "      <td>...</td>\n",
       "      <td>...</td>\n",
       "      <td>...</td>\n",
       "      <td>...</td>\n",
       "      <td>...</td>\n",
       "    </tr>\n",
       "    <tr>\n",
       "      <th>2015-10-08 13:44:00</th>\n",
       "      <td>242.96</td>\n",
       "      <td>242.96</td>\n",
       "      <td>242.96</td>\n",
       "      <td>242.96</td>\n",
       "      <td>0.033491</td>\n",
       "      <td>0.00</td>\n",
       "      <td>0.00</td>\n",
       "      <td>0.00</td>\n",
       "      <td>0.00</td>\n",
       "      <td>0.033491</td>\n",
       "      <td>-0.051333</td>\n",
       "      <td>1.116371e-03</td>\n",
       "      <td>-0.051333</td>\n",
       "      <td>-0.051333</td>\n",
       "      <td>-0.051333</td>\n",
       "    </tr>\n",
       "    <tr>\n",
       "      <th>2015-10-08 13:43:00</th>\n",
       "      <td>242.96</td>\n",
       "      <td>242.95</td>\n",
       "      <td>242.96</td>\n",
       "      <td>242.95</td>\n",
       "      <td>0.010000</td>\n",
       "      <td>0.00</td>\n",
       "      <td>-0.01</td>\n",
       "      <td>0.00</td>\n",
       "      <td>-0.01</td>\n",
       "      <td>-0.023491</td>\n",
       "      <td>-0.051333</td>\n",
       "      <td>3.333333e-04</td>\n",
       "      <td>-0.051667</td>\n",
       "      <td>-0.051333</td>\n",
       "      <td>-0.051667</td>\n",
       "    </tr>\n",
       "    <tr>\n",
       "      <th>2015-10-08 13:42:00</th>\n",
       "      <td>242.95</td>\n",
       "      <td>242.95</td>\n",
       "      <td>242.95</td>\n",
       "      <td>242.95</td>\n",
       "      <td>0.000000</td>\n",
       "      <td>-0.01</td>\n",
       "      <td>0.00</td>\n",
       "      <td>-0.01</td>\n",
       "      <td>0.00</td>\n",
       "      <td>-0.010000</td>\n",
       "      <td>-0.051667</td>\n",
       "      <td>-9.746411e-14</td>\n",
       "      <td>-0.051667</td>\n",
       "      <td>-0.051667</td>\n",
       "      <td>-0.051667</td>\n",
       "    </tr>\n",
       "    <tr>\n",
       "      <th>2015-10-08 13:41:00</th>\n",
       "      <td>242.95</td>\n",
       "      <td>242.50</td>\n",
       "      <td>242.95</td>\n",
       "      <td>242.50</td>\n",
       "      <td>0.001000</td>\n",
       "      <td>0.00</td>\n",
       "      <td>-0.45</td>\n",
       "      <td>0.00</td>\n",
       "      <td>-0.45</td>\n",
       "      <td>0.001000</td>\n",
       "      <td>-0.051667</td>\n",
       "      <td>3.333333e-05</td>\n",
       "      <td>-0.066667</td>\n",
       "      <td>-0.051667</td>\n",
       "      <td>-0.066667</td>\n",
       "    </tr>\n",
       "    <tr>\n",
       "      <th>2015-10-08 13:40:00</th>\n",
       "      <td>242.50</td>\n",
       "      <td>0.00</td>\n",
       "      <td>242.50</td>\n",
       "      <td>0.00</td>\n",
       "      <td>0.050000</td>\n",
       "      <td>-0.45</td>\n",
       "      <td>-242.50</td>\n",
       "      <td>-0.45</td>\n",
       "      <td>-242.50</td>\n",
       "      <td>0.049000</td>\n",
       "      <td>-0.066667</td>\n",
       "      <td>1.666667e-03</td>\n",
       "      <td>-8.150000</td>\n",
       "      <td>-0.066667</td>\n",
       "      <td>-8.150000</td>\n",
       "    </tr>\n",
       "  </tbody>\n",
       "</table>\n",
       "<p>2283519 rows × 15 columns</p>\n",
       "</div>"
      ],
      "text/plain": [
       "                       Close     Open     High      Low    Volume  \\\n",
       "Date                                                                \n",
       "2020-04-09 00:00:00  7350.41  7369.60  7369.60  7348.47  7.733528   \n",
       "2020-04-08 23:59:00  7369.60  7364.37  7369.60  7364.37  1.310954   \n",
       "2020-04-08 23:58:00  7364.37  7360.89  7367.18  7360.89  1.018774   \n",
       "2020-04-08 23:57:00  7360.89  7357.62  7366.12  7357.62  0.026251   \n",
       "2020-04-08 23:56:00  7357.62  7370.71  7370.71  7357.62  0.444867   \n",
       "...                      ...      ...      ...      ...       ...   \n",
       "2015-10-08 13:44:00   242.96   242.96   242.96   242.96  0.033491   \n",
       "2015-10-08 13:43:00   242.96   242.95   242.96   242.95  0.010000   \n",
       "2015-10-08 13:42:00   242.95   242.95   242.95   242.95  0.000000   \n",
       "2015-10-08 13:41:00   242.95   242.50   242.95   242.50  0.001000   \n",
       "2015-10-08 13:40:00   242.50     0.00   242.50     0.00  0.050000   \n",
       "\n",
       "                     abs_close_price  abs_open_price  abs_high_price  \\\n",
       "Date                                                                   \n",
       "2020-04-09 00:00:00              NaN             NaN             NaN   \n",
       "2020-04-08 23:59:00            19.19           -5.23            0.00   \n",
       "2020-04-08 23:58:00            -5.23           -3.48           -2.42   \n",
       "2020-04-08 23:57:00            -3.48           -3.27           -1.06   \n",
       "2020-04-08 23:56:00            -3.27           13.09            4.59   \n",
       "...                              ...             ...             ...   \n",
       "2015-10-08 13:44:00             0.00            0.00            0.00   \n",
       "2015-10-08 13:43:00             0.00           -0.01            0.00   \n",
       "2015-10-08 13:42:00            -0.01            0.00           -0.01   \n",
       "2015-10-08 13:41:00             0.00           -0.45            0.00   \n",
       "2015-10-08 13:40:00            -0.45         -242.50           -0.45   \n",
       "\n",
       "                     abs_low_price  abs_volume  30_min_sma_close_change  \\\n",
       "Date                                                                      \n",
       "2020-04-09 00:00:00            NaN         NaN                      NaN   \n",
       "2020-04-08 23:59:00          15.90   -6.422573                      NaN   \n",
       "2020-04-08 23:58:00          -3.48   -0.292180                      NaN   \n",
       "2020-04-08 23:57:00          -3.27   -0.992524                      NaN   \n",
       "2020-04-08 23:56:00           0.00    0.418616                      NaN   \n",
       "...                            ...         ...                      ...   \n",
       "2015-10-08 13:44:00           0.00    0.033491                -0.051333   \n",
       "2015-10-08 13:43:00          -0.01   -0.023491                -0.051333   \n",
       "2015-10-08 13:42:00           0.00   -0.010000                -0.051667   \n",
       "2015-10-08 13:41:00          -0.45    0.001000                -0.051667   \n",
       "2015-10-08 13:40:00        -242.50    0.049000                -0.066667   \n",
       "\n",
       "                     30_min_sma_volume_change  30_min_sma_open_change  \\\n",
       "Date                                                                    \n",
       "2020-04-09 00:00:00                       NaN                     NaN   \n",
       "2020-04-08 23:59:00                       NaN                     NaN   \n",
       "2020-04-08 23:58:00                       NaN                     NaN   \n",
       "2020-04-08 23:57:00                       NaN                     NaN   \n",
       "2020-04-08 23:56:00                       NaN                     NaN   \n",
       "...                                       ...                     ...   \n",
       "2015-10-08 13:44:00              1.116371e-03               -0.051333   \n",
       "2015-10-08 13:43:00              3.333333e-04               -0.051667   \n",
       "2015-10-08 13:42:00             -9.746411e-14               -0.051667   \n",
       "2015-10-08 13:41:00              3.333333e-05               -0.066667   \n",
       "2015-10-08 13:40:00              1.666667e-03               -8.150000   \n",
       "\n",
       "                     30_min_sma_high_change  30_min_sma_low_change  \n",
       "Date                                                                \n",
       "2020-04-09 00:00:00                     NaN                    NaN  \n",
       "2020-04-08 23:59:00                     NaN                    NaN  \n",
       "2020-04-08 23:58:00                     NaN                    NaN  \n",
       "2020-04-08 23:57:00                     NaN                    NaN  \n",
       "2020-04-08 23:56:00                     NaN                    NaN  \n",
       "...                                     ...                    ...  \n",
       "2015-10-08 13:44:00               -0.051333              -0.051333  \n",
       "2015-10-08 13:43:00               -0.051333              -0.051667  \n",
       "2015-10-08 13:42:00               -0.051667              -0.051667  \n",
       "2015-10-08 13:41:00               -0.051667              -0.066667  \n",
       "2015-10-08 13:40:00               -0.066667              -8.150000  \n",
       "\n",
       "[2283519 rows x 15 columns]"
      ]
     },
     "execution_count": 138,
     "metadata": {},
     "output_type": "execute_result"
    }
   ],
   "source": [
    "df_features"
   ]
  },
  {
   "cell_type": "code",
   "execution_count": 139,
   "id": "573953d6",
   "metadata": {},
   "outputs": [
    {
     "name": "stderr",
     "output_type": "stream",
     "text": [
      "C:\\Users\\kakin\\anaconda3\\lib\\site-packages\\pandas\\core\\frame.py:4462: SettingWithCopyWarning: \n",
      "A value is trying to be set on a copy of a slice from a DataFrame\n",
      "\n",
      "See the caveats in the documentation: https://pandas.pydata.org/pandas-docs/stable/user_guide/indexing.html#returning-a-view-versus-a-copy\n",
      "  return super().fillna(\n"
     ]
    }
   ],
   "source": [
    "df_features.fillna(0, inplace = True)"
   ]
  },
  {
   "cell_type": "code",
   "execution_count": 140,
   "id": "37f442b2",
   "metadata": {},
   "outputs": [],
   "source": [
    "df_features_1 = df_features[['30_min_sma_volume_change', '30_min_sma_open_change',\n",
    "       '30_min_sma_high_change', '30_min_sma_low_change',\n",
    "       '30_min_sma_close_change']]"
   ]
  },
  {
   "cell_type": "code",
   "execution_count": 156,
   "id": "482a5e5b",
   "metadata": {},
   "outputs": [],
   "source": [
    "# Training set\n",
    "training_size_1 =int(len(df_features_1)*0.65)\n",
    "\n",
    "# Test set\n",
    "test_size_1=len(df_features_1)-training_size_1\n",
    "\n",
    "train_data_1,test_data_1=df_features_1[0:training_size_1],df_features_1[training_size_1:len(df_features_1)]"
   ]
  },
  {
   "cell_type": "code",
   "execution_count": 157,
   "id": "1e941591",
   "metadata": {},
   "outputs": [
    {
     "name": "stdout",
     "output_type": "stream",
     "text": [
      "(1484287, 5)\n",
      "(799232, 5)\n"
     ]
    }
   ],
   "source": [
    "print(train_data_1.shape)\n",
    "print(test_data_1.shape)"
   ]
  },
  {
   "cell_type": "code",
   "execution_count": 158,
   "id": "19c4c7ab",
   "metadata": {},
   "outputs": [
    {
     "data": {
      "text/plain": [
       "array([[0.49968522, 0.42315584, 0.40468744, 0.4131385 , 0.42315584],\n",
       "       [0.49968522, 0.42315584, 0.40468744, 0.4131385 , 0.42315584],\n",
       "       [0.49968522, 0.42315584, 0.40468744, 0.4131385 , 0.42315584],\n",
       "       [0.49968522, 0.42315584, 0.40468744, 0.4131385 , 0.42315584],\n",
       "       [0.49968522, 0.42315584, 0.40468744, 0.4131385 , 0.42315584]])"
      ]
     },
     "execution_count": 158,
     "metadata": {},
     "output_type": "execute_result"
    }
   ],
   "source": [
    "# Scaling the training data\n",
    "scaler_1 = MinMaxScaler()\n",
    "\n",
    "data_training_1 = scaler_1.fit_transform(train_data_1)\n",
    "data_training_1[0:5]"
   ]
  },
  {
   "cell_type": "code",
   "execution_count": 159,
   "id": "7b99bf74",
   "metadata": {},
   "outputs": [],
   "source": [
    "X_train_1 = []\n",
    "y_train_1 = []"
   ]
  },
  {
   "cell_type": "code",
   "execution_count": 160,
   "id": "e0e64889",
   "metadata": {},
   "outputs": [],
   "source": [
    "for i in range(60, data_training_1.shape[0]):\n",
    "    X_train_1.append(data_training_1[i-60:i])\n",
    "    y_train_1.append(data_training_1[i, 0])"
   ]
  },
  {
   "cell_type": "code",
   "execution_count": 161,
   "id": "917edf10",
   "metadata": {},
   "outputs": [
    {
     "name": "stdout",
     "output_type": "stream",
     "text": [
      "(1484227, 60, 5)\n",
      "(1484227,)\n"
     ]
    }
   ],
   "source": [
    "X_train_1, y_train_1 = np.array(X_train_1), np.array(y_train_1)\n",
    "\n",
    "print(X_train_1.shape)\n",
    "print(y_train_1.shape)"
   ]
  },
  {
   "cell_type": "code",
   "execution_count": 238,
   "id": "2d9cb738",
   "metadata": {},
   "outputs": [],
   "source": [
    "model_1 = Sequential()\n",
    "\n",
    "model_1.add(LSTM(units = 60, activation = 'relu', return_sequences = True, input_shape = (X_train_1.shape[1], 5)))\n",
    "model_1.add(Dropout(0.2))\n",
    "\n",
    "model_1.add(LSTM(units = 60, activation = 'relu', return_sequences = True))\n",
    "model_1.add(Dropout(0.2))\n",
    "\n",
    "model_1.add(LSTM(units = 80, activation = 'relu', return_sequences = True))\n",
    "model_1.add(Dropout(0.2))\n",
    "\n",
    "model_1.add(LSTM(units = 120, activation = 'relu'))\n",
    "model_1.add(Dropout(0.2))\n",
    "\n",
    "model_1.add(Dense(units = 1))"
   ]
  },
  {
   "cell_type": "code",
   "execution_count": 148,
   "id": "c915f58e",
   "metadata": {},
   "outputs": [],
   "source": [
    "model_1.compile(optimizer='adam', loss = 'mean_squared_error')\n"
   ]
  },
  {
   "cell_type": "code",
   "execution_count": 149,
   "id": "13cc64c1",
   "metadata": {},
   "outputs": [
    {
     "name": "stdout",
     "output_type": "stream",
     "text": [
      "Epoch 1/5\n",
      "46383/46383 [==============================] - 8467s 182ms/step - loss: 9.6318e-05\n",
      "Epoch 2/5\n",
      "46383/46383 [==============================] - 5914s 128ms/step - loss: 3.1784e-06\n",
      "Epoch 3/5\n",
      "46383/46383 [==============================] - 4857s 105ms/step - loss: 3.1793e-06\n",
      "Epoch 4/5\n",
      "46383/46383 [==============================] - 4905s 106ms/step - loss: 3.1739e-06\n",
      "Epoch 5/5\n",
      "46383/46383 [==============================] - 5544s 120ms/step - loss: 3.1748e-06\n"
     ]
    },
    {
     "data": {
      "text/plain": [
       "<keras.callbacks.History at 0x1dfd670bdf0>"
      ]
     },
     "execution_count": 149,
     "metadata": {},
     "output_type": "execute_result"
    }
   ],
   "source": [
    "model_1.fit(X_train_1, y_train_1, epochs=5, batch_size=32)"
   ]
  },
  {
   "cell_type": "code",
   "execution_count": 163,
   "id": "ff5ddc64",
   "metadata": {},
   "outputs": [
    {
     "data": {
      "text/html": [
       "<div>\n",
       "<style scoped>\n",
       "    .dataframe tbody tr th:only-of-type {\n",
       "        vertical-align: middle;\n",
       "    }\n",
       "\n",
       "    .dataframe tbody tr th {\n",
       "        vertical-align: top;\n",
       "    }\n",
       "\n",
       "    .dataframe thead th {\n",
       "        text-align: right;\n",
       "    }\n",
       "</style>\n",
       "<table border=\"1\" class=\"dataframe\">\n",
       "  <thead>\n",
       "    <tr style=\"text-align: right;\">\n",
       "      <th></th>\n",
       "      <th>30_min_sma_volume_change</th>\n",
       "      <th>30_min_sma_open_change</th>\n",
       "      <th>30_min_sma_high_change</th>\n",
       "      <th>30_min_sma_low_change</th>\n",
       "      <th>30_min_sma_close_change</th>\n",
       "    </tr>\n",
       "    <tr>\n",
       "      <th>Date</th>\n",
       "      <th></th>\n",
       "      <th></th>\n",
       "      <th></th>\n",
       "      <th></th>\n",
       "      <th></th>\n",
       "    </tr>\n",
       "  </thead>\n",
       "  <tbody>\n",
       "    <tr>\n",
       "      <th>2017-04-15 14:11:00</th>\n",
       "      <td>-5.691842e-14</td>\n",
       "      <td>-0.059667</td>\n",
       "      <td>-0.059667</td>\n",
       "      <td>-0.059667</td>\n",
       "      <td>-0.059667</td>\n",
       "    </tr>\n",
       "    <tr>\n",
       "      <th>2017-04-15 14:10:00</th>\n",
       "      <td>5.006723e-03</td>\n",
       "      <td>-0.059667</td>\n",
       "      <td>-0.059667</td>\n",
       "      <td>-0.059667</td>\n",
       "      <td>-0.059667</td>\n",
       "    </tr>\n",
       "    <tr>\n",
       "      <th>2017-04-15 14:09:00</th>\n",
       "      <td>-1.729055e-02</td>\n",
       "      <td>-0.059667</td>\n",
       "      <td>-0.059667</td>\n",
       "      <td>-0.059667</td>\n",
       "      <td>-0.059667</td>\n",
       "    </tr>\n",
       "    <tr>\n",
       "      <th>2017-04-15 14:08:00</th>\n",
       "      <td>-1.485616e-03</td>\n",
       "      <td>-0.059667</td>\n",
       "      <td>-0.059667</td>\n",
       "      <td>-0.059667</td>\n",
       "      <td>-0.059667</td>\n",
       "    </tr>\n",
       "    <tr>\n",
       "      <th>2017-04-15 14:07:00</th>\n",
       "      <td>7.914877e-02</td>\n",
       "      <td>-0.094667</td>\n",
       "      <td>-0.059667</td>\n",
       "      <td>-0.094667</td>\n",
       "      <td>-0.059667</td>\n",
       "    </tr>\n",
       "  </tbody>\n",
       "</table>\n",
       "</div>"
      ],
      "text/plain": [
       "                     30_min_sma_volume_change  30_min_sma_open_change  \\\n",
       "Date                                                                    \n",
       "2017-04-15 14:11:00             -5.691842e-14               -0.059667   \n",
       "2017-04-15 14:10:00              5.006723e-03               -0.059667   \n",
       "2017-04-15 14:09:00             -1.729055e-02               -0.059667   \n",
       "2017-04-15 14:08:00             -1.485616e-03               -0.059667   \n",
       "2017-04-15 14:07:00              7.914877e-02               -0.094667   \n",
       "\n",
       "                     30_min_sma_high_change  30_min_sma_low_change  \\\n",
       "Date                                                                 \n",
       "2017-04-15 14:11:00               -0.059667              -0.059667   \n",
       "2017-04-15 14:10:00               -0.059667              -0.059667   \n",
       "2017-04-15 14:09:00               -0.059667              -0.059667   \n",
       "2017-04-15 14:08:00               -0.059667              -0.059667   \n",
       "2017-04-15 14:07:00               -0.059667              -0.094667   \n",
       "\n",
       "                     30_min_sma_close_change  \n",
       "Date                                          \n",
       "2017-04-15 14:11:00                -0.059667  \n",
       "2017-04-15 14:10:00                -0.059667  \n",
       "2017-04-15 14:09:00                -0.059667  \n",
       "2017-04-15 14:08:00                -0.059667  \n",
       "2017-04-15 14:07:00                -0.059667  "
      ]
     },
     "execution_count": 163,
     "metadata": {},
     "output_type": "execute_result"
    }
   ],
   "source": [
    "test_data_1.head()"
   ]
  },
  {
   "cell_type": "code",
   "execution_count": 208,
   "id": "ae2a8177",
   "metadata": {},
   "outputs": [
    {
     "data": {
      "text/html": [
       "<div>\n",
       "<style scoped>\n",
       "    .dataframe tbody tr th:only-of-type {\n",
       "        vertical-align: middle;\n",
       "    }\n",
       "\n",
       "    .dataframe tbody tr th {\n",
       "        vertical-align: top;\n",
       "    }\n",
       "\n",
       "    .dataframe thead th {\n",
       "        text-align: right;\n",
       "    }\n",
       "</style>\n",
       "<table border=\"1\" class=\"dataframe\">\n",
       "  <thead>\n",
       "    <tr style=\"text-align: right;\">\n",
       "      <th></th>\n",
       "      <th>30_min_sma_volume_change</th>\n",
       "      <th>30_min_sma_open_change</th>\n",
       "      <th>30_min_sma_high_change</th>\n",
       "      <th>30_min_sma_low_change</th>\n",
       "      <th>30_min_sma_close_change</th>\n",
       "    </tr>\n",
       "    <tr>\n",
       "      <th>Date</th>\n",
       "      <th></th>\n",
       "      <th></th>\n",
       "      <th></th>\n",
       "      <th></th>\n",
       "      <th></th>\n",
       "    </tr>\n",
       "  </thead>\n",
       "  <tbody>\n",
       "    <tr>\n",
       "      <th>2017-04-15 15:11:00</th>\n",
       "      <td>8.442624e-02</td>\n",
       "      <td>0.023333</td>\n",
       "      <td>0.023333</td>\n",
       "      <td>0.023333</td>\n",
       "      <td>0.023333</td>\n",
       "    </tr>\n",
       "    <tr>\n",
       "      <th>2017-04-15 15:10:00</th>\n",
       "      <td>1.171325e-02</td>\n",
       "      <td>-0.010000</td>\n",
       "      <td>-0.010000</td>\n",
       "      <td>0.023333</td>\n",
       "      <td>0.023333</td>\n",
       "    </tr>\n",
       "    <tr>\n",
       "      <th>2017-04-15 15:09:00</th>\n",
       "      <td>9.877117e-04</td>\n",
       "      <td>-0.010000</td>\n",
       "      <td>-0.010000</td>\n",
       "      <td>-0.010000</td>\n",
       "      <td>-0.010000</td>\n",
       "    </tr>\n",
       "    <tr>\n",
       "      <th>2017-04-15 15:08:00</th>\n",
       "      <td>-5.705251e-14</td>\n",
       "      <td>-0.010000</td>\n",
       "      <td>-0.010000</td>\n",
       "      <td>-0.010000</td>\n",
       "      <td>-0.010000</td>\n",
       "    </tr>\n",
       "    <tr>\n",
       "      <th>2017-04-15 15:07:00</th>\n",
       "      <td>1.604159e-03</td>\n",
       "      <td>-0.010000</td>\n",
       "      <td>-0.010000</td>\n",
       "      <td>-0.010000</td>\n",
       "      <td>-0.010000</td>\n",
       "    </tr>\n",
       "  </tbody>\n",
       "</table>\n",
       "</div>"
      ],
      "text/plain": [
       "                     30_min_sma_volume_change  30_min_sma_open_change  \\\n",
       "Date                                                                    \n",
       "2017-04-15 15:11:00              8.442624e-02                0.023333   \n",
       "2017-04-15 15:10:00              1.171325e-02               -0.010000   \n",
       "2017-04-15 15:09:00              9.877117e-04               -0.010000   \n",
       "2017-04-15 15:08:00             -5.705251e-14               -0.010000   \n",
       "2017-04-15 15:07:00              1.604159e-03               -0.010000   \n",
       "\n",
       "                     30_min_sma_high_change  30_min_sma_low_change  \\\n",
       "Date                                                                 \n",
       "2017-04-15 15:11:00                0.023333               0.023333   \n",
       "2017-04-15 15:10:00               -0.010000               0.023333   \n",
       "2017-04-15 15:09:00               -0.010000              -0.010000   \n",
       "2017-04-15 15:08:00               -0.010000              -0.010000   \n",
       "2017-04-15 15:07:00               -0.010000              -0.010000   \n",
       "\n",
       "                     30_min_sma_close_change  \n",
       "Date                                          \n",
       "2017-04-15 15:11:00                 0.023333  \n",
       "2017-04-15 15:10:00                 0.023333  \n",
       "2017-04-15 15:09:00                -0.010000  \n",
       "2017-04-15 15:08:00                -0.010000  \n",
       "2017-04-15 15:07:00                -0.010000  "
      ]
     },
     "execution_count": 208,
     "metadata": {},
     "output_type": "execute_result"
    }
   ],
   "source": [
    "# data_training = data[data['Date']<'2019-01-01'].copy()\n",
    "\n",
    "past_60_days_1 = train_data_1.tail(60)\n",
    "\n",
    "df_1 = past_60_days_1.append(test_data_1)\n",
    "# df = df.drop(['Date', 'Adj Close'], axis = 1)\n",
    "df_1.head()"
   ]
  },
  {
   "cell_type": "markdown",
   "id": "2df795b2",
   "metadata": {},
   "source": [
    "# Scalling data"
   ]
  },
  {
   "cell_type": "code",
   "execution_count": 165,
   "id": "c54a4a73",
   "metadata": {},
   "outputs": [
    {
     "data": {
      "text/plain": [
       "array([[0.49983855, 0.42334632, 0.40488397, 0.41332438, 0.42334632],\n",
       "       [0.49970649, 0.4230742 , 0.40460321, 0.41332438, 0.42334632],\n",
       "       [0.49968701, 0.4230742 , 0.40460321, 0.41305883, 0.4230742 ],\n",
       "       ...,\n",
       "       [0.49968522, 0.42273405, 0.40425227, 0.41272691, 0.42273405],\n",
       "       [0.49968528, 0.4226116 , 0.40425227, 0.41260741, 0.42273405],\n",
       "       [0.49968824, 0.35662233, 0.40412593, 0.34821343, 0.4226116 ]])"
      ]
     },
     "execution_count": 165,
     "metadata": {},
     "output_type": "execute_result"
    }
   ],
   "source": [
    "inputs_1 = scaler_1.transform(df_1)\n",
    "inputs_1"
   ]
  },
  {
   "cell_type": "code",
   "execution_count": 213,
   "id": "377ad99e",
   "metadata": {},
   "outputs": [],
   "source": [
    "X_test_1 = []\n",
    "y_test_1 = []\n",
    "\n",
    "for i in range(60, inputs_1.shape[0]):\n",
    "    X_test_1.append(inputs_1[i-60:i])\n",
    "    y_test_1.append(inputs_1[i, 0])"
   ]
  },
  {
   "cell_type": "code",
   "execution_count": 214,
   "id": "2d77b16d",
   "metadata": {},
   "outputs": [
    {
     "data": {
      "text/plain": [
       "((799232, 60, 5), (799232,))"
      ]
     },
     "execution_count": 214,
     "metadata": {},
     "output_type": "execute_result"
    }
   ],
   "source": [
    "X_test_1, y_test_1 = np.array(X_test_1), np.array(y_test_1)\n",
    "X_test_1.shape, y_test_1.shape"
   ]
  },
  {
   "cell_type": "code",
   "execution_count": 217,
   "id": "dcd1b9bb",
   "metadata": {},
   "outputs": [],
   "source": [
    "y_pred_1 = model_1.predict(X_test_1)\n"
   ]
  },
  {
   "cell_type": "code",
   "execution_count": 169,
   "id": "4bcfe860",
   "metadata": {},
   "outputs": [
    {
     "data": {
      "text/plain": [
       "array([0.00181619, 0.00816362, 0.00842257, 0.00796627, 0.00816362])"
      ]
     },
     "execution_count": 169,
     "metadata": {},
     "output_type": "execute_result"
    }
   ],
   "source": [
    "scaler_1.scale_\n"
   ]
  },
  {
   "cell_type": "code",
   "execution_count": 170,
   "id": "5e847372",
   "metadata": {},
   "outputs": [
    {
     "data": {
      "text/plain": [
       "550.603185790033"
      ]
     },
     "execution_count": 170,
     "metadata": {},
     "output_type": "execute_result"
    }
   ],
   "source": [
    "scale_1 = 1/0.00181619\n",
    "scale_1"
   ]
  },
  {
   "cell_type": "code",
   "execution_count": 176,
   "id": "609a2576",
   "metadata": {},
   "outputs": [],
   "source": [
    "X_test_11 = X_test_1*scale_1"
   ]
  },
  {
   "cell_type": "markdown",
   "id": "1070cc97",
   "metadata": {},
   "source": [
    "# Transforming the scaled data"
   ]
  },
  {
   "cell_type": "code",
   "execution_count": 171,
   "id": "0d17afdd",
   "metadata": {},
   "outputs": [],
   "source": [
    "y_pred_1 = y_pred_1*scale_1\n",
    "y_test_1 = y_test_1*scale_1"
   ]
  },
  {
   "cell_type": "code",
   "execution_count": 172,
   "id": "0b1d882b",
   "metadata": {},
   "outputs": [
    {
     "data": {
      "image/png": "[encoded data removed]",
      "text/plain": [
       "<Figure size 1008x360 with 1 Axes>"
      ]
     },
     "metadata": {},
     "output_type": "display_data"
    }
   ],
   "source": [
    "# Visualising the results\n",
    "plt.figure(figsize=(14,5))\n",
    "plt.plot(y_test_1, color = 'red', label = 'Real Price')\n",
    "plt.plot(y_pred_1, color = 'blue', label = 'Predicted Price')\n",
    "plt.title('Price Prediction from 2015-10-08 to 2017-04-15  ')\n",
    "plt.xlabel('Time')\n",
    "plt.ylabel('Price')\n",
    "plt.legend()\n",
    "plt.show()\n"
   ]
  },
  {
   "cell_type": "code",
   "execution_count": 318,
   "id": "98ded8d8",
   "metadata": {},
   "outputs": [
    {
     "name": "stdout",
     "output_type": "stream",
     "text": [
      "MSE 3.413735659550736e-06\n",
      "MAE in % 0.032710496910332204\n"
     ]
    }
   ],
   "source": [
    "print('MSE', metrics.mean_squared_error(y_test_1, y_pred_1))\n",
    "print('MAE in %', (metrics.mean_absolute_error(y_test_1, y_pred_1)/y_test_1.mean())*100)"
   ]
  },
  {
   "cell_type": "code",
   "execution_count": 319,
   "id": "57974eb5",
   "metadata": {},
   "outputs": [
    {
     "name": "stdout",
     "output_type": "stream",
     "text": [
      "24976/24976 [==============================] - 959s 38ms/step - loss: 3.4134e-06\n"
     ]
    },
    {
     "data": {
      "text/plain": [
       "3.4134011457354063e-06"
      ]
     },
     "execution_count": 319,
     "metadata": {},
     "output_type": "execute_result"
    }
   ],
   "source": [
    "model_1.evaluate(X_test_1, y_test_1, batch_size = 32)"
   ]
  }
 ],
 "metadata": {
  "kernelspec": {
   "display_name": "Python 3",
   "language": "python",
   "name": "python3"
  },
  "language_info": {
   "codemirror_mode": {
    "name": "ipython",
    "version": 3
   },
   "file_extension": ".py",
   "mimetype": "text/x-python",
   "name": "python",
   "nbconvert_exporter": "python",
   "pygments_lexer": "ipython3",
   "version": "3.8.8"
  }
 },
 "nbformat": 4,
 "nbformat_minor": 5
}
