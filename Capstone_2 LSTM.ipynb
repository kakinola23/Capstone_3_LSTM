{
 "cells": [
  {
   "cell_type": "code",
   "execution_count": 1,
   "id": "e97e2502",
   "metadata": {},
   "outputs": [],
   "source": [
    "import pandas as pd\n",
    "import matplotlib.pyplot as plt\n",
    "import numpy as np\n",
    "from statsmodels.tsa.stattools import adfuller\n",
    "from numpy import log"
   ]
  },
  {
   "cell_type": "code",
   "execution_count": 2,
   "id": "ed790d7f",
   "metadata": {},
   "outputs": [],
   "source": [
    "df = pd.read_csv('BTCUSD_1min.csv')"
   ]
  },
  {
   "cell_type": "code",
   "execution_count": 3,
   "id": "7df85d8a",
   "metadata": {},
   "outputs": [
    {
     "data": {
      "text/html": [
       "<div>\n",
       "<style scoped>\n",
       "    .dataframe tbody tr th:only-of-type {\n",
       "        vertical-align: middle;\n",
       "    }\n",
       "\n",
       "    .dataframe tbody tr th {\n",
       "        vertical-align: top;\n",
       "    }\n",
       "\n",
       "    .dataframe thead th {\n",
       "        text-align: right;\n",
       "    }\n",
       "</style>\n",
       "<table border=\"1\" class=\"dataframe\">\n",
       "  <thead>\n",
       "    <tr style=\"text-align: right;\">\n",
       "      <th></th>\n",
       "      <th>Unix Timestamp</th>\n",
       "      <th>Date</th>\n",
       "      <th>Symbol</th>\n",
       "      <th>Open</th>\n",
       "      <th>High</th>\n",
       "      <th>Low</th>\n",
       "      <th>Close</th>\n",
       "      <th>Volume</th>\n",
       "    </tr>\n",
       "  </thead>\n",
       "  <tbody>\n",
       "    <tr>\n",
       "      <th>0</th>\n",
       "      <td>1586390400000</td>\n",
       "      <td>2020-04-09 00:00:00</td>\n",
       "      <td>BTCUSD</td>\n",
       "      <td>7369.60</td>\n",
       "      <td>7369.60</td>\n",
       "      <td>7348.47</td>\n",
       "      <td>7350.41</td>\n",
       "      <td>7.733528</td>\n",
       "    </tr>\n",
       "    <tr>\n",
       "      <th>1</th>\n",
       "      <td>1586390340000</td>\n",
       "      <td>2020-04-08 23:59:00</td>\n",
       "      <td>BTCUSD</td>\n",
       "      <td>7364.37</td>\n",
       "      <td>7369.60</td>\n",
       "      <td>7364.37</td>\n",
       "      <td>7369.60</td>\n",
       "      <td>1.310954</td>\n",
       "    </tr>\n",
       "    <tr>\n",
       "      <th>2</th>\n",
       "      <td>1586390280000</td>\n",
       "      <td>2020-04-08 23:58:00</td>\n",
       "      <td>BTCUSD</td>\n",
       "      <td>7360.89</td>\n",
       "      <td>7367.18</td>\n",
       "      <td>7360.89</td>\n",
       "      <td>7364.37</td>\n",
       "      <td>1.018774</td>\n",
       "    </tr>\n",
       "    <tr>\n",
       "      <th>3</th>\n",
       "      <td>1586390220000</td>\n",
       "      <td>2020-04-08 23:57:00</td>\n",
       "      <td>BTCUSD</td>\n",
       "      <td>7357.62</td>\n",
       "      <td>7366.12</td>\n",
       "      <td>7357.62</td>\n",
       "      <td>7360.89</td>\n",
       "      <td>0.026251</td>\n",
       "    </tr>\n",
       "    <tr>\n",
       "      <th>4</th>\n",
       "      <td>1586390160000</td>\n",
       "      <td>2020-04-08 23:56:00</td>\n",
       "      <td>BTCUSD</td>\n",
       "      <td>7370.71</td>\n",
       "      <td>7370.71</td>\n",
       "      <td>7357.62</td>\n",
       "      <td>7357.62</td>\n",
       "      <td>0.444867</td>\n",
       "    </tr>\n",
       "  </tbody>\n",
       "</table>\n",
       "</div>"
      ],
      "text/plain": [
       "   Unix Timestamp                 Date  Symbol     Open     High      Low  \\\n",
       "0   1586390400000  2020-04-09 00:00:00  BTCUSD  7369.60  7369.60  7348.47   \n",
       "1   1586390340000  2020-04-08 23:59:00  BTCUSD  7364.37  7369.60  7364.37   \n",
       "2   1586390280000  2020-04-08 23:58:00  BTCUSD  7360.89  7367.18  7360.89   \n",
       "3   1586390220000  2020-04-08 23:57:00  BTCUSD  7357.62  7366.12  7357.62   \n",
       "4   1586390160000  2020-04-08 23:56:00  BTCUSD  7370.71  7370.71  7357.62   \n",
       "\n",
       "     Close    Volume  \n",
       "0  7350.41  7.733528  \n",
       "1  7369.60  1.310954  \n",
       "2  7364.37  1.018774  \n",
       "3  7360.89  0.026251  \n",
       "4  7357.62  0.444867  "
      ]
     },
     "execution_count": 3,
     "metadata": {},
     "output_type": "execute_result"
    }
   ],
   "source": [
    "df.head()"
   ]
  },
  {
   "cell_type": "code",
   "execution_count": 4,
   "id": "9e71f218",
   "metadata": {},
   "outputs": [
    {
     "data": {
      "text/plain": [
       "(2283519, 8)"
      ]
     },
     "execution_count": 4,
     "metadata": {},
     "output_type": "execute_result"
    }
   ],
   "source": [
    "df.shape"
   ]
  },
  {
   "cell_type": "code",
   "execution_count": 5,
   "id": "9eaabcb8",
   "metadata": {},
   "outputs": [
    {
     "data": {
      "text/html": [
       "<div>\n",
       "<style scoped>\n",
       "    .dataframe tbody tr th:only-of-type {\n",
       "        vertical-align: middle;\n",
       "    }\n",
       "\n",
       "    .dataframe tbody tr th {\n",
       "        vertical-align: top;\n",
       "    }\n",
       "\n",
       "    .dataframe thead th {\n",
       "        text-align: right;\n",
       "    }\n",
       "</style>\n",
       "<table border=\"1\" class=\"dataframe\">\n",
       "  <thead>\n",
       "    <tr style=\"text-align: right;\">\n",
       "      <th></th>\n",
       "      <th>Unix Timestamp</th>\n",
       "      <th>Date</th>\n",
       "      <th>Symbol</th>\n",
       "      <th>Open</th>\n",
       "      <th>High</th>\n",
       "      <th>Low</th>\n",
       "      <th>Close</th>\n",
       "      <th>Volume</th>\n",
       "    </tr>\n",
       "  </thead>\n",
       "  <tbody>\n",
       "    <tr>\n",
       "      <th>2283514</th>\n",
       "      <td>1444311840</td>\n",
       "      <td>2015-10-08 13:44:00</td>\n",
       "      <td>BTCUSD</td>\n",
       "      <td>242.96</td>\n",
       "      <td>242.96</td>\n",
       "      <td>242.96</td>\n",
       "      <td>242.96</td>\n",
       "      <td>0.033491</td>\n",
       "    </tr>\n",
       "    <tr>\n",
       "      <th>2283515</th>\n",
       "      <td>1444311780</td>\n",
       "      <td>2015-10-08 13:43:00</td>\n",
       "      <td>BTCUSD</td>\n",
       "      <td>242.95</td>\n",
       "      <td>242.96</td>\n",
       "      <td>242.95</td>\n",
       "      <td>242.96</td>\n",
       "      <td>0.010000</td>\n",
       "    </tr>\n",
       "    <tr>\n",
       "      <th>2283516</th>\n",
       "      <td>1444311720</td>\n",
       "      <td>2015-10-08 13:42:00</td>\n",
       "      <td>BTCUSD</td>\n",
       "      <td>242.95</td>\n",
       "      <td>242.95</td>\n",
       "      <td>242.95</td>\n",
       "      <td>242.95</td>\n",
       "      <td>0.000000</td>\n",
       "    </tr>\n",
       "    <tr>\n",
       "      <th>2283517</th>\n",
       "      <td>1444311660</td>\n",
       "      <td>2015-10-08 13:41:00</td>\n",
       "      <td>BTCUSD</td>\n",
       "      <td>242.50</td>\n",
       "      <td>242.95</td>\n",
       "      <td>242.50</td>\n",
       "      <td>242.95</td>\n",
       "      <td>0.001000</td>\n",
       "    </tr>\n",
       "    <tr>\n",
       "      <th>2283518</th>\n",
       "      <td>1444311600</td>\n",
       "      <td>2015-10-08 13:40:00</td>\n",
       "      <td>BTCUSD</td>\n",
       "      <td>0.00</td>\n",
       "      <td>242.50</td>\n",
       "      <td>0.00</td>\n",
       "      <td>242.50</td>\n",
       "      <td>0.050000</td>\n",
       "    </tr>\n",
       "  </tbody>\n",
       "</table>\n",
       "</div>"
      ],
      "text/plain": [
       "         Unix Timestamp                 Date  Symbol    Open    High     Low  \\\n",
       "2283514      1444311840  2015-10-08 13:44:00  BTCUSD  242.96  242.96  242.96   \n",
       "2283515      1444311780  2015-10-08 13:43:00  BTCUSD  242.95  242.96  242.95   \n",
       "2283516      1444311720  2015-10-08 13:42:00  BTCUSD  242.95  242.95  242.95   \n",
       "2283517      1444311660  2015-10-08 13:41:00  BTCUSD  242.50  242.95  242.50   \n",
       "2283518      1444311600  2015-10-08 13:40:00  BTCUSD    0.00  242.50    0.00   \n",
       "\n",
       "          Close    Volume  \n",
       "2283514  242.96  0.033491  \n",
       "2283515  242.96  0.010000  \n",
       "2283516  242.95  0.000000  \n",
       "2283517  242.95  0.001000  \n",
       "2283518  242.50  0.050000  "
      ]
     },
     "execution_count": 5,
     "metadata": {},
     "output_type": "execute_result"
    }
   ],
   "source": [
    "df.tail()"
   ]
  },
  {
   "cell_type": "markdown",
   "id": "6ba551ef",
   "metadata": {},
   "source": [
    "### Visualizing the price"
   ]
  },
  {
   "cell_type": "code",
   "execution_count": 6,
   "id": "c5295570",
   "metadata": {},
   "outputs": [
    {
     "data": {
      "text/plain": [
       "<AxesSubplot:>"
      ]
     },
     "execution_count": 6,
     "metadata": {},
     "output_type": "execute_result"
    },
    {
     "data": {
      "image/png": "[encoded data removed]",
      "text/plain": [
       "<Figure size 432x288 with 1 Axes>"
      ]
     },
     "metadata": {
      "needs_background": "light"
     },
     "output_type": "display_data"
    }
   ],
   "source": [
    "df[\"Close\"].plot()"
   ]
  },
  {
   "cell_type": "code",
   "execution_count": 7,
   "id": "72e3a2ad",
   "metadata": {},
   "outputs": [
    {
     "data": {
      "text/plain": [
       "0"
      ]
     },
     "execution_count": 7,
     "metadata": {},
     "output_type": "execute_result"
    }
   ],
   "source": [
    "#Check null values\n",
    "df.isnull().sum().sum()"
   ]
  },
  {
   "cell_type": "code",
   "execution_count": 8,
   "id": "8212c756",
   "metadata": {},
   "outputs": [
    {
     "data": {
      "text/plain": [
       "Unix Timestamp      int64\n",
       "Date               object\n",
       "Symbol             object\n",
       "Open              float64\n",
       "High              float64\n",
       "Low               float64\n",
       "Close             float64\n",
       "Volume            float64\n",
       "dtype: object"
      ]
     },
     "execution_count": 8,
     "metadata": {},
     "output_type": "execute_result"
    }
   ],
   "source": [
    "#Check data types\n",
    "df.dtypes"
   ]
  },
  {
   "cell_type": "code",
   "execution_count": 9,
   "id": "926a1262",
   "metadata": {},
   "outputs": [],
   "source": [
    "# Convert date to datetime\n",
    "df['Date'] = pd.to_datetime(df['Date'])\n",
    "df['Close'] = pd.to_numeric(df['Close'])"
   ]
  },
  {
   "cell_type": "code",
   "execution_count": null,
   "id": "e5158ff6",
   "metadata": {},
   "outputs": [],
   "source": []
  },
  {
   "cell_type": "code",
   "execution_count": 10,
   "id": "b4e276f3",
   "metadata": {},
   "outputs": [
    {
     "data": {
      "text/plain": [
       "Unix Timestamp             int64\n",
       "Date              datetime64[ns]\n",
       "Symbol                    object\n",
       "Open                     float64\n",
       "High                     float64\n",
       "Low                      float64\n",
       "Close                    float64\n",
       "Volume                   float64\n",
       "dtype: object"
      ]
     },
     "execution_count": 10,
     "metadata": {},
     "output_type": "execute_result"
    }
   ],
   "source": [
    "df.dtypes"
   ]
  },
  {
   "cell_type": "markdown",
   "id": "2049b1a6",
   "metadata": {},
   "source": [
    "# Feature Engineering"
   ]
  },
  {
   "cell_type": "code",
   "execution_count": 11,
   "id": "d94010cc",
   "metadata": {
    "scrolled": true
   },
   "outputs": [
    {
     "data": {
      "text/html": [
       "<div>\n",
       "<style scoped>\n",
       "    .dataframe tbody tr th:only-of-type {\n",
       "        vertical-align: middle;\n",
       "    }\n",
       "\n",
       "    .dataframe tbody tr th {\n",
       "        vertical-align: top;\n",
       "    }\n",
       "\n",
       "    .dataframe thead th {\n",
       "        text-align: right;\n",
       "    }\n",
       "</style>\n",
       "<table border=\"1\" class=\"dataframe\">\n",
       "  <thead>\n",
       "    <tr style=\"text-align: right;\">\n",
       "      <th></th>\n",
       "      <th>Unix Timestamp</th>\n",
       "      <th>Symbol</th>\n",
       "      <th>Open</th>\n",
       "      <th>High</th>\n",
       "      <th>Low</th>\n",
       "      <th>Close</th>\n",
       "      <th>Volume</th>\n",
       "    </tr>\n",
       "    <tr>\n",
       "      <th>Date</th>\n",
       "      <th></th>\n",
       "      <th></th>\n",
       "      <th></th>\n",
       "      <th></th>\n",
       "      <th></th>\n",
       "      <th></th>\n",
       "      <th></th>\n",
       "    </tr>\n",
       "  </thead>\n",
       "  <tbody>\n",
       "    <tr>\n",
       "      <th>2020-04-09 00:00:00</th>\n",
       "      <td>1586390400000</td>\n",
       "      <td>BTCUSD</td>\n",
       "      <td>7369.60</td>\n",
       "      <td>7369.60</td>\n",
       "      <td>7348.47</td>\n",
       "      <td>7350.41</td>\n",
       "      <td>7.733528</td>\n",
       "    </tr>\n",
       "    <tr>\n",
       "      <th>2020-04-08 23:59:00</th>\n",
       "      <td>1586390340000</td>\n",
       "      <td>BTCUSD</td>\n",
       "      <td>7364.37</td>\n",
       "      <td>7369.60</td>\n",
       "      <td>7364.37</td>\n",
       "      <td>7369.60</td>\n",
       "      <td>1.310954</td>\n",
       "    </tr>\n",
       "    <tr>\n",
       "      <th>2020-04-08 23:58:00</th>\n",
       "      <td>1586390280000</td>\n",
       "      <td>BTCUSD</td>\n",
       "      <td>7360.89</td>\n",
       "      <td>7367.18</td>\n",
       "      <td>7360.89</td>\n",
       "      <td>7364.37</td>\n",
       "      <td>1.018774</td>\n",
       "    </tr>\n",
       "    <tr>\n",
       "      <th>2020-04-08 23:57:00</th>\n",
       "      <td>1586390220000</td>\n",
       "      <td>BTCUSD</td>\n",
       "      <td>7357.62</td>\n",
       "      <td>7366.12</td>\n",
       "      <td>7357.62</td>\n",
       "      <td>7360.89</td>\n",
       "      <td>0.026251</td>\n",
       "    </tr>\n",
       "    <tr>\n",
       "      <th>2020-04-08 23:56:00</th>\n",
       "      <td>1586390160000</td>\n",
       "      <td>BTCUSD</td>\n",
       "      <td>7370.71</td>\n",
       "      <td>7370.71</td>\n",
       "      <td>7357.62</td>\n",
       "      <td>7357.62</td>\n",
       "      <td>0.444867</td>\n",
       "    </tr>\n",
       "  </tbody>\n",
       "</table>\n",
       "</div>"
      ],
      "text/plain": [
       "                     Unix Timestamp  Symbol     Open     High      Low  \\\n",
       "Date                                                                     \n",
       "2020-04-09 00:00:00   1586390400000  BTCUSD  7369.60  7369.60  7348.47   \n",
       "2020-04-08 23:59:00   1586390340000  BTCUSD  7364.37  7369.60  7364.37   \n",
       "2020-04-08 23:58:00   1586390280000  BTCUSD  7360.89  7367.18  7360.89   \n",
       "2020-04-08 23:57:00   1586390220000  BTCUSD  7357.62  7366.12  7357.62   \n",
       "2020-04-08 23:56:00   1586390160000  BTCUSD  7370.71  7370.71  7357.62   \n",
       "\n",
       "                       Close    Volume  \n",
       "Date                                    \n",
       "2020-04-09 00:00:00  7350.41  7.733528  \n",
       "2020-04-08 23:59:00  7369.60  1.310954  \n",
       "2020-04-08 23:58:00  7364.37  1.018774  \n",
       "2020-04-08 23:57:00  7360.89  0.026251  \n",
       "2020-04-08 23:56:00  7357.62  0.444867  "
      ]
     },
     "execution_count": 11,
     "metadata": {},
     "output_type": "execute_result"
    }
   ],
   "source": [
    "#set date as index\n",
    "df = df.set_index('Date')\n",
    "df.head()"
   ]
  },
  {
   "cell_type": "markdown",
   "id": "6e16b888",
   "metadata": {},
   "source": [
    "### Percent Change"
   ]
  },
  {
   "cell_type": "code",
   "execution_count": 12,
   "id": "02ea75d1",
   "metadata": {},
   "outputs": [
    {
     "data": {
      "text/html": [
       "<div>\n",
       "<style scoped>\n",
       "    .dataframe tbody tr th:only-of-type {\n",
       "        vertical-align: middle;\n",
       "    }\n",
       "\n",
       "    .dataframe tbody tr th {\n",
       "        vertical-align: top;\n",
       "    }\n",
       "\n",
       "    .dataframe thead th {\n",
       "        text-align: right;\n",
       "    }\n",
       "</style>\n",
       "<table border=\"1\" class=\"dataframe\">\n",
       "  <thead>\n",
       "    <tr style=\"text-align: right;\">\n",
       "      <th></th>\n",
       "      <th>Unix Timestamp</th>\n",
       "      <th>Symbol</th>\n",
       "      <th>Open</th>\n",
       "      <th>High</th>\n",
       "      <th>Low</th>\n",
       "      <th>Close</th>\n",
       "      <th>Volume</th>\n",
       "      <th>open_%_change</th>\n",
       "      <th>high_%_change</th>\n",
       "      <th>low_%_change</th>\n",
       "      <th>close_%_change</th>\n",
       "      <th>volume_%_change</th>\n",
       "    </tr>\n",
       "    <tr>\n",
       "      <th>Date</th>\n",
       "      <th></th>\n",
       "      <th></th>\n",
       "      <th></th>\n",
       "      <th></th>\n",
       "      <th></th>\n",
       "      <th></th>\n",
       "      <th></th>\n",
       "      <th></th>\n",
       "      <th></th>\n",
       "      <th></th>\n",
       "      <th></th>\n",
       "      <th></th>\n",
       "    </tr>\n",
       "  </thead>\n",
       "  <tbody>\n",
       "    <tr>\n",
       "      <th>2020-04-09 00:00:00</th>\n",
       "      <td>1586390400000</td>\n",
       "      <td>BTCUSD</td>\n",
       "      <td>7369.60</td>\n",
       "      <td>7369.60</td>\n",
       "      <td>7348.47</td>\n",
       "      <td>7350.41</td>\n",
       "      <td>7.733528</td>\n",
       "      <td>NaN</td>\n",
       "      <td>NaN</td>\n",
       "      <td>NaN</td>\n",
       "      <td>NaN</td>\n",
       "      <td>NaN</td>\n",
       "    </tr>\n",
       "    <tr>\n",
       "      <th>2020-04-08 23:59:00</th>\n",
       "      <td>1586390340000</td>\n",
       "      <td>BTCUSD</td>\n",
       "      <td>7364.37</td>\n",
       "      <td>7369.60</td>\n",
       "      <td>7364.37</td>\n",
       "      <td>7369.60</td>\n",
       "      <td>1.310954</td>\n",
       "      <td>-0.000710</td>\n",
       "      <td>0.000000</td>\n",
       "      <td>0.002164</td>\n",
       "      <td>0.002611</td>\n",
       "      <td>-0.830484</td>\n",
       "    </tr>\n",
       "    <tr>\n",
       "      <th>2020-04-08 23:58:00</th>\n",
       "      <td>1586390280000</td>\n",
       "      <td>BTCUSD</td>\n",
       "      <td>7360.89</td>\n",
       "      <td>7367.18</td>\n",
       "      <td>7360.89</td>\n",
       "      <td>7364.37</td>\n",
       "      <td>1.018774</td>\n",
       "      <td>-0.000473</td>\n",
       "      <td>-0.000328</td>\n",
       "      <td>-0.000473</td>\n",
       "      <td>-0.000710</td>\n",
       "      <td>-0.222876</td>\n",
       "    </tr>\n",
       "    <tr>\n",
       "      <th>2020-04-08 23:57:00</th>\n",
       "      <td>1586390220000</td>\n",
       "      <td>BTCUSD</td>\n",
       "      <td>7357.62</td>\n",
       "      <td>7366.12</td>\n",
       "      <td>7357.62</td>\n",
       "      <td>7360.89</td>\n",
       "      <td>0.026251</td>\n",
       "      <td>-0.000444</td>\n",
       "      <td>-0.000144</td>\n",
       "      <td>-0.000444</td>\n",
       "      <td>-0.000473</td>\n",
       "      <td>-0.974233</td>\n",
       "    </tr>\n",
       "    <tr>\n",
       "      <th>2020-04-08 23:56:00</th>\n",
       "      <td>1586390160000</td>\n",
       "      <td>BTCUSD</td>\n",
       "      <td>7370.71</td>\n",
       "      <td>7370.71</td>\n",
       "      <td>7357.62</td>\n",
       "      <td>7357.62</td>\n",
       "      <td>0.444867</td>\n",
       "      <td>0.001779</td>\n",
       "      <td>0.000623</td>\n",
       "      <td>0.000000</td>\n",
       "      <td>-0.000444</td>\n",
       "      <td>15.946822</td>\n",
       "    </tr>\n",
       "  </tbody>\n",
       "</table>\n",
       "</div>"
      ],
      "text/plain": [
       "                     Unix Timestamp  Symbol     Open     High      Low  \\\n",
       "Date                                                                     \n",
       "2020-04-09 00:00:00   1586390400000  BTCUSD  7369.60  7369.60  7348.47   \n",
       "2020-04-08 23:59:00   1586390340000  BTCUSD  7364.37  7369.60  7364.37   \n",
       "2020-04-08 23:58:00   1586390280000  BTCUSD  7360.89  7367.18  7360.89   \n",
       "2020-04-08 23:57:00   1586390220000  BTCUSD  7357.62  7366.12  7357.62   \n",
       "2020-04-08 23:56:00   1586390160000  BTCUSD  7370.71  7370.71  7357.62   \n",
       "\n",
       "                       Close    Volume  open_%_change  high_%_change  \\\n",
       "Date                                                                   \n",
       "2020-04-09 00:00:00  7350.41  7.733528            NaN            NaN   \n",
       "2020-04-08 23:59:00  7369.60  1.310954      -0.000710       0.000000   \n",
       "2020-04-08 23:58:00  7364.37  1.018774      -0.000473      -0.000328   \n",
       "2020-04-08 23:57:00  7360.89  0.026251      -0.000444      -0.000144   \n",
       "2020-04-08 23:56:00  7357.62  0.444867       0.001779       0.000623   \n",
       "\n",
       "                     low_%_change  close_%_change  volume_%_change  \n",
       "Date                                                                \n",
       "2020-04-09 00:00:00           NaN             NaN              NaN  \n",
       "2020-04-08 23:59:00      0.002164        0.002611        -0.830484  \n",
       "2020-04-08 23:58:00     -0.000473       -0.000710        -0.222876  \n",
       "2020-04-08 23:57:00     -0.000444       -0.000473        -0.974233  \n",
       "2020-04-08 23:56:00      0.000000       -0.000444        15.946822  "
      ]
     },
     "execution_count": 12,
     "metadata": {},
     "output_type": "execute_result"
    }
   ],
   "source": [
    "#Percent change for each variable\n",
    "df['open_%_change'] = df['Open'].pct_change()\n",
    "df['high_%_change'] = df['High'].pct_change()\n",
    "df['low_%_change'] = df['Low'].pct_change()\n",
    "df['close_%_change'] = df['Close'].pct_change()\n",
    "df['volume_%_change'] = df['Volume'].pct_change()\n",
    "df.head()"
   ]
  },
  {
   "cell_type": "markdown",
   "id": "3005a326",
   "metadata": {},
   "source": [
    "### Getting the 20mins simple moving average"
   ]
  },
  {
   "cell_type": "code",
   "execution_count": 13,
   "id": "d15cbae2",
   "metadata": {
    "scrolled": true
   },
   "outputs": [
    {
     "data": {
      "text/html": [
       "<div>\n",
       "<style scoped>\n",
       "    .dataframe tbody tr th:only-of-type {\n",
       "        vertical-align: middle;\n",
       "    }\n",
       "\n",
       "    .dataframe tbody tr th {\n",
       "        vertical-align: top;\n",
       "    }\n",
       "\n",
       "    .dataframe thead th {\n",
       "        text-align: right;\n",
       "    }\n",
       "</style>\n",
       "<table border=\"1\" class=\"dataframe\">\n",
       "  <thead>\n",
       "    <tr style=\"text-align: right;\">\n",
       "      <th></th>\n",
       "      <th>Unix Timestamp</th>\n",
       "      <th>Symbol</th>\n",
       "      <th>Open</th>\n",
       "      <th>High</th>\n",
       "      <th>Low</th>\n",
       "      <th>Close</th>\n",
       "      <th>Volume</th>\n",
       "      <th>open_%_change</th>\n",
       "      <th>high_%_change</th>\n",
       "      <th>low_%_change</th>\n",
       "      <th>close_%_change</th>\n",
       "      <th>volume_%_change</th>\n",
       "      <th>20_min_sma_close</th>\n",
       "    </tr>\n",
       "    <tr>\n",
       "      <th>Date</th>\n",
       "      <th></th>\n",
       "      <th></th>\n",
       "      <th></th>\n",
       "      <th></th>\n",
       "      <th></th>\n",
       "      <th></th>\n",
       "      <th></th>\n",
       "      <th></th>\n",
       "      <th></th>\n",
       "      <th></th>\n",
       "      <th></th>\n",
       "      <th></th>\n",
       "      <th></th>\n",
       "    </tr>\n",
       "  </thead>\n",
       "  <tbody>\n",
       "    <tr>\n",
       "      <th>2020-04-09 00:00:00</th>\n",
       "      <td>1586390400000</td>\n",
       "      <td>BTCUSD</td>\n",
       "      <td>7369.60</td>\n",
       "      <td>7369.60</td>\n",
       "      <td>7348.47</td>\n",
       "      <td>7350.41</td>\n",
       "      <td>7.733528</td>\n",
       "      <td>NaN</td>\n",
       "      <td>NaN</td>\n",
       "      <td>NaN</td>\n",
       "      <td>NaN</td>\n",
       "      <td>NaN</td>\n",
       "      <td>NaN</td>\n",
       "    </tr>\n",
       "    <tr>\n",
       "      <th>2020-04-08 23:59:00</th>\n",
       "      <td>1586390340000</td>\n",
       "      <td>BTCUSD</td>\n",
       "      <td>7364.37</td>\n",
       "      <td>7369.60</td>\n",
       "      <td>7364.37</td>\n",
       "      <td>7369.60</td>\n",
       "      <td>1.310954</td>\n",
       "      <td>-0.000710</td>\n",
       "      <td>0.000000</td>\n",
       "      <td>0.002164</td>\n",
       "      <td>0.002611</td>\n",
       "      <td>-0.830484</td>\n",
       "      <td>NaN</td>\n",
       "    </tr>\n",
       "    <tr>\n",
       "      <th>2020-04-08 23:58:00</th>\n",
       "      <td>1586390280000</td>\n",
       "      <td>BTCUSD</td>\n",
       "      <td>7360.89</td>\n",
       "      <td>7367.18</td>\n",
       "      <td>7360.89</td>\n",
       "      <td>7364.37</td>\n",
       "      <td>1.018774</td>\n",
       "      <td>-0.000473</td>\n",
       "      <td>-0.000328</td>\n",
       "      <td>-0.000473</td>\n",
       "      <td>-0.000710</td>\n",
       "      <td>-0.222876</td>\n",
       "      <td>NaN</td>\n",
       "    </tr>\n",
       "    <tr>\n",
       "      <th>2020-04-08 23:57:00</th>\n",
       "      <td>1586390220000</td>\n",
       "      <td>BTCUSD</td>\n",
       "      <td>7357.62</td>\n",
       "      <td>7366.12</td>\n",
       "      <td>7357.62</td>\n",
       "      <td>7360.89</td>\n",
       "      <td>0.026251</td>\n",
       "      <td>-0.000444</td>\n",
       "      <td>-0.000144</td>\n",
       "      <td>-0.000444</td>\n",
       "      <td>-0.000473</td>\n",
       "      <td>-0.974233</td>\n",
       "      <td>NaN</td>\n",
       "    </tr>\n",
       "    <tr>\n",
       "      <th>2020-04-08 23:56:00</th>\n",
       "      <td>1586390160000</td>\n",
       "      <td>BTCUSD</td>\n",
       "      <td>7370.71</td>\n",
       "      <td>7370.71</td>\n",
       "      <td>7357.62</td>\n",
       "      <td>7357.62</td>\n",
       "      <td>0.444867</td>\n",
       "      <td>0.001779</td>\n",
       "      <td>0.000623</td>\n",
       "      <td>0.000000</td>\n",
       "      <td>-0.000444</td>\n",
       "      <td>15.946822</td>\n",
       "      <td>NaN</td>\n",
       "    </tr>\n",
       "  </tbody>\n",
       "</table>\n",
       "</div>"
      ],
      "text/plain": [
       "                     Unix Timestamp  Symbol     Open     High      Low  \\\n",
       "Date                                                                     \n",
       "2020-04-09 00:00:00   1586390400000  BTCUSD  7369.60  7369.60  7348.47   \n",
       "2020-04-08 23:59:00   1586390340000  BTCUSD  7364.37  7369.60  7364.37   \n",
       "2020-04-08 23:58:00   1586390280000  BTCUSD  7360.89  7367.18  7360.89   \n",
       "2020-04-08 23:57:00   1586390220000  BTCUSD  7357.62  7366.12  7357.62   \n",
       "2020-04-08 23:56:00   1586390160000  BTCUSD  7370.71  7370.71  7357.62   \n",
       "\n",
       "                       Close    Volume  open_%_change  high_%_change  \\\n",
       "Date                                                                   \n",
       "2020-04-09 00:00:00  7350.41  7.733528            NaN            NaN   \n",
       "2020-04-08 23:59:00  7369.60  1.310954      -0.000710       0.000000   \n",
       "2020-04-08 23:58:00  7364.37  1.018774      -0.000473      -0.000328   \n",
       "2020-04-08 23:57:00  7360.89  0.026251      -0.000444      -0.000144   \n",
       "2020-04-08 23:56:00  7357.62  0.444867       0.001779       0.000623   \n",
       "\n",
       "                     low_%_change  close_%_change  volume_%_change  \\\n",
       "Date                                                                 \n",
       "2020-04-09 00:00:00           NaN             NaN              NaN   \n",
       "2020-04-08 23:59:00      0.002164        0.002611        -0.830484   \n",
       "2020-04-08 23:58:00     -0.000473       -0.000710        -0.222876   \n",
       "2020-04-08 23:57:00     -0.000444       -0.000473        -0.974233   \n",
       "2020-04-08 23:56:00      0.000000       -0.000444        15.946822   \n",
       "\n",
       "                     20_min_sma_close  \n",
       "Date                                   \n",
       "2020-04-09 00:00:00               NaN  \n",
       "2020-04-08 23:59:00               NaN  \n",
       "2020-04-08 23:58:00               NaN  \n",
       "2020-04-08 23:57:00               NaN  \n",
       "2020-04-08 23:56:00               NaN  "
      ]
     },
     "execution_count": 13,
     "metadata": {},
     "output_type": "execute_result"
    }
   ],
   "source": [
    "df['20_min_sma_close'] = df['Close'].rolling(window=20).mean()\n",
    "df.head()"
   ]
  },
  {
   "cell_type": "markdown",
   "id": "6c94e507",
   "metadata": {},
   "source": [
    "### Visualizing the price and the 20-minute SMA"
   ]
  },
  {
   "cell_type": "code",
   "execution_count": 14,
   "id": "29c750eb",
   "metadata": {},
   "outputs": [
    {
     "data": {
      "image/png": "[encoded data removed]",
      "text/plain": [
       "<Figure size 432x288 with 1 Axes>"
      ]
     },
     "metadata": {
      "needs_background": "light"
     },
     "output_type": "display_data"
    }
   ],
   "source": [
    "# Plot the simple moving average for 20 min\n",
    "plt.title('BTC Simple Moving Average')\n",
    "plt.xlabel('Dates')\n",
    "plt.ylabel('Closing Prices')\n",
    "plt.plot(df['Close'], label='Closing Prices')\n",
    "plt.plot(df['20_min_sma_close'], label='20 min SMA')\n",
    "plt.legend()\n",
    "plt.show()"
   ]
  },
  {
   "cell_type": "markdown",
   "id": "7a360be4",
   "metadata": {},
   "source": [
    "### Creating the upper and lower bands from the 20min moving average "
   ]
  },
  {
   "cell_type": "code",
   "execution_count": 15,
   "id": "862b39d4",
   "metadata": {},
   "outputs": [
    {
     "data": {
      "text/html": [
       "<div>\n",
       "<style scoped>\n",
       "    .dataframe tbody tr th:only-of-type {\n",
       "        vertical-align: middle;\n",
       "    }\n",
       "\n",
       "    .dataframe tbody tr th {\n",
       "        vertical-align: top;\n",
       "    }\n",
       "\n",
       "    .dataframe thead th {\n",
       "        text-align: right;\n",
       "    }\n",
       "</style>\n",
       "<table border=\"1\" class=\"dataframe\">\n",
       "  <thead>\n",
       "    <tr style=\"text-align: right;\">\n",
       "      <th></th>\n",
       "      <th>Unix Timestamp</th>\n",
       "      <th>Symbol</th>\n",
       "      <th>Open</th>\n",
       "      <th>High</th>\n",
       "      <th>Low</th>\n",
       "      <th>Close</th>\n",
       "      <th>Volume</th>\n",
       "      <th>open_%_change</th>\n",
       "      <th>high_%_change</th>\n",
       "      <th>low_%_change</th>\n",
       "      <th>close_%_change</th>\n",
       "      <th>volume_%_change</th>\n",
       "      <th>20_min_sma_close</th>\n",
       "      <th>Upper Band_2</th>\n",
       "      <th>Lower Band_2</th>\n",
       "    </tr>\n",
       "    <tr>\n",
       "      <th>Date</th>\n",
       "      <th></th>\n",
       "      <th></th>\n",
       "      <th></th>\n",
       "      <th></th>\n",
       "      <th></th>\n",
       "      <th></th>\n",
       "      <th></th>\n",
       "      <th></th>\n",
       "      <th></th>\n",
       "      <th></th>\n",
       "      <th></th>\n",
       "      <th></th>\n",
       "      <th></th>\n",
       "      <th></th>\n",
       "      <th></th>\n",
       "    </tr>\n",
       "  </thead>\n",
       "  <tbody>\n",
       "    <tr>\n",
       "      <th>2020-04-09 00:00:00</th>\n",
       "      <td>1586390400000</td>\n",
       "      <td>BTCUSD</td>\n",
       "      <td>7369.60</td>\n",
       "      <td>7369.60</td>\n",
       "      <td>7348.47</td>\n",
       "      <td>7350.41</td>\n",
       "      <td>7.733528</td>\n",
       "      <td>NaN</td>\n",
       "      <td>NaN</td>\n",
       "      <td>NaN</td>\n",
       "      <td>NaN</td>\n",
       "      <td>NaN</td>\n",
       "      <td>NaN</td>\n",
       "      <td>NaN</td>\n",
       "      <td>NaN</td>\n",
       "    </tr>\n",
       "    <tr>\n",
       "      <th>2020-04-08 23:59:00</th>\n",
       "      <td>1586390340000</td>\n",
       "      <td>BTCUSD</td>\n",
       "      <td>7364.37</td>\n",
       "      <td>7369.60</td>\n",
       "      <td>7364.37</td>\n",
       "      <td>7369.60</td>\n",
       "      <td>1.310954</td>\n",
       "      <td>-0.000710</td>\n",
       "      <td>0.000000</td>\n",
       "      <td>0.002164</td>\n",
       "      <td>0.002611</td>\n",
       "      <td>-0.830484</td>\n",
       "      <td>NaN</td>\n",
       "      <td>NaN</td>\n",
       "      <td>NaN</td>\n",
       "    </tr>\n",
       "    <tr>\n",
       "      <th>2020-04-08 23:58:00</th>\n",
       "      <td>1586390280000</td>\n",
       "      <td>BTCUSD</td>\n",
       "      <td>7360.89</td>\n",
       "      <td>7367.18</td>\n",
       "      <td>7360.89</td>\n",
       "      <td>7364.37</td>\n",
       "      <td>1.018774</td>\n",
       "      <td>-0.000473</td>\n",
       "      <td>-0.000328</td>\n",
       "      <td>-0.000473</td>\n",
       "      <td>-0.000710</td>\n",
       "      <td>-0.222876</td>\n",
       "      <td>NaN</td>\n",
       "      <td>NaN</td>\n",
       "      <td>NaN</td>\n",
       "    </tr>\n",
       "    <tr>\n",
       "      <th>2020-04-08 23:57:00</th>\n",
       "      <td>1586390220000</td>\n",
       "      <td>BTCUSD</td>\n",
       "      <td>7357.62</td>\n",
       "      <td>7366.12</td>\n",
       "      <td>7357.62</td>\n",
       "      <td>7360.89</td>\n",
       "      <td>0.026251</td>\n",
       "      <td>-0.000444</td>\n",
       "      <td>-0.000144</td>\n",
       "      <td>-0.000444</td>\n",
       "      <td>-0.000473</td>\n",
       "      <td>-0.974233</td>\n",
       "      <td>NaN</td>\n",
       "      <td>NaN</td>\n",
       "      <td>NaN</td>\n",
       "    </tr>\n",
       "    <tr>\n",
       "      <th>2020-04-08 23:56:00</th>\n",
       "      <td>1586390160000</td>\n",
       "      <td>BTCUSD</td>\n",
       "      <td>7370.71</td>\n",
       "      <td>7370.71</td>\n",
       "      <td>7357.62</td>\n",
       "      <td>7357.62</td>\n",
       "      <td>0.444867</td>\n",
       "      <td>0.001779</td>\n",
       "      <td>0.000623</td>\n",
       "      <td>0.000000</td>\n",
       "      <td>-0.000444</td>\n",
       "      <td>15.946822</td>\n",
       "      <td>NaN</td>\n",
       "      <td>NaN</td>\n",
       "      <td>NaN</td>\n",
       "    </tr>\n",
       "  </tbody>\n",
       "</table>\n",
       "</div>"
      ],
      "text/plain": [
       "                     Unix Timestamp  Symbol     Open     High      Low  \\\n",
       "Date                                                                     \n",
       "2020-04-09 00:00:00   1586390400000  BTCUSD  7369.60  7369.60  7348.47   \n",
       "2020-04-08 23:59:00   1586390340000  BTCUSD  7364.37  7369.60  7364.37   \n",
       "2020-04-08 23:58:00   1586390280000  BTCUSD  7360.89  7367.18  7360.89   \n",
       "2020-04-08 23:57:00   1586390220000  BTCUSD  7357.62  7366.12  7357.62   \n",
       "2020-04-08 23:56:00   1586390160000  BTCUSD  7370.71  7370.71  7357.62   \n",
       "\n",
       "                       Close    Volume  open_%_change  high_%_change  \\\n",
       "Date                                                                   \n",
       "2020-04-09 00:00:00  7350.41  7.733528            NaN            NaN   \n",
       "2020-04-08 23:59:00  7369.60  1.310954      -0.000710       0.000000   \n",
       "2020-04-08 23:58:00  7364.37  1.018774      -0.000473      -0.000328   \n",
       "2020-04-08 23:57:00  7360.89  0.026251      -0.000444      -0.000144   \n",
       "2020-04-08 23:56:00  7357.62  0.444867       0.001779       0.000623   \n",
       "\n",
       "                     low_%_change  close_%_change  volume_%_change  \\\n",
       "Date                                                                 \n",
       "2020-04-09 00:00:00           NaN             NaN              NaN   \n",
       "2020-04-08 23:59:00      0.002164        0.002611        -0.830484   \n",
       "2020-04-08 23:58:00     -0.000473       -0.000710        -0.222876   \n",
       "2020-04-08 23:57:00     -0.000444       -0.000473        -0.974233   \n",
       "2020-04-08 23:56:00      0.000000       -0.000444        15.946822   \n",
       "\n",
       "                     20_min_sma_close  Upper Band_2  Lower Band_2  \n",
       "Date                                                               \n",
       "2020-04-09 00:00:00               NaN           NaN           NaN  \n",
       "2020-04-08 23:59:00               NaN           NaN           NaN  \n",
       "2020-04-08 23:58:00               NaN           NaN           NaN  \n",
       "2020-04-08 23:57:00               NaN           NaN           NaN  \n",
       "2020-04-08 23:56:00               NaN           NaN           NaN  "
      ]
     },
     "execution_count": 15,
     "metadata": {},
     "output_type": "execute_result"
    }
   ],
   "source": [
    "# two standard deviation away from the 20 min moving average\n",
    "df['Upper Band_2'] = df['20_min_sma_close'] + (2 * df['Close'].rolling(window=20).std())\n",
    "df['Lower Band_2'] = df['20_min_sma_close'] - (2 * df['Close'].rolling(window=20).std())\n",
    "df.head()"
   ]
  },
  {
   "cell_type": "code",
   "execution_count": null,
   "id": "267fb969",
   "metadata": {},
   "outputs": [],
   "source": []
  },
  {
   "cell_type": "code",
   "execution_count": 16,
   "id": "0bc139bd",
   "metadata": {},
   "outputs": [],
   "source": [
    "def bb_strategy(data, lower_bb, upper_bb):\n",
    "    buy = []\n",
    "    sell = []\n",
    "    b_signal = []\n",
    "    signal = 0\n",
    "    \n",
    "    for i in range(len(data)):\n",
    "        if data[i-1] > lower_bb[i-1] and data[i] < lower_bb[i]:\n",
    "            if signal != 1:\n",
    "                buy.append(data[i])\n",
    "                sell.append(np.nan)\n",
    "                signal = 1\n",
    "                b_signal.append(signal)\n",
    "            else:\n",
    "                buy.append(np.nan)\n",
    "                sell.append(np.nan)\n",
    "                b_signal.append(0)\n",
    "        elif data[i-1] < upper_bb[i-1] and data[i] > upper_bb[i]:\n",
    "            if signal != -1:\n",
    "                buy.append(np.nan)\n",
    "                sell.append(data[i])\n",
    "                signal = -1\n",
    "                b_signal.append(signal)\n",
    "            else:\n",
    "                buy.append(np.nan)\n",
    "                sell.append(np.nan)\n",
    "                b_signal.append(0)\n",
    "        else:\n",
    "            buy.append(np.nan)\n",
    "            sell.append(np.nan)\n",
    "            b_signal.append(0)\n",
    "            \n",
    "    return buy, sell, b_signal\n",
    "\n",
    "buy, sell, b_signal = bb_strategy(df['Close'], df['Lower Band_2'], df['Upper Band_2'])"
   ]
  },
  {
   "cell_type": "markdown",
   "id": "886aa3b6",
   "metadata": {},
   "source": [
    "# SMAC"
   ]
  },
  {
   "cell_type": "code",
   "execution_count": 18,
   "id": "f0de2ddc",
   "metadata": {},
   "outputs": [],
   "source": [
    "smac = df['Close'].values"
   ]
  },
  {
   "cell_type": "code",
   "execution_count": 20,
   "id": "ee6ccc5a",
   "metadata": {},
   "outputs": [],
   "source": [
    "short_lb = 9 \n",
    "long_lb = 21\n",
    "signal_df = pd.DataFrame(index=df.index)\n",
    "signal_df['signal'] = 0.0\n",
    "signal_df['short_mav'] = df[['Close']].rolling(window=short_lb,min_periods=1, center=False).mean()"
   ]
  },
  {
   "cell_type": "code",
   "execution_count": 21,
   "id": "22f24ace",
   "metadata": {},
   "outputs": [],
   "source": [
    "signal_df['long_mav'] = df[['Close']].rolling(window=long_lb, min_periods=1, center=False).mean()"
   ]
  },
  {
   "cell_type": "code",
   "execution_count": 22,
   "id": "22578137",
   "metadata": {},
   "outputs": [],
   "source": [
    "signal_df['signal'][short_lb:] = np.where(signal_df['short_mav'][short_lb:] > signal_df['long_mav'][short_lb:], 1.0, 0.0)   "
   ]
  },
  {
   "cell_type": "code",
   "execution_count": 23,
   "id": "ace51bfd",
   "metadata": {},
   "outputs": [
    {
     "data": {
      "text/html": [
       "<div>\n",
       "<style scoped>\n",
       "    .dataframe tbody tr th:only-of-type {\n",
       "        vertical-align: middle;\n",
       "    }\n",
       "\n",
       "    .dataframe tbody tr th {\n",
       "        vertical-align: top;\n",
       "    }\n",
       "\n",
       "    .dataframe thead th {\n",
       "        text-align: right;\n",
       "    }\n",
       "</style>\n",
       "<table border=\"1\" class=\"dataframe\">\n",
       "  <thead>\n",
       "    <tr style=\"text-align: right;\">\n",
       "      <th></th>\n",
       "      <th>signal</th>\n",
       "      <th>short_mav</th>\n",
       "      <th>long_mav</th>\n",
       "      <th>positions</th>\n",
       "    </tr>\n",
       "    <tr>\n",
       "      <th>Date</th>\n",
       "      <th></th>\n",
       "      <th></th>\n",
       "      <th></th>\n",
       "      <th></th>\n",
       "    </tr>\n",
       "  </thead>\n",
       "  <tbody>\n",
       "    <tr>\n",
       "      <th>2020-04-08 23:23:00</th>\n",
       "      <td>0.0</td>\n",
       "      <td>7387.911111</td>\n",
       "      <td>7387.913333</td>\n",
       "      <td>-1.0</td>\n",
       "    </tr>\n",
       "    <tr>\n",
       "      <th>2020-04-08 22:46:00</th>\n",
       "      <td>0.0</td>\n",
       "      <td>7366.197778</td>\n",
       "      <td>7366.685714</td>\n",
       "      <td>-1.0</td>\n",
       "    </tr>\n",
       "    <tr>\n",
       "      <th>2020-04-08 22:06:00</th>\n",
       "      <td>0.0</td>\n",
       "      <td>7353.776667</td>\n",
       "      <td>7353.934762</td>\n",
       "      <td>-1.0</td>\n",
       "    </tr>\n",
       "    <tr>\n",
       "      <th>2020-04-08 21:23:00</th>\n",
       "      <td>0.0</td>\n",
       "      <td>7357.260000</td>\n",
       "      <td>7358.383810</td>\n",
       "      <td>-1.0</td>\n",
       "    </tr>\n",
       "    <tr>\n",
       "      <th>2020-04-08 21:02:00</th>\n",
       "      <td>0.0</td>\n",
       "      <td>7353.583333</td>\n",
       "      <td>7353.935238</td>\n",
       "      <td>-1.0</td>\n",
       "    </tr>\n",
       "    <tr>\n",
       "      <th>...</th>\n",
       "      <td>...</td>\n",
       "      <td>...</td>\n",
       "      <td>...</td>\n",
       "      <td>...</td>\n",
       "    </tr>\n",
       "    <tr>\n",
       "      <th>2015-10-08 17:13:00</th>\n",
       "      <td>0.0</td>\n",
       "      <td>244.020000</td>\n",
       "      <td>244.020000</td>\n",
       "      <td>-1.0</td>\n",
       "    </tr>\n",
       "    <tr>\n",
       "      <th>2015-10-08 17:09:00</th>\n",
       "      <td>0.0</td>\n",
       "      <td>244.020000</td>\n",
       "      <td>244.020000</td>\n",
       "      <td>-1.0</td>\n",
       "    </tr>\n",
       "    <tr>\n",
       "      <th>2015-10-08 16:08:00</th>\n",
       "      <td>0.0</td>\n",
       "      <td>244.854444</td>\n",
       "      <td>244.855714</td>\n",
       "      <td>-1.0</td>\n",
       "    </tr>\n",
       "    <tr>\n",
       "      <th>2015-10-08 15:15:00</th>\n",
       "      <td>0.0</td>\n",
       "      <td>245.000000</td>\n",
       "      <td>245.000000</td>\n",
       "      <td>-1.0</td>\n",
       "    </tr>\n",
       "    <tr>\n",
       "      <th>2015-10-08 13:48:00</th>\n",
       "      <td>0.0</td>\n",
       "      <td>244.551111</td>\n",
       "      <td>244.640952</td>\n",
       "      <td>-1.0</td>\n",
       "    </tr>\n",
       "  </tbody>\n",
       "</table>\n",
       "<p>85048 rows × 4 columns</p>\n",
       "</div>"
      ],
      "text/plain": [
       "                     signal    short_mav     long_mav  positions\n",
       "Date                                                            \n",
       "2020-04-08 23:23:00     0.0  7387.911111  7387.913333       -1.0\n",
       "2020-04-08 22:46:00     0.0  7366.197778  7366.685714       -1.0\n",
       "2020-04-08 22:06:00     0.0  7353.776667  7353.934762       -1.0\n",
       "2020-04-08 21:23:00     0.0  7357.260000  7358.383810       -1.0\n",
       "2020-04-08 21:02:00     0.0  7353.583333  7353.935238       -1.0\n",
       "...                     ...          ...          ...        ...\n",
       "2015-10-08 17:13:00     0.0   244.020000   244.020000       -1.0\n",
       "2015-10-08 17:09:00     0.0   244.020000   244.020000       -1.0\n",
       "2015-10-08 16:08:00     0.0   244.854444   244.855714       -1.0\n",
       "2015-10-08 15:15:00     0.0   245.000000   245.000000       -1.0\n",
       "2015-10-08 13:48:00     0.0   244.551111   244.640952       -1.0\n",
       "\n",
       "[85048 rows x 4 columns]"
      ]
     },
     "execution_count": 23,
     "metadata": {},
     "output_type": "execute_result"
    }
   ],
   "source": [
    "signal_df['positions'] = signal_df['signal'].diff()\n",
    "signal_df[signal_df['positions'] == -1.0]"
   ]
  },
  {
   "cell_type": "code",
   "execution_count": 24,
   "id": "5ed8cec5",
   "metadata": {},
   "outputs": [
    {
     "data": {
      "text/plain": [
       "[<matplotlib.lines.Line2D at 0x1c4fc240400>]"
      ]
     },
     "execution_count": 24,
     "metadata": {},
     "output_type": "execute_result"
    },
    {
     "data": {
      "image/png": "[encoded data removed]",
      "text/plain": [
       "<Figure size 864x576 with 1 Axes>"
      ]
     },
     "metadata": {
      "needs_background": "light"
     },
     "output_type": "display_data"
    }
   ],
   "source": [
    "fig = plt.figure()\n",
    "plt1 = fig.add_subplot(111,  ylabel='Bitcoin Price in US $')\n",
    "df[['Close']].plot(ax=plt1, color='r', lw=2.)\n",
    "\n",
    "signal_df[['short_mav', 'long_mav']].plot(ax=plt1, lw=2., figsize=(12,8))\n",
    "plt1.plot(signal_df.loc[signal_df.positions == -1.0].index,signal_df.short_mav[signal_df.positions == -1.0],'v',                     markersize=10, color='k')\n",
    "plt1.plot(signal_df.loc[signal_df.positions == 1.0].index,signal_df.short_mav[signal_df.positions == 1.0],'^', markersize=10, color='m')         # Show the plotplt.show()\n"
   ]
  },
  {
   "cell_type": "code",
   "execution_count": 25,
   "id": "0588f980",
   "metadata": {},
   "outputs": [
    {
     "data": {
      "image/png": "[encoded data removed]",
      "text/plain": [
       "<Figure size 1584x432 with 1 Axes>"
      ]
     },
     "metadata": {},
     "output_type": "display_data"
    }
   ],
   "source": [
    "# set style, empty figure and axes\n",
    "plt.style.use('fivethirtyeight')\n",
    "fig = plt.figure(figsize=(22,6))\n",
    "ax = fig.add_subplot(111)\n",
    "\n",
    "# Get index values for the X axis \n",
    "x_axis = df.index.get_level_values(0)\n",
    "\n",
    "# Plot shaded 21 Day Bollinger Band \n",
    "ax.fill_between(x_axis, df['Upper Band_2'], df['Lower Band_2'], color='grey')\n",
    "\n",
    "# Plot Adjust Closing Price and Moving Averages\n",
    "ax.plot(x_axis, df['Close'], color='blue', label = 'Price', lw=2)\n",
    "ax.plot(x_axis, df['20_min_sma_close'], color='black', label = '20_min_sma_close', lw=2)\n",
    "\n",
    "plt.scatter(df.index, buy, marker = '^', color = 'green', label = 'BUY', s = 200)\n",
    "\n",
    "plt.scatter(df.index, sell, marker = 'v', color = 'red', label = 'SELL', s = 200)\n",
    "# Set Title & Show the Image\n",
    "ax.set_title('20 min Bollinger Band For Bitcoin')\n",
    "ax.set_xlabel('Date/Time')\n",
    "ax.set_ylabel('Price(USD)')\n",
    "ax.legend()\n",
    "plt.show();"
   ]
  },
  {
   "cell_type": "code",
   "execution_count": null,
   "id": "47979a72",
   "metadata": {},
   "outputs": [],
   "source": [
    "df.isnull().sum().sum()"
   ]
  },
  {
   "cell_type": "code",
   "execution_count": null,
   "id": "ea7a7881",
   "metadata": {},
   "outputs": [],
   "source": [
    "df.shape"
   ]
  },
  {
   "cell_type": "markdown",
   "id": "befebfce",
   "metadata": {},
   "source": [
    "# RESULTS: QUANTIFIED AUTOMATED TRADING PERFORMANCE"
   ]
  },
  {
   "cell_type": "code",
   "execution_count": 26,
   "id": "00296ec2",
   "metadata": {},
   "outputs": [],
   "source": [
    "# initial trading capital\n",
    "trad_capital= float(1000)\n",
    "\n",
    "positions = pd.DataFrame(index=signal_df.index).fillna(0.0)\n",
    "\n",
    "#Buy a 1000 USD in Bitcoins\n",
    "positions['Position ($)'] = signal_df['signal']\n",
    "\n",
    "portfolio = positions.multiply(df['Close'], axis = 0)\n",
    "\n",
    "pos_diff = positions.diff()\n",
    "\n",
    "portfolio['holdings'] = (positions.multiply(df['Close'], axis = 0)).sum(axis = 1)\n",
    "\n",
    "portfolio['cash'] = trad_capital - (pos_diff.multiply(df['Close'],axis = 0)).sum(axis = 1).cumsum()\n",
    "\n",
    "portfolio['total'] = portfolio['cash'] + portfolio['holdings']"
   ]
  },
  {
   "cell_type": "code",
   "execution_count": 27,
   "id": "eb13bd16",
   "metadata": {},
   "outputs": [
    {
     "data": {
      "text/html": [
       "<div>\n",
       "<style scoped>\n",
       "    .dataframe tbody tr th:only-of-type {\n",
       "        vertical-align: middle;\n",
       "    }\n",
       "\n",
       "    .dataframe tbody tr th {\n",
       "        vertical-align: top;\n",
       "    }\n",
       "\n",
       "    .dataframe thead th {\n",
       "        text-align: right;\n",
       "    }\n",
       "</style>\n",
       "<table border=\"1\" class=\"dataframe\">\n",
       "  <thead>\n",
       "    <tr style=\"text-align: right;\">\n",
       "      <th></th>\n",
       "      <th>signal</th>\n",
       "      <th>short_mav</th>\n",
       "      <th>long_mav</th>\n",
       "      <th>positions</th>\n",
       "    </tr>\n",
       "    <tr>\n",
       "      <th>Date</th>\n",
       "      <th></th>\n",
       "      <th></th>\n",
       "      <th></th>\n",
       "      <th></th>\n",
       "    </tr>\n",
       "  </thead>\n",
       "  <tbody>\n",
       "    <tr>\n",
       "      <th>2020-04-09 00:00:00</th>\n",
       "      <td>0.0</td>\n",
       "      <td>7350.4100</td>\n",
       "      <td>7350.4100</td>\n",
       "      <td>NaN</td>\n",
       "    </tr>\n",
       "    <tr>\n",
       "      <th>2020-04-08 23:59:00</th>\n",
       "      <td>0.0</td>\n",
       "      <td>7360.0050</td>\n",
       "      <td>7360.0050</td>\n",
       "      <td>0.0</td>\n",
       "    </tr>\n",
       "    <tr>\n",
       "      <th>2020-04-08 23:58:00</th>\n",
       "      <td>0.0</td>\n",
       "      <td>7361.4600</td>\n",
       "      <td>7361.4600</td>\n",
       "      <td>0.0</td>\n",
       "    </tr>\n",
       "    <tr>\n",
       "      <th>2020-04-08 23:57:00</th>\n",
       "      <td>0.0</td>\n",
       "      <td>7361.3175</td>\n",
       "      <td>7361.3175</td>\n",
       "      <td>0.0</td>\n",
       "    </tr>\n",
       "    <tr>\n",
       "      <th>2020-04-08 23:56:00</th>\n",
       "      <td>0.0</td>\n",
       "      <td>7360.5780</td>\n",
       "      <td>7360.5780</td>\n",
       "      <td>0.0</td>\n",
       "    </tr>\n",
       "  </tbody>\n",
       "</table>\n",
       "</div>"
      ],
      "text/plain": [
       "                     signal  short_mav   long_mav  positions\n",
       "Date                                                        \n",
       "2020-04-09 00:00:00     0.0  7350.4100  7350.4100        NaN\n",
       "2020-04-08 23:59:00     0.0  7360.0050  7360.0050        0.0\n",
       "2020-04-08 23:58:00     0.0  7361.4600  7361.4600        0.0\n",
       "2020-04-08 23:57:00     0.0  7361.3175  7361.3175        0.0\n",
       "2020-04-08 23:56:00     0.0  7360.5780  7360.5780        0.0"
      ]
     },
     "execution_count": 27,
     "metadata": {},
     "output_type": "execute_result"
    }
   ],
   "source": [
    "signal_df.head()"
   ]
  },
  {
   "cell_type": "code",
   "execution_count": 28,
   "id": "63f9fcf5",
   "metadata": {},
   "outputs": [],
   "source": [
    "portfolio ['returns'] = portfolio['total'].pct_change()"
   ]
  },
  {
   "cell_type": "code",
   "execution_count": 30,
   "id": "5142006a",
   "metadata": {},
   "outputs": [
    {
     "name": "stdout",
     "output_type": "stream",
     "text": [
      "                     holdings    cash   total  returns\n",
      "Date                                                  \n",
      "2020-04-09 00:00:00       0.0  1000.0  1000.0      NaN\n",
      "2020-04-08 23:59:00       0.0  1000.0  1000.0      0.0\n",
      "2020-04-08 23:58:00       0.0  1000.0  1000.0      0.0\n",
      "2020-04-08 23:57:00       0.0  1000.0  1000.0      0.0\n",
      "2020-04-08 23:56:00       0.0  1000.0  1000.0      0.0\n",
      "                     holdings           cash          total  returns\n",
      "Date                                                                \n",
      "2015-10-08 13:44:00       0.0 -129681.296036 -129681.296036      0.0\n",
      "2015-10-08 13:43:00       0.0 -129681.296036 -129681.296036      0.0\n",
      "2015-10-08 13:42:00       0.0 -129681.296036 -129681.296036      0.0\n",
      "2015-10-08 13:41:00       0.0 -129681.296036 -129681.296036      0.0\n",
      "2015-10-08 13:40:00       0.0 -129681.296036 -129681.296036      0.0\n"
     ]
    }
   ],
   "source": [
    "del portfolio['Position ($)']\n",
    "\n",
    "print(portfolio.head())\n",
    "print(portfolio.tail())"
   ]
  },
  {
   "cell_type": "code",
   "execution_count": 31,
   "id": "45b9552a",
   "metadata": {},
   "outputs": [
    {
     "data": {
      "image/png": "[encoded data removed]",
      "text/plain": [
       "<Figure size 1440x1080 with 1 Axes>"
      ]
     },
     "metadata": {},
     "output_type": "display_data"
    }
   ],
   "source": [
    "fig = plt.figure(figsize =(20,15))\n",
    "\n",
    "ax1 = fig.add_subplot(111, ylabel='Portfolio value in $')\n",
    "\n",
    "portfolio['total'].plot(ax=ax1, lw=2.)\n",
    "\n",
    "ax1.plot(portfolio.loc[signal_df.positions == 1.0].index,portfolio.total[signal_df.positions == 1.0], '^', markersize = 20, color = 'g')\n",
    "\n",
    "ax1.plot(portfolio.loc[signal_df.positions == -1.0].index,portfolio.total[signal_df.positions == -1.0], 'v', markersize = 20, color = 'r')\n",
    "\n",
    "plt.show()"
   ]
  },
  {
   "cell_type": "code",
   "execution_count": 33,
   "id": "d93b2f94",
   "metadata": {},
   "outputs": [
    {
     "name": "stdout",
     "output_type": "stream",
     "text": [
      "Portfolio Total Value as of 2015-10-08 \n",
      "Date\n",
      "2015-10-08 13:40:00   -129681.296036\n",
      "Name: total, dtype: float64\n",
      "Absolute return as of 2018-11-29 \n",
      "Date\n",
      "2020-04-09    0.0\n",
      "Name: total, dtype: float64\n"
     ]
    }
   ],
   "source": [
    "print('Portfolio Total Value as of 2015-10-08 ')\n",
    "print(portfolio['total'].tail(1))\n",
    "\n",
    "print('Absolute return as of 2018-11-29 ')\n",
    "\n",
    "print((((portfolio['total'].head(1)/float(1000)) - float(1))*100))"
   ]
  },
  {
   "cell_type": "code",
   "execution_count": null,
   "id": "a06ac56f",
   "metadata": {},
   "outputs": [],
   "source": [
    "# replacing all the missing values with 0\n",
    "df.dropna(inplace = True)"
   ]
  },
  {
   "cell_type": "markdown",
   "id": "58d3285e",
   "metadata": {},
   "source": [
    "# Arima Model"
   ]
  },
  {
   "cell_type": "markdown",
   "id": "0c1302ab",
   "metadata": {},
   "source": [
    "### First, Check for stationarity"
   ]
  },
  {
   "cell_type": "code",
   "execution_count": null,
   "id": "ccdf18e0",
   "metadata": {},
   "outputs": [],
   "source": [
    "result = adfuller(df['Close'])\n",
    "print('ADF Statistic: %f' % result[0])\n",
    "print('p-value: %f' % result[1])"
   ]
  }
 ],
 "metadata": {
  "kernelspec": {
   "display_name": "Python 3",
   "language": "python",
   "name": "python3"
  },
  "language_info": {
   "codemirror_mode": {
    "name": "ipython",
    "version": 3
   },
   "file_extension": ".py",
   "mimetype": "text/x-python",
   "name": "python",
   "nbconvert_exporter": "python",
   "pygments_lexer": "ipython3",
   "version": "3.8.8"
  }
 },
 "nbformat": 4,
 "nbformat_minor": 5
}
